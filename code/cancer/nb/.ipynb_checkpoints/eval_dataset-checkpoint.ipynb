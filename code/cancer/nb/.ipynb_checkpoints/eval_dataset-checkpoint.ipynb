{
 "cells": [
  {
   "cell_type": "code",
   "execution_count": 1,
   "metadata": {},
   "outputs": [],
   "source": [
    "PROJECT_PATH = '../..'\n",
    "DATASET_PATH = '/home/swei20/cancerHH/AceCanZ/data/bki'\n",
    "# DATASET_PATH = '/scratch/ceph/dobos/data/pfsspec/train/stellar/grid/bosz_hires_test'"
   ]
  },
  {
   "cell_type": "code",
   "execution_count": 2,
   "metadata": {},
   "outputs": [],
   "source": [
    "import os\n",
    "import sys\n",
    "import numpy as np\n",
    "import matplotlib.pyplot as plt\n",
    "from matplotlib.ticker import AutoMinorLocator, MultipleLocator"
   ]
  },
  {
   "cell_type": "code",
   "execution_count": 3,
   "metadata": {},
   "outputs": [],
   "source": [
    "sys.path.insert(0, PROJECT_PATH)"
   ]
  },
  {
   "cell_type": "code",
   "execution_count": 4,
   "metadata": {},
   "outputs": [
    {
     "data": {
      "text/plain": [
       "'/home/swei20/cancerHH/AceCanZ/code/cancer/nb'"
      ]
     },
     "execution_count": 4,
     "metadata": {},
     "output_type": "execute_result"
    }
   ],
   "source": [
    "os.getcwd()"
   ]
  },
  {
   "cell_type": "code",
   "execution_count": 5,
   "metadata": {},
   "outputs": [],
   "source": [
    "from cancer.prepro.data.dataset import Dataset\n",
    "# from pfsspec.obsmod.spectrum import Spectrum"
   ]
  },
  {
   "cell_type": "code",
   "execution_count": 24,
   "metadata": {},
   "outputs": [],
   "source": [
    "ds=Dataset(DATASET_PATH,2)"
   ]
  },
  {
   "cell_type": "code",
   "execution_count": 25,
   "metadata": {},
   "outputs": [],
   "source": [
    "loader_fn=ds.loader(True,True,[2,2,0])"
   ]
  },
  {
   "cell_type": "code",
   "execution_count": 26,
   "metadata": {},
   "outputs": [],
   "source": [
    "cov=ds.load(loader_fn, True)"
   ]
  },
  {
   "cell_type": "code",
   "execution_count": 27,
   "metadata": {},
   "outputs": [
    {
     "data": {
      "text/plain": [
       "<matplotlib.image.AxesImage at 0x7f400ca426d0>"
      ]
     },
     "execution_count": 27,
     "metadata": {},
     "output_type": "execute_result"
    },
    {
     "data": {
      "image/png": "[encoded data removed]",
      "text/plain": [
       "<Figure size 288x288 with 1 Axes>"
      ]
     },
     "metadata": {
      "needs_background": "light"
     },
     "output_type": "display_data"
    }
   ],
   "source": [
    "plt.matshow(cov)"
   ]
  },
  {
   "cell_type": "code",
   "execution_count": 23,
   "metadata": {},
   "outputs": [],
   "source": [
    "import os\n",
    "import numpy as np\n",
    "import logging\n",
    "from scipy.ndimage import gaussian_filter\n",
    "from concurrent.futures import ThreadPoolExecutor, as_completed\n",
    "\n",
    "#os.environ['DATASET_PATH'] = r'../../../../../../bki/flatw/M21_1/'\n",
    "\n",
    "class Dataset():\n",
    "    def __init__(self, fileDir, num, size = [1004,1344,35]):\n",
    "        self.size = size\n",
    "        self.ver, self.hor, self.layer = self.size\n",
    "        self.data = {}\n",
    "        self.filePath=None\n",
    "        self.num=num\n",
    "        self.ini=0\n",
    "        self.cov=None\n",
    "\n",
    "        # ===========================  INITIATING  ================================\n",
    "        self.get_file_path(fileDir)\n",
    "\n",
    "        # ===========================  FUNCTIONS  ================================\n",
    "\n",
    "    def get_file_path(self, fileDir):\n",
    "        filePath = [os.path.join(fileDir, f) for f in os.listdir(fileDir) if f.endswith('.fw')]\n",
    "        self.filePath = filePath[self.ini:self.ini + self.num]\n",
    "        logging.info(\"  Loading # {} image(s) \".format(len(self.filePath)))\n",
    "    \n",
    "    def load_ith_item(self,idx, isTest=False, isSmooth=True, smooth_sig=None):\n",
    "        with open(self.filePath[idx],'rb') as f_id:\n",
    "            img = np.fromfile(f_id, count=np.prod(self.size),dtype = np.uint16)\n",
    "            img = np.reshape(img, self.size)\n",
    " \n",
    "            if isTest:\n",
    "                self.ver, self.hor = 400, 300              \n",
    "                img = img[-self.ver:,-self.hor:,:]\n",
    "            logging.info(\"Loaded dataset with shapes: {} {}\".format(self.ver,self.hor))\n",
    "\n",
    "            if isSmooth: \n",
    "                img=gaussian_filter(img,sigma=smooth_sig)\n",
    "                logging.info(\"  Smoothing with sigma:  {}\".format(smooth_sig))\n",
    "                img= np.reshape(img, [self.ver*self.hor, self.layer]).astype('float')\n",
    "                self.data[idx]=img\n",
    "        return img.T.dot(img)\n",
    "\n",
    "    def loader(self, isTest, isSmooth, smooth_sig=None):\n",
    "        return lambda x: self.load_ith_item(x, isTest, isSmooth, smooth_sig)\n",
    "     \n",
    "    def load(self, loader, parallel=True):\n",
    "        with ThreadPoolExecutor() as executor: \n",
    "                futures = []\n",
    "                for idx in range(self.num):\n",
    "                    futures.append(executor.submit(loader, idx))\n",
    "                    # print(f\" No.{idx} image is loaded\")\n",
    "                self.cov = np.zeros([self.layer,self.layer])\n",
    "                for future in as_completed(futures):\n",
    "                    mul = future.result()\n",
    "                    self.cov += mul\n"
   ]
  },
  {
   "cell_type": "code",
   "execution_count": null,
   "metadata": {},
   "outputs": [],
   "source": []
  }
 ],
 "metadata": {
  "kernelspec": {
   "display_name": "Python 3.8.2 64-bit ('ptorch': conda)",
   "language": "python",
   "name": "python38264bitptorchconda526be3fe34db4c6e9ce522e086b57990"
  },
  "language_info": {
   "codemirror_mode": {
    "name": "ipython",
    "version": 3
   },
   "file_extension": ".py",
   "mimetype": "text/x-python",
   "name": "python",
   "nbconvert_exporter": "python",
   "pygments_lexer": "ipython3",
   "version": "3.8.2"
  }
 },
 "nbformat": 4,
 "nbformat_minor": 4
}
