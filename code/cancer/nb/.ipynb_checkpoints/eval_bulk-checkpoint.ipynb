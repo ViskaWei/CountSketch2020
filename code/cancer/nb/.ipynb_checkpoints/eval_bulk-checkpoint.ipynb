{
 "cells": [
  {
   "cell_type": "code",
   "execution_count": 1,
   "metadata": {},
   "outputs": [],
   "source": [
    "PROJECT_PATH = '../..'\n",
    "DATASET_PATH = '/home/swei20/cancerHH/AceCanZ/runs/test/testBulkVecs.txt'\n",
    "# DATASET_PATH = '/scratch/ceph/dobos/data/pfsspec/train/stellar/grid/bosz_hires_test'"
   ]
  },
  {
   "cell_type": "code",
   "execution_count": 2,
   "metadata": {},
   "outputs": [],
   "source": [
    "import os\n",
    "import sys\n",
    "import numpy as np\n",
    "import pandas as pd\n",
    "import matplotlib.pyplot as plt\n",
    "from matplotlib.ticker import AutoMinorLocator, MultipleLocator"
   ]
  },
  {
   "cell_type": "code",
   "execution_count": 3,
   "metadata": {},
   "outputs": [],
   "source": [
    "sys.path.insert(0, PROJECT_PATH)"
   ]
  },
  {
   "cell_type": "code",
   "execution_count": 4,
   "metadata": {},
   "outputs": [
    {
     "data": {
      "text/plain": [
       "'/home/swei20/cancerHH/AceCanZ/code/cancer/nb'"
      ]
     },
     "execution_count": 4,
     "metadata": {},
     "output_type": "execute_result"
    }
   ],
   "source": [
    "os.getcwd()"
   ]
  },
  {
   "cell_type": "code",
   "execution_count": 5,
   "metadata": {},
   "outputs": [],
   "source": [
    "from cancer.prepro.data.bulk import Bulk\n",
    "# from pfsspec.obsmod.spectrum import Spectrum"
   ]
  },
  {
   "cell_type": "code",
   "execution_count": 6,
   "metadata": {},
   "outputs": [],
   "source": [
    "vecs=np.loadtxt(DATASET_PATH)"
   ]
  },
  {
   "cell_type": "code",
   "execution_count": 9,
   "metadata": {},
   "outputs": [
    {
     "data": {
      "text/plain": [
       "(240000, 8)"
      ]
     },
     "execution_count": 9,
     "metadata": {},
     "output_type": "execute_result"
    }
   ],
   "source": [
    "vecs.shape"
   ]
  },
  {
   "cell_type": "code",
   "execution_count": 11,
   "metadata": {},
   "outputs": [
    {
     "data": {
      "text/plain": [
       "8"
      ]
     },
     "execution_count": 11,
     "metadata": {},
     "output_type": "execute_result"
    }
   ],
   "source": [
    "len(vecs[0])"
   ]
  },
  {
   "cell_type": "code",
   "execution_count": 93,
   "metadata": {},
   "outputs": [],
   "source": [
    "import logging\n",
    "import numpy as np\n",
    "import pandas as pd\n",
    "import collections\n",
    "\n",
    "class Bulk():\n",
    "    def __init__(self, vecs):\n",
    "        self.vecs=vecs\n",
    "        self.nDim=len(vecs[0])\n",
    "    \n",
    "    def get_intensity(self):\n",
    "        intensity = (np.sum(self.vecs**2, axis = 1))**0.5\n",
    "        return intensity\n",
    "    \n",
    "    def get_cutoff(self, intensity, N_bins = 100, N_sigma = 3):\n",
    "        para = np.log(intensity[intensity > 1])\n",
    "        (x,y) = np.histogram(para, bins = N_bins)\n",
    "        y = (y[1]-y[0])/2 + y[:-1]\n",
    "        assert len(x) == len(y)\n",
    "        x_max =  np.max(x)\n",
    "        x_half = x_max//2\n",
    "        mu = y[x == x_max]\n",
    "        sigma = abs(y[abs(x - x_half).argmin()] -mu)\n",
    "        cutoff_log = N_sigma* sigma + mu\n",
    "        cutoff = np.exp(cutoff_log).round()\n",
    "        return cutoff\n",
    "    \n",
    "    def get_min_max_norm(self, df):\n",
    "        vmin,vmax=df.min().min(), df.max().max()\n",
    "        df_norm=((df-vmin)/(vmax-vmin))\n",
    "        assert ((df_norm>=0) & (df_norm<=1)).all().all()\n",
    "        return df_norm\n",
    "\n",
    "    def get_unit_ball(self, intensity, cut):\n",
    "        mask = intensity > cut\n",
    "        logging.info('stream length m = {}'.format(np.sum(mask)))\n",
    "        mask=mask.astype('bool')\n",
    "        intensityCut=intensity[mask]\n",
    "        df_pca=pd.DataFrame(self.vecs[mask],columns=[f'd{i}' for i in range(self.nDim)])\n",
    "        df_unit= np.divide(df_pca, intensityCut[:,None])\n",
    "        df_norm=self.get_min_max_norm(df_unit)\n",
    "        return df_norm, mask\n",
    "    \n",
    "    def get_unit_ball_2(self, intensity, cut):\n",
    "        mask = intensity > cut\n",
    "        logging.info('stream length m = {}'.format(np.sum(mask)))\n",
    "        mask=mask.astype('bool')\n",
    "        intensityCut=intensity[mask]\n",
    "        df_pca=pd.DataFrame(self.vecs[mask],columns=[f'd{i}' for i in range(self.nDim)])\n",
    "        df_uni= np.divide(df_pca, intensityCut[:,None])\n",
    "        df_norm=get_minmax_pd(df_uni,r=r, vmin=None, vmax=None)\n",
    "        if ONPCA:\n",
    "            df_p2=get_col_norm_pd(df_pca[[1,2]],r=r,w=False,std=False)\n",
    "            df_norm=pd.concat([df_p2,df_norm],axis=1)\n",
    "        if ONINT: \n",
    "            intensityCut=(intensityCut-np.mean(intensityCut))/np.std(intensityCut)\n",
    "            df_inten=pd.DataFrame(intensityCut, columns=['int'])\n",
    "            df_inten=get_col_norm_pd(df_inten,r=r,w=False,std=False)\n",
    "            df_norm=pd.concat([df_inten,df_norm],axis=1)\n",
    "        ftr_len=len(df_norm.keys())\n",
    "        print(df_norm)\n",
    "        df_norm=pd.DataFrame(df_norm.values, columns=list(range(ftr_len)))\n",
    "        return df_norm, mask, ftr_len"
   ]
  },
  {
   "cell_type": "code",
   "execution_count": 94,
   "metadata": {},
   "outputs": [],
   "source": [
    "bulk= Bulk(vecs)"
   ]
  },
  {
   "cell_type": "code",
   "execution_count": 96,
   "metadata": {},
   "outputs": [],
   "source": [
    "def run_step_ball(self):\n",
    "    bulk=Bulk(self.vecs)\n",
    "    intensity=bulk.get_intensity()\n",
    "    if self.cutoff is None:\n",
    "        self.cutoff = bulk.get_cutoff(intensity)\n",
    "        pickle.dump(cut,open(f'{self.out}/cutoff.txt','wb'))\n",
    "    logging.info(\" cutoff @:  {}\".format(self.cutoff))\n",
    "    return intensity\n",
    "#     bulk.get_unit_ball(intensity, self.cutoff)"
   ]
  },
  {
   "cell_type": "code",
   "execution_count": 105,
   "metadata": {},
   "outputs": [],
   "source": [
    "class merp():\n",
    "    vecs=vecs\n",
    "    cutoff=300\n",
    "    nDim=8\n",
    "    get_min_max_norm=bulk.get_min_max_norm\n",
    "self=merp()    "
   ]
  },
  {
   "cell_type": "code",
   "execution_count": 98,
   "metadata": {},
   "outputs": [],
   "source": [
    "intensity=run_step_ball(self)"
   ]
  },
  {
   "cell_type": "code",
   "execution_count": 99,
   "metadata": {},
   "outputs": [
    {
     "data": {
      "text/plain": [
       "(240000,)"
      ]
     },
     "execution_count": 99,
     "metadata": {},
     "output_type": "execute_result"
    }
   ],
   "source": [
    "intensity.shape"
   ]
  },
  {
   "cell_type": "code",
   "execution_count": 100,
   "metadata": {},
   "outputs": [],
   "source": [
    "cut=300"
   ]
  },
  {
   "cell_type": "code",
   "execution_count": 106,
   "metadata": {},
   "outputs": [],
   "source": []
  },
  {
   "cell_type": "code",
   "execution_count": null,
   "metadata": {},
   "outputs": [],
   "source": []
  },
  {
   "cell_type": "code",
   "execution_count": null,
   "metadata": {},
   "outputs": [],
   "source": []
  },
  {
   "cell_type": "code",
   "execution_count": 58,
   "metadata": {},
   "outputs": [],
   "source": [
    "def get_unit_ball(self, intensity, cut):\n",
    "    mask = intensity > cut\n",
    "    logging.info('stream length m = {}'.format(np.sum(mask)))\n",
    "    mask=mask.astype('bool')\n",
    "    intensityCut=intensity[mask]\n",
    "    df_pca=pd.DataFrame(self.vecs[mask],columns=[f'd{i}' for i in range(self.nDim)])\n",
    "    df_unit= np.divide(df_pca, intensityCut[:,None])\n",
    "    df_norm=self.get_min_max_norm(df_unit)\n",
    "    return df_norm, mask\n"
   ]
  },
  {
   "cell_type": "code",
   "execution_count": null,
   "metadata": {},
   "outputs": [],
   "source": [
    "def get_minmax_pd(df,r=0.01, vmin=None, vmax=None): \n",
    "    if vmin is None: vmin=np.min(df.quantile(r))\n",
    "    if vmax is None: vmax=np.max(df.quantile(1-r))\n",
    "    print('full min max',vmin,vmax )\n",
    "    df_norm=((df-vmin)/(vmax-vmin)).clip(0,1)\n",
    "    return df_norm"
   ]
  },
  {
   "cell_type": "code",
   "execution_count": null,
   "metadata": {},
   "outputs": [],
   "source": []
  },
  {
   "cell_type": "code",
   "execution_count": null,
   "metadata": {},
   "outputs": [],
   "source": []
  },
  {
   "cell_type": "code",
   "execution_count": 16,
   "metadata": {},
   "outputs": [
    {
     "data": {
      "text/plain": [
       "<matplotlib.image.AxesImage at 0x7f8e347ffe80>"
      ]
     },
     "execution_count": 16,
     "metadata": {},
     "output_type": "execute_result"
    },
    {
     "data": {
      "image/png": "[encoded data removed]",
      "text/plain": [
       "<Figure size 288x1152 with 1 Axes>"
      ]
     },
     "metadata": {
      "needs_background": "light"
     },
     "output_type": "display_data"
    }
   ],
   "source": [
    "plt.matshow(vecs, aspect='auto')"
   ]
  },
  {
   "cell_type": "code",
   "execution_count": 67,
   "metadata": {},
   "outputs": [
    {
     "data": {
      "text/plain": [
       "1349376.0"
      ]
     },
     "execution_count": 67,
     "metadata": {},
     "output_type": "execute_result"
    }
   ],
   "source": [
    "21590016/8/2"
   ]
  },
  {
   "cell_type": "code",
   "execution_count": 69,
   "metadata": {},
   "outputs": [
    {
     "data": {
      "text/plain": [
       "array([[[-1.87693111e+03,  6.52560523e+02, -4.56831015e+01, ...,\n",
       "          4.38896154e+01, -5.37359559e+00,  2.36737335e+01],\n",
       "        [-1.84941826e+03,  6.35793432e+02, -3.88695559e+01, ...,\n",
       "          4.36853699e+01, -4.81026918e+00,  2.42646334e+01],\n",
       "        [-1.80261584e+03,  6.07067484e+02, -2.89233222e+01, ...,\n",
       "          4.24540503e+01, -3.54297262e+00,  2.48704392e+01],\n",
       "        ...,\n",
       "        [-2.01557364e+02, -1.96218408e+02,  2.81443681e+01, ...,\n",
       "         -8.15110172e+00, -1.59010492e+00, -1.08358121e+00],\n",
       "        [-9.54013458e+01, -9.39212404e+01,  1.23074195e+01, ...,\n",
       "         -3.92536374e+00, -1.25683210e+00, -4.74096922e-01],\n",
       "        [-4.39473292e+01, -4.46805283e+01,  5.83392998e+00, ...,\n",
       "         -2.05624969e+00, -6.08360826e-01,  2.04494770e-01]],\n",
       "\n",
       "       [[-2.58074641e+02, -2.14236260e+01,  1.02073260e+01, ...,\n",
       "          1.57146992e+01,  2.52817189e+01, -4.75134350e+00],\n",
       "        [-2.58994485e+02, -1.97003400e+01,  8.47914530e+00, ...,\n",
       "          1.51254755e+01,  2.55126337e+01, -5.43776286e+00],\n",
       "        [-2.59476091e+02, -1.76505965e+01,  6.84611789e+00, ...,\n",
       "          1.51136048e+01,  2.49330931e+01, -5.55062519e+00],\n",
       "        ...,\n",
       "        [-1.44176813e+01, -3.44656661e+00,  9.07778964e-01, ...,\n",
       "          6.18949732e-01,  1.90327830e+00, -1.08431322e+00],\n",
       "        [-5.58740563e+00, -1.94495593e+00,  4.79389053e-01, ...,\n",
       "          6.42847959e-01,  4.16425214e-01,  3.11672559e-01],\n",
       "        [-4.34150237e-01, -7.95052911e-01,  5.29993762e-02, ...,\n",
       "         -3.93323227e-03,  1.24576767e-01,  3.87782039e-01]]])"
      ]
     },
     "execution_count": 69,
     "metadata": {},
     "output_type": "execute_result"
    }
   ],
   "source": [
    "vecs.reshape([2,120000,8])"
   ]
  },
  {
   "cell_type": "code",
   "execution_count": null,
   "metadata": {},
   "outputs": [],
   "source": []
  },
  {
   "cell_type": "code",
   "execution_count": 72,
   "metadata": {},
   "outputs": [],
   "source": [
    "ftr_pd=pd.DataFrame(vecs, columns=[f'd{i}' for i in range(8)])"
   ]
  },
  {
   "cell_type": "code",
   "execution_count": 73,
   "metadata": {},
   "outputs": [
    {
     "data": {
      "text/html": [
       "<div>\n",
       "<style scoped>\n",
       "    .dataframe tbody tr th:only-of-type {\n",
       "        vertical-align: middle;\n",
       "    }\n",
       "\n",
       "    .dataframe tbody tr th {\n",
       "        vertical-align: top;\n",
       "    }\n",
       "\n",
       "    .dataframe thead th {\n",
       "        text-align: right;\n",
       "    }\n",
       "</style>\n",
       "<table border=\"1\" class=\"dataframe\">\n",
       "  <thead>\n",
       "    <tr style=\"text-align: right;\">\n",
       "      <th></th>\n",
       "      <th>d0</th>\n",
       "      <th>d1</th>\n",
       "      <th>d2</th>\n",
       "      <th>d3</th>\n",
       "      <th>d4</th>\n",
       "      <th>d5</th>\n",
       "      <th>d6</th>\n",
       "      <th>d7</th>\n",
       "    </tr>\n",
       "  </thead>\n",
       "  <tbody>\n",
       "    <tr>\n",
       "      <th>count</th>\n",
       "      <td>240000.000000</td>\n",
       "      <td>240000.000000</td>\n",
       "      <td>240000.000000</td>\n",
       "      <td>240000.000000</td>\n",
       "      <td>240000.000000</td>\n",
       "      <td>240000.000000</td>\n",
       "      <td>240000.000000</td>\n",
       "      <td>240000.000000</td>\n",
       "    </tr>\n",
       "    <tr>\n",
       "      <th>mean</th>\n",
       "      <td>-1083.041915</td>\n",
       "      <td>33.235499</td>\n",
       "      <td>56.425526</td>\n",
       "      <td>29.727240</td>\n",
       "      <td>-18.819298</td>\n",
       "      <td>6.549170</td>\n",
       "      <td>21.071821</td>\n",
       "      <td>-7.820238</td>\n",
       "    </tr>\n",
       "    <tr>\n",
       "      <th>std</th>\n",
       "      <td>1275.677093</td>\n",
       "      <td>536.669201</td>\n",
       "      <td>354.028093</td>\n",
       "      <td>249.070954</td>\n",
       "      <td>85.233085</td>\n",
       "      <td>71.294226</td>\n",
       "      <td>31.880776</td>\n",
       "      <td>26.568989</td>\n",
       "    </tr>\n",
       "    <tr>\n",
       "      <th>min</th>\n",
       "      <td>-9592.322260</td>\n",
       "      <td>-6997.988837</td>\n",
       "      <td>-3815.818956</td>\n",
       "      <td>-3244.874759</td>\n",
       "      <td>-2318.800622</td>\n",
       "      <td>-683.711331</td>\n",
       "      <td>-513.985805</td>\n",
       "      <td>-231.945968</td>\n",
       "    </tr>\n",
       "    <tr>\n",
       "      <th>25%</th>\n",
       "      <td>-1749.639288</td>\n",
       "      <td>-46.824897</td>\n",
       "      <td>27.305596</td>\n",
       "      <td>21.065585</td>\n",
       "      <td>-36.806875</td>\n",
       "      <td>3.436929</td>\n",
       "      <td>12.717264</td>\n",
       "      <td>-15.734147</td>\n",
       "    </tr>\n",
       "    <tr>\n",
       "      <th>50%</th>\n",
       "      <td>-240.753399</td>\n",
       "      <td>-43.411724</td>\n",
       "      <td>30.687767</td>\n",
       "      <td>24.158517</td>\n",
       "      <td>-33.693733</td>\n",
       "      <td>6.126903</td>\n",
       "      <td>34.253469</td>\n",
       "      <td>-13.744189</td>\n",
       "    </tr>\n",
       "    <tr>\n",
       "      <th>75%</th>\n",
       "      <td>-203.854927</td>\n",
       "      <td>188.865877</td>\n",
       "      <td>48.982791</td>\n",
       "      <td>28.987882</td>\n",
       "      <td>4.131963</td>\n",
       "      <td>8.877823</td>\n",
       "      <td>36.634893</td>\n",
       "      <td>-2.308277</td>\n",
       "    </tr>\n",
       "    <tr>\n",
       "      <th>max</th>\n",
       "      <td>-0.434150</td>\n",
       "      <td>2174.868871</td>\n",
       "      <td>2366.328985</td>\n",
       "      <td>2282.099469</td>\n",
       "      <td>304.852505</td>\n",
       "      <td>614.461681</td>\n",
       "      <td>189.371443</td>\n",
       "      <td>315.318971</td>\n",
       "    </tr>\n",
       "  </tbody>\n",
       "</table>\n",
       "</div>"
      ],
      "text/plain": [
       "                  d0             d1             d2             d3  \\\n",
       "count  240000.000000  240000.000000  240000.000000  240000.000000   \n",
       "mean    -1083.041915      33.235499      56.425526      29.727240   \n",
       "std      1275.677093     536.669201     354.028093     249.070954   \n",
       "min     -9592.322260   -6997.988837   -3815.818956   -3244.874759   \n",
       "25%     -1749.639288     -46.824897      27.305596      21.065585   \n",
       "50%      -240.753399     -43.411724      30.687767      24.158517   \n",
       "75%      -203.854927     188.865877      48.982791      28.987882   \n",
       "max        -0.434150    2174.868871    2366.328985    2282.099469   \n",
       "\n",
       "                  d4             d5             d6             d7  \n",
       "count  240000.000000  240000.000000  240000.000000  240000.000000  \n",
       "mean      -18.819298       6.549170      21.071821      -7.820238  \n",
       "std        85.233085      71.294226      31.880776      26.568989  \n",
       "min     -2318.800622    -683.711331    -513.985805    -231.945968  \n",
       "25%       -36.806875       3.436929      12.717264     -15.734147  \n",
       "50%       -33.693733       6.126903      34.253469     -13.744189  \n",
       "75%         4.131963       8.877823      36.634893      -2.308277  \n",
       "max       304.852505     614.461681     189.371443     315.318971  "
      ]
     },
     "execution_count": 73,
     "metadata": {},
     "output_type": "execute_result"
    }
   ],
   "source": [
    "ftr_pd.describe()"
   ]
  },
  {
   "cell_type": "code",
   "execution_count": null,
   "metadata": {},
   "outputs": [],
   "source": [
    "def run_step_cutoff(intensity, N_bins = 100, N_sigma = 3):\n",
    "    para = np.log(intensity[intensity > 1])\n",
    "    (x,y) = np.histogram(para, bins = N_bins)\n",
    "    y = (y[1]-y[0])/2 + y[:-1]\n",
    "    assert len(x) == len(y)\n",
    "    x_max =  np.max(x)\n",
    "    x_half = x_max//2\n",
    "    mu = y[x == x_max]\n",
    "    sigma = abs(y[abs(x - x_half).argmin()] -mu)\n",
    "    cutoff_log = N_sigma* sigma + mu\n",
    "    cutoff = np.exp(cutoff_log).round()\n",
    "    return cutoff"
   ]
  },
  {
   "cell_type": "code",
   "execution_count": null,
   "metadata": {},
   "outputs": [],
   "source": [
    "def process_intensity(pca_result, intensity, pca_comp, PREPRO_CUTOFF,ONPCA,ONINT,r=0.01,wdir='.'):\n",
    "    if PREPRO_CUTOFF:\n",
    "        # cut=np.mean(intensity)\n",
    "        cut = run_step_cutoff(intensity) \n",
    "        pickle.dump(cut,open(f'{wdir}/cutoff.txt','wb'))\n",
    "    else: \n",
    "        cut=pickle.load(open(f'{wdir}/cutoff.txt','rb')) \n",
    "    print('cutoff', cut)\n",
    "    mask = intensity > cut\n",
    "    print('norm length',np.sum(mask))\n",
    "    mask=mask.astype('bool')\n",
    "    intencut=intensity[mask]\n",
    "    df_pca=pd.DataFrame(pca_result[mask],columns=list(range(pca_comp)))\n",
    "    df_uni= np.divide(df_pca, intencut[:,None])\n",
    "    df_norm=get_minmax_pd(df_uni,r=r, vmin=None, vmax=None)\n",
    "    if ONPCA:\n",
    "        df_p2=get_col_norm_pd(df_pca[[1,2]],r=r,w=False,std=False)\n",
    "        df_norm=pd.concat([df_p2,df_norm],axis=1)\n",
    "    if ONINT: \n",
    "        intencut=(intencut-np.mean(intencut))/np.std(intencut)\n",
    "        df_inten=pd.DataFrame(intencut, columns=['int'])\n",
    "        df_inten=get_col_norm_pd(df_inten,r=r,w=False,std=False)\n",
    "        df_norm=pd.concat([df_inten,df_norm],axis=1)\n",
    "    ftr_len=len(df_norm.keys())\n",
    "    print(df_norm)\n",
    "    df_norm=pd.DataFrame(df_norm.values, columns=list(range(ftr_len)))\n",
    "    return df_norm, mask, ftr_len\n",
    "        "
   ]
  },
  {
   "cell_type": "code",
   "execution_count": 6,
   "metadata": {},
   "outputs": [
    {
     "data": {
      "text/plain": [
       "['d0', 'd1', 'd2', 'd3', 'd4', 'd5', 'd6', 'd7', 'd8', 'd9']"
      ]
     },
     "execution_count": 6,
     "metadata": {},
     "output_type": "execute_result"
    }
   ],
   "source": [
    "[f'd{i}' for i in range(10)]"
   ]
  },
  {
   "cell_type": "code",
   "execution_count": 4,
   "metadata": {},
   "outputs": [
    {
     "ename": "TypeError",
     "evalue": "can only concatenate str (not \"list\") to str",
     "output_type": "error",
     "traceback": [
      "\u001b[0;31m---------------------------------------------------------------------------\u001b[0m",
      "\u001b[0;31mTypeError\u001b[0m                                 Traceback (most recent call last)",
      "\u001b[0;32m<ipython-input-4-4e9c02c4d4cf>\u001b[0m in \u001b[0;36m<module>\u001b[0;34m\u001b[0m\n\u001b[0;32m----> 1\u001b[0;31m \u001b[0;34m'd'\u001b[0m \u001b[0;34m+\u001b[0m \u001b[0mlist\u001b[0m\u001b[0;34m(\u001b[0m\u001b[0mstr\u001b[0m\u001b[0;34m(\u001b[0m\u001b[0mrange\u001b[0m\u001b[0;34m(\u001b[0m\u001b[0;36m10\u001b[0m\u001b[0;34m)\u001b[0m\u001b[0;34m)\u001b[0m\u001b[0;34m)\u001b[0m\u001b[0;34m\u001b[0m\u001b[0;34m\u001b[0m\u001b[0m\n\u001b[0m",
      "\u001b[0;31mTypeError\u001b[0m: can only concatenate str (not \"list\") to str"
     ]
    }
   ],
   "source": [
    "'d' + list(str(range(10)))"
   ]
  }
 ],
 "metadata": {
  "kernelspec": {
   "display_name": "Python 3.8.2 64-bit ('ptorch': conda)",
   "language": "python",
   "name": "python38264bitptorchconda526be3fe34db4c6e9ce522e086b57990"
  },
  "language_info": {
   "codemirror_mode": {
    "name": "ipython",
    "version": 3
   },
   "file_extension": ".py",
   "mimetype": "text/x-python",
   "name": "python",
   "nbconvert_exporter": "python",
   "pygments_lexer": "ipython3",
   "version": "3.8.2"
  }
 },
 "nbformat": 4,
 "nbformat_minor": 4
}
