{
 "cells": [
  {
   "cell_type": "code",
   "execution_count": 1,
   "metadata": {},
   "outputs": [],
   "source": [
    "PROJECT_PATH = '../..'\n",
    "DATASET_PATH='/home/swei20/cancerHH/AceCanZ/data/cancer_data/pretrain/RF/n8/stream_b22.txt'\n",
    "# DATASET_PATH = '/scratch/ceph/dobos/data/pfsspec/train/stellar/grid/bosz_hires_test'"
   ]
  },
  {
   "cell_type": "code",
   "execution_count": 31,
   "metadata": {},
   "outputs": [],
   "source": [
    "import os\n",
    "import sys\n",
    "import numpy as np\n",
    "import pandas as pd\n",
    "import copy\n",
    "from collections import Counter\n",
    "import warnings\n",
    "warnings.simplefilter(\"ignore\")\n",
    "import matplotlib.pyplot as plt\n",
    "from matplotlib.ticker import AutoMinorLocator, MultipleLocator"
   ]
  },
  {
   "cell_type": "code",
   "execution_count": 3,
   "metadata": {},
   "outputs": [],
   "source": [
    "sys.path.insert(0, PROJECT_PATH)"
   ]
  },
  {
   "cell_type": "code",
   "execution_count": 32,
   "metadata": {},
   "outputs": [],
   "source": [
    "# from cancer.prepro.data.dataset import Dataset\n",
    "from util.HH import *\n",
    "from util.prepro import horner_decode\n",
    "from util.csvec import CSVec"
   ]
  },
  {
   "cell_type": "code",
   "execution_count": 4,
   "metadata": {},
   "outputs": [],
   "source": [
    "stream=np.loadtxt(DATASET_PATH)"
   ]
  },
  {
   "cell_type": "code",
   "execution_count": 142,
   "metadata": {},
   "outputs": [],
   "source": [
    "stream_len=stream.shape[0]"
   ]
  },
  {
   "cell_type": "code",
   "execution_count": 15,
   "metadata": {},
   "outputs": [],
   "source": [
    "topk=2000\n",
    "base=22\n",
    "ftr_len=8\n",
    "dtype='uint64'\n",
    "EXACT=True"
   ]
  },
  {
   "cell_type": "code",
   "execution_count": 16,
   "metadata": {},
   "outputs": [
    {
     "name": "stdout",
     "output_type": "stream",
     "text": [
      "=============exact counting HHs==============\n",
      "exact counting time:5.14\n",
      "CPU times: user 5.32 s, sys: 76.6 ms, total: 5.39 s\n",
      "Wall time: 5.32 s\n"
     ]
    }
   ],
   "source": [
    "%time HH_pd=get_HH_pd(stream,base,ftr_len, dtype, EXACT, topk, r=4, d=100000,c=None,device=None)"
   ]
  },
  {
   "cell_type": "code",
   "execution_count": 17,
   "metadata": {},
   "outputs": [],
   "source": [
    "Exact=False"
   ]
  },
  {
   "cell_type": "code",
   "execution_count": 21,
   "metadata": {},
   "outputs": [
    {
     "name": "stdout",
     "output_type": "stream",
     "text": [
      "=============exact counting HHs==============\n",
      "exact counting time:5.18\n",
      "CPU times: user 5.32 s, sys: 110 ms, total: 5.43 s\n",
      "Wall time: 5.36 s\n",
      "=============exact counting HHs==============\n",
      "exact counting time:4.90\n",
      "CPU times: user 5.08 s, sys: 33.6 ms, total: 5.11 s\n",
      "Wall time: 5.07 s\n"
     ]
    }
   ],
   "source": [
    "%time HH_pd_cs=get_HH_pd(stream,base,ftr_len, dtype, EXACT, topk, r=4, d=100000,c=None,device=None)\n",
    "%time HH_pd_cs=get_HH_pd(stream,base,ftr_len, dtype, EXACT, topk, r=10, d=100000,c=None,device=None)\n"
   ]
  },
  {
   "cell_type": "code",
   "execution_count": 19,
   "metadata": {},
   "outputs": [],
   "source": [
    "import cProfile, pstats, io"
   ]
  },
  {
   "cell_type": "code",
   "execution_count": 29,
   "metadata": {},
   "outputs": [
    {
     "name": "stdout",
     "output_type": "stream",
     "text": [
      "=============exact counting HHs==============\n",
      "exact counting time:0.01\n",
      "         3763 function calls (3717 primitive calls) in 0.018 seconds\n",
      "\n",
      "   Ordered by: standard name\n",
      "\n",
      "   ncalls  tottime  percall  cumtime  percall filename:lineno(function)\n",
      "        4    0.000    0.000    0.000    0.000 <__array_function__ internals>:2(append)\n",
      "        1    0.000    0.000    0.000    0.000 <__array_function__ internals>:2(atleast_1d)\n",
      "        3    0.000    0.000    0.001    0.000 <__array_function__ internals>:2(atleast_2d)\n",
      "        2    0.000    0.000    0.000    0.000 <__array_function__ internals>:2(bincount)\n",
      "       10    0.000    0.000    0.000    0.000 <__array_function__ internals>:2(concatenate)\n",
      "        1    0.000    0.000    0.000    0.000 <__array_function__ internals>:2(cumsum)\n",
      "        1    0.000    0.000    0.000    0.000 <__array_function__ internals>:2(hstack)\n",
      "        4    0.000    0.000    0.000    0.000 <__array_function__ internals>:2(ndim)\n",
      "        2    0.000    0.000    0.000    0.000 <__array_function__ internals>:2(putmask)\n",
      "        4    0.000    0.000    0.000    0.000 <__array_function__ internals>:2(ravel)\n",
      "        1    0.000    0.000    0.001    0.001 <__array_function__ internals>:2(vstack)\n",
      "       11    0.000    0.000    0.000    0.000 <frozen importlib._bootstrap>:1017(_handle_fromlist)\n",
      "        1    0.000    0.000    0.018    0.018 <string>:1(<module>)\n",
      "        1    0.000    0.000    0.007    0.007 HH.py:13(get_exact_HH)\n",
      "        1    0.001    0.001    0.001    0.001 HH.py:19(<listcomp>)\n",
      "        1    0.000    0.000    0.018    0.018 HH.py:24(get_HH_pd)\n",
      "        1    0.000    0.000    0.000    0.000 __init__.py:101(get_op_result_name)\n",
      "        1    0.000    0.000    0.000    0.000 __init__.py:159(maybe_upcast_for_op)\n",
      "        1    0.000    0.000    0.000    0.000 __init__.py:427(_align_method_SERIES)\n",
      "        1    0.000    0.000    0.000    0.000 __init__.py:448(_construct_result)\n",
      "        1    0.000    0.000    0.001    0.001 __init__.py:495(wrapper)\n",
      "        1    0.000    0.000    0.005    0.005 __init__.py:540(__init__)\n",
      "        1    0.000    0.000    0.005    0.005 __init__.py:608(update)\n",
      "    17/15    0.000    0.000    0.000    0.000 _asarray.py:16(asarray)\n",
      "       14    0.000    0.000    0.001    0.000 _asarray.py:88(asanyarray)\n",
      "        6    0.000    0.000    0.000    0.000 _dtype.py:319(_name_includes_bit_suffix)\n",
      "        6    0.000    0.000    0.000    0.000 _dtype.py:333(_name_get)\n",
      "        6    0.000    0.000    0.000    0.000 _dtype.py:36(_kind_name)\n",
      "        1    0.000    0.000    0.000    0.000 _dtype.py:46(__str__)\n",
      "        9    0.000    0.000    0.000    0.000 _internal.py:830(npy_ctypes_check)\n",
      "        2    0.000    0.000    0.000    0.000 _methods.py:28(_amax)\n",
      "        2    0.000    0.000    0.000    0.000 _methods.py:32(_amin)\n",
      "        1    0.000    0.000    0.000    0.000 _methods.py:44(_any)\n",
      "        6    0.000    0.000    0.000    0.000 _ufunc_config.py:139(geterr)\n",
      "        6    0.000    0.000    0.000    0.000 _ufunc_config.py:39(seterr)\n",
      "        3    0.000    0.000    0.000    0.000 _ufunc_config.py:437(__init__)\n",
      "        3    0.000    0.000    0.000    0.000 _ufunc_config.py:441(__enter__)\n",
      "        3    0.000    0.000    0.000    0.000 _ufunc_config.py:446(__exit__)\n",
      "       17    0.000    0.000    0.000    0.000 abc.py:96(__instancecheck__)\n",
      "        1    0.000    0.000    0.000    0.000 array_ops.py:126(na_arithmetic_op)\n",
      "        1    0.000    0.000    0.000    0.000 array_ops.py:156(arithmetic_op)\n",
      "        4    0.000    0.000    0.000    0.000 base.py:1182(name)\n",
      "        1    0.000    0.000    0.000    0.000 base.py:1186(name)\n",
      "        3    0.000    0.000    0.000    0.000 base.py:1383(nlevels)\n",
      "        2    0.000    0.000    0.000    0.000 base.py:1656(is_unique)\n",
      "       91    0.000    0.000    0.001    0.000 base.py:247(is_dtype)\n",
      "        6    0.000    0.000    0.000    0.000 base.py:2637(get_loc)\n",
      "     10/5    0.000    0.000    0.002    0.000 base.py:276(__new__)\n",
      "        4    0.000    0.000    0.000    0.000 base.py:3638(values)\n",
      "        2    0.000    0.000    0.001    0.001 base.py:3809(_coerce_scalar_to_index)\n",
      "        9    0.000    0.000    0.000    0.000 base.py:3897(__contains__)\n",
      "        2    0.000    0.000    0.000    0.000 base.py:3911(__getitem__)\n",
      "        4    0.000    0.000    0.000    0.000 base.py:429(<genexpr>)\n",
      "        5    0.000    0.000    0.000    0.000 base.py:472(_simple_new)\n",
      "        2    0.000    0.000    0.000    0.000 base.py:4722(_maybe_cast_indexer)\n",
      "        2    0.000    0.000    0.002    0.001 base.py:4972(insert)\n",
      "        4    0.000    0.000    0.000    0.000 base.py:505(_get_attributes_dict)\n",
      "        4    0.000    0.000    0.000    0.000 base.py:509(<dictcomp>)\n",
      "        8    0.000    0.000    0.001    0.000 base.py:5293(ensure_index)\n",
      "        1    0.000    0.000    0.000    0.000 base.py:5387(default_index)\n",
      "       14    0.000    0.000    0.000    0.000 base.py:5393(maybe_extract_name)\n",
      "        5    0.000    0.000    0.000    0.000 base.py:5409(_maybe_cast_with_dtype)\n",
      "        2    0.000    0.000    0.001    0.000 base.py:544(_shallow_copy_with_infer)\n",
      "        3    0.000    0.000    0.000    0.000 base.py:5463(_maybe_cast_data_without_dtype)\n",
      "        6    0.000    0.000    0.000    0.000 base.py:592(_reset_identity)\n",
      "        2    0.000    0.000    0.000    0.000 base.py:602(_engine)\n",
      "        2    0.000    0.000    0.000    0.000 base.py:609(<lambda>)\n",
      "       11    0.000    0.000    0.000    0.000 base.py:615(__len__)\n",
      "        2    0.000    0.000    0.000    0.000 base.py:621(__array__)\n",
      "        4    0.000    0.000    0.000    0.000 base.py:638(dtype)\n",
      "        4    0.000    0.000    0.000    0.000 base.py:853(_ndarray_values)\n",
      "        7    0.000    0.000    0.000    0.000 blocks.py:118(__init__)\n",
      "        7    0.000    0.000    0.000    0.000 blocks.py:129(_check_ndim)\n",
      "        1    0.000    0.000    0.000    0.000 blocks.py:202(external_values)\n",
      "        2    0.000    0.000    0.000    0.000 blocks.py:213(internal_values)\n",
      "        1    0.000    0.000    0.000    0.000 blocks.py:219(array_values)\n",
      "       10    0.000    0.000    0.000    0.000 blocks.py:247(mgr_locs)\n",
      "        7    0.000    0.000    0.000    0.000 blocks.py:251(mgr_locs)\n",
      "        1    0.000    0.000    0.000    0.000 blocks.py:265(make_block)\n",
      "        2    0.000    0.000    0.000    0.000 blocks.py:275(make_block_same_class)\n",
      "        5    0.000    0.000    0.000    0.000 blocks.py:2981(get_block_type)\n",
      "        7    0.000    0.000    0.000    0.000 blocks.py:3027(make_block)\n",
      "        1    0.000    0.000    0.000    0.000 blocks.py:3053(_extend_blocks)\n",
      "        1    0.000    0.000    0.000    0.000 blocks.py:3072(_block_shape)\n",
      "        1    0.000    0.000    0.000    0.000 blocks.py:335(shape)\n",
      "        1    0.000    0.000    0.000    0.000 blocks.py:339(dtype)\n",
      "        1    0.000    0.000    0.000    0.000 blocks.py:343(ftype)\n",
      "        2    0.000    0.000    0.000    0.000 blocks.py:365(iget)\n",
      "        1    0.000    0.000    0.000    0.000 blocks.py:385(apply)\n",
      "        1    0.000    0.000    0.000    0.000 cast.py:1088(maybe_castable)\n",
      "        3    0.000    0.000    0.000    0.000 cast.py:1458(construct_1d_object_array_from_listlike)\n",
      "        1    0.000    0.000    0.000    0.000 common.py:1108(is_datetime_or_timedelta_dtype)\n",
      "        1    0.000    0.000    0.000    0.000 common.py:1282(needs_i8_conversion)\n",
      "       13    0.000    0.000    0.000    0.000 common.py:1401(is_float_dtype)\n",
      "        8    0.000    0.000    0.000    0.000 common.py:1435(is_bool_dtype)\n",
      "        2    0.000    0.000    0.000    0.000 common.py:151(cast_scalar_indexer)\n",
      "       48    0.000    0.000    0.000    0.000 common.py:1565(is_extension_array_dtype)\n",
      "        1    0.000    0.000    0.000    0.000 common.py:1647(_is_dtype)\n",
      "        9    0.000    0.000    0.000    0.000 common.py:1672(_get_dtype)\n",
      "       76    0.000    0.000    0.000    0.000 common.py:1708(_is_dtype_type)\n",
      "        2    0.000    0.000    0.000    0.000 common.py:179(ensure_python_int)\n",
      "        1    0.000    0.000    0.000    0.000 common.py:183(all_none)\n",
      "       25    0.000    0.000    0.000    0.000 common.py:1844(pandas_dtype)\n",
      "        2    0.000    0.000    0.000    0.000 common.py:187(<genexpr>)\n",
      "       55    0.000    0.000    0.000    0.000 common.py:206(classes)\n",
      "       55    0.000    0.000    0.000    0.000 common.py:208(<lambda>)\n",
      "       21    0.000    0.000    0.000    0.000 common.py:211(classes_and_not_datetimelike)\n",
      "       21    0.000    0.000    0.000    0.000 common.py:216(<lambda>)\n",
      "       10    0.000    0.000    0.000    0.000 common.py:219(asarray_tuplesafe)\n",
      "        2    0.000    0.000    0.000    0.000 common.py:222(is_object_dtype)\n",
      "        5    0.000    0.000    0.000    0.000 common.py:252(is_sparse)\n",
      "        5    0.000    0.000    0.000    0.000 common.py:330(apply_if_callable)\n",
      "        5    0.000    0.000    0.000    0.000 common.py:339(is_categorical)\n",
      "       18    0.000    0.000    0.000    0.000 common.py:372(is_datetime64_dtype)\n",
      "       23    0.000    0.000    0.000    0.000 common.py:403(is_datetime64tz_dtype)\n",
      "       21    0.000    0.000    0.000    0.000 common.py:441(is_timedelta64_dtype)\n",
      "       26    0.000    0.000    0.000    0.000 common.py:472(is_period_dtype)\n",
      "        1    0.000    0.000    0.001    0.001 common.py:49(new_method)\n",
      "       25    0.000    0.000    0.000    0.000 common.py:506(is_interval_dtype)\n",
      "       27    0.000    0.000    0.000    0.000 common.py:542(is_categorical_dtype)\n",
      "        1    0.000    0.000    0.000    0.000 common.py:575(is_string_dtype)\n",
      "        1    0.000    0.000    0.000    0.000 common.py:605(condition)\n",
      "        5    0.000    0.000    0.000    0.000 common.py:775(is_integer_dtype)\n",
      "        8    0.000    0.000    0.000    0.000 common.py:830(is_signed_integer_dtype)\n",
      "        8    0.000    0.000    0.000    0.000 common.py:887(is_unsigned_integer_dtype)\n",
      "       20    0.000    0.000    0.000    0.000 common.py:987(is_datetime64_any_dtype)\n",
      "        1    0.000    0.000    0.001    0.001 construction.py:123(init_ndarray)\n",
      "        1    0.000    0.000    0.000    0.000 construction.py:260(prep_ndarray)\n",
      "        3    0.000    0.000    0.000    0.000 construction.py:337(extract_array)\n",
      "        1    0.000    0.000    0.000    0.000 construction.py:388(sanitize_array)\n",
      "        1    0.000    0.000    0.001    0.001 construction.py:417(_get_axes)\n",
      "        1    0.000    0.000    0.000    0.000 construction.py:506(_try_cast)\n",
      "        2    0.000    0.000    0.000    0.000 construction.py:570(is_empty_data)\n",
      "        1    0.000    0.000    0.000    0.000 copy.py:128(deepcopy)\n",
      "        1    0.000    0.000    0.000    0.000 copy.py:242(_keep_alive)\n",
      "        1    0.000    0.000    0.000    0.000 dispatch.py:21(should_extension_dispatch)\n",
      "       22    0.000    0.000    0.000    0.000 dtypes.py:1124(is_dtype)\n",
      "       48    0.000    0.000    0.000    0.000 dtypes.py:75(find)\n",
      "       23    0.000    0.000    0.000    0.000 dtypes.py:917(is_dtype)\n",
      "        1    0.000    0.000    0.000    0.000 expressions.py:160(_has_bool_dtype)\n",
      "        1    0.000    0.000    0.000    0.000 expressions.py:169(_bool_arith_check)\n",
      "        1    0.000    0.000    0.000    0.000 expressions.py:191(evaluate)\n",
      "        1    0.000    0.000    0.000    0.000 expressions.py:65(_evaluate_standard)\n",
      "        2    0.000    0.000    0.000    0.000 frame.py:1037(__len__)\n",
      "        3    0.000    0.000    0.001    0.000 frame.py:2767(__getitem__)\n",
      "        2    0.000    0.000    0.003    0.002 frame.py:2922(__setitem__)\n",
      "        2    0.000    0.000    0.003    0.002 frame.py:2988(_set_item)\n",
      "        2    0.000    0.000    0.000    0.000 frame.py:3046(_ensure_valid_index)\n",
      "        2    0.000    0.000    0.000    0.000 frame.py:3066(_box_item_values)\n",
      "        2    0.000    0.000    0.000    0.000 frame.py:3073(_box_col_values)\n",
      "        2    0.000    0.000    0.000    0.000 frame.py:3570(_sanitize_column)\n",
      "        2    0.000    0.000    0.000    0.000 frame.py:3590(reindexer)\n",
      "        1    0.000    0.000    0.001    0.001 frame.py:414(__init__)\n",
      "        4    0.000    0.000    0.000    0.000 fromnumeric.py:1689(_ravel_dispatcher)\n",
      "        4    0.000    0.000    0.000    0.000 fromnumeric.py:1693(ravel)\n",
      "        1    0.000    0.000    0.000    0.000 fromnumeric.py:2401(_cumsum_dispatcher)\n",
      "        1    0.000    0.000    0.000    0.000 fromnumeric.py:2405(cumsum)\n",
      "        4    0.000    0.000    0.000    0.000 fromnumeric.py:3033(_ndim_dispatcher)\n",
      "        4    0.000    0.000    0.000    0.000 fromnumeric.py:3037(ndim)\n",
      "        1    0.000    0.000    0.000    0.000 fromnumeric.py:55(_wrapfunc)\n",
      "        1    0.000    0.000    0.000    0.000 function.py:183(validate_cum_func_with_skipna)\n",
      "        1    0.000    0.000    0.000    0.000 function.py:42(__call__)\n",
      "        4    0.000    0.000    0.000    0.000 function_base.py:4636(_append_dispatcher)\n",
      "        4    0.000    0.000    0.000    0.000 function_base.py:4640(append)\n",
      "      363    0.000    0.000    0.000    0.000 generic.py:10(_check)\n",
      "        1    0.000    0.000    0.001    0.001 generic.py:11256(cum_func)\n",
      "        1    0.000    0.000    0.000    0.000 generic.py:11275(na_accum_func)\n",
      "        5    0.000    0.000    0.000    0.000 generic.py:190(__init__)\n",
      "        2    0.000    0.000    0.000    0.000 generic.py:238(attrs)\n",
      "        2    0.000    0.000    0.000    0.000 generic.py:3227(_set_as_cached)\n",
      "        2    0.000    0.000    0.000    0.000 generic.py:3294(_clear_item_cache)\n",
      "        1    0.000    0.000    0.000    0.000 generic.py:343(_construct_axes_dict)\n",
      "        1    0.000    0.000    0.000    0.000 generic.py:345(<dictcomp>)\n",
      "        3    0.000    0.000    0.000    0.000 generic.py:3581(_get_item_cache)\n",
      "        2    0.000    0.000    0.003    0.001 generic.py:3623(_set_item)\n",
      "        2    0.000    0.000    0.000    0.000 generic.py:3656(_check_setitem_copy)\n",
      "        1    0.000    0.000    0.000    0.000 generic.py:409(_get_axis_name)\n",
      "        1    0.000    0.000    0.000    0.000 generic.py:422(_get_axis)\n",
      "        2    0.000    0.000    0.000    0.000 generic.py:5235(__finalize__)\n",
      "        4    0.000    0.000    0.000    0.000 generic.py:5257(__getattr__)\n",
      "        9    0.000    0.000    0.000    0.000 generic.py:5276(__setattr__)\n",
      "        2    0.000    0.000    0.000    0.000 index_tricks.py:318(__getitem__)\n",
      "        2    0.000    0.000    0.000    0.000 indexing.py:2261(convert_to_index_sliceable)\n",
      "        1    0.000    0.000    0.000    0.000 inference.py:299(is_dict_like)\n",
      "        2    0.000    0.000    0.000    0.000 inference.py:325(<genexpr>)\n",
      "       24    0.000    0.000    0.000    0.000 inference.py:358(is_hashable)\n",
      "        3    0.000    0.000    0.000    0.000 inference.py:96(is_iterator)\n",
      "        5    0.000    0.000    0.000    0.000 iostream.py:197(schedule)\n",
      "        4    0.000    0.000    0.000    0.000 iostream.py:309(_is_master_process)\n",
      "        4    0.000    0.000    0.000    0.000 iostream.py:322(_schedule_flush)\n",
      "        4    0.000    0.000    0.000    0.000 iostream.py:384(write)\n",
      "        5    0.000    0.000    0.000    0.000 iostream.py:93(_event_pipe)\n",
      "        2    0.000    0.000    0.003    0.001 managers.py:1037(set)\n",
      "        2    0.000    0.000    0.003    0.001 managers.py:1158(insert)\n",
      "        1    0.000    0.000    0.000    0.000 managers.py:122(__init__)\n",
      "        1    0.000    0.000    0.000    0.000 managers.py:128(<listcomp>)\n",
      "        4    0.000    0.000    0.000    0.000 managers.py:1467(__init__)\n",
      "        4    0.000    0.000    0.000    0.000 managers.py:1520(_block)\n",
      "        1    0.000    0.000    0.000    0.000 managers.py:1544(index)\n",
      "        1    0.000    0.000    0.000    0.000 managers.py:1562(external_values)\n",
      "        2    0.000    0.000    0.000    0.000 managers.py:1565(internal_values)\n",
      "        1    0.000    0.000    0.000    0.000 managers.py:1582(_consolidate_inplace)\n",
      "        5    0.000    0.000    0.000    0.000 managers.py:163(shape)\n",
      "        1    0.000    0.000    0.000    0.000 managers.py:1643(create_block_manager_from_blocks)\n",
      "       15    0.000    0.000    0.000    0.000 managers.py:165(<genexpr>)\n",
      "        5    0.000    0.000    0.000    0.000 managers.py:167(ndim)\n",
      "        2    0.000    0.000    0.000    0.000 managers.py:1963(_fast_count_smallints)\n",
      "        1    0.000    0.000    0.000    0.000 managers.py:212(_rebuild_blknos_and_blklocs)\n",
      "       15    0.000    0.000    0.000    0.000 managers.py:232(items)\n",
      "        1    0.000    0.000    0.000    0.000 managers.py:329(_verify_integrity)\n",
      "        2    0.000    0.000    0.000    0.000 managers.py:331(<genexpr>)\n",
      "        1    0.000    0.000    0.001    0.001 managers.py:368(apply)\n",
      "        1    0.000    0.000    0.000    0.000 managers.py:419(<dictcomp>)\n",
      "        1    0.000    0.000    0.000    0.000 managers.py:647(is_consolidated)\n",
      "        1    0.000    0.000    0.000    0.000 managers.py:655(_consolidate_check)\n",
      "        1    0.000    0.000    0.000    0.000 managers.py:656(<listcomp>)\n",
      "        1    0.000    0.000    0.000    0.000 managers.py:943(_consolidate_inplace)\n",
      "        2    0.000    0.000    0.000    0.000 managers.py:950(get)\n",
      "        2    0.000    0.000    0.000    0.000 managers.py:979(iget)\n",
      "        3    0.000    0.000    0.000    0.000 missing.py:132(_isna_new)\n",
      "        1    0.000    0.000    0.000    0.000 missing.py:136(dispatch_fill_zeros)\n",
      "        1    0.000    0.000    0.000    0.000 missing.py:225(_isna_ndarraylike)\n",
      "        3    0.000    0.000    0.000    0.000 missing.py:49(isna)\n",
      "        2    0.000    0.000    0.000    0.000 multiarray.py:1078(putmask)\n",
      "       10    0.000    0.000    0.000    0.000 multiarray.py:145(concatenate)\n",
      "        2    0.000    0.000    0.000    0.000 multiarray.py:853(bincount)\n",
      "        4    0.000    0.000    0.000    0.000 numeric.py:155(is_all_dates)\n",
      "        1    0.000    0.000    0.000    0.000 numeric.py:83(_validate_dtype)\n",
      "        4    0.000    0.000    0.000    0.000 numerictypes.py:293(issubclass_)\n",
      "        2    0.000    0.000    0.000    0.000 numerictypes.py:365(issubdtype)\n",
      "        4    0.000    0.000    0.000    0.000 numerictypes.py:578(_can_coerce_all)\n",
      "       16    0.000    0.000    0.000    0.000 numerictypes.py:587(<listcomp>)\n",
      "        2    0.000    0.000    0.000    0.000 numerictypes.py:602(find_common_type)\n",
      "        2    0.000    0.000    0.000    0.000 numerictypes.py:654(<listcomp>)\n",
      "        2    0.000    0.000    0.000    0.000 numerictypes.py:655(<listcomp>)\n",
      "        1    0.000    0.000    0.000    0.000 numpy_.py:138(__init__)\n",
      "        1    0.000    0.000    0.000    0.000 numpy_.py:417(to_numpy)\n",
      "        1    0.000    0.000    0.000    0.000 numpy_.py:42(__init__)\n",
      "        1    0.002    0.002    0.003    0.003 prepro.py:80(horner_decode)\n",
      "        1    0.000    0.000    0.000    0.000 range.py:131(_simple_new)\n",
      "        3    0.000    0.000    0.000    0.000 range.py:444(equals)\n",
      "       12    0.000    0.000    0.000    0.000 range.py:675(__len__)\n",
      "        1    0.000    0.000    0.000    0.000 range.py:83(__new__)\n",
      "        4    0.000    0.000    0.000    0.000 series.py:183(__init__)\n",
      "        2    0.000    0.000    0.000    0.000 series.py:359(_constructor)\n",
      "        4    0.000    0.000    0.000    0.000 series.py:376(_set_axis)\n",
      "        4    0.000    0.000    0.000    0.000 series.py:403(_set_subtyp)\n",
      "        8    0.000    0.000    0.000    0.000 series.py:428(name)\n",
      "        7    0.000    0.000    0.000    0.000 series.py:432(name)\n",
      "        1    0.000    0.000    0.000    0.000 series.py:438(values)\n",
      "        2    0.000    0.000    0.000    0.000 series.py:480(_values)\n",
      "        1    0.000    0.000    0.000    0.000 series.py:515(array)\n",
      "        2    0.000    0.000    0.000    0.000 shape_base.py:209(_arrays_for_stack_dispatcher)\n",
      "        1    0.000    0.000    0.000    0.000 shape_base.py:21(_atleast_1d_dispatcher)\n",
      "        2    0.000    0.000    0.000    0.000 shape_base.py:220(_vhstack_dispatcher)\n",
      "        1    0.000    0.000    0.001    0.001 shape_base.py:224(vstack)\n",
      "        1    0.000    0.000    0.000    0.000 shape_base.py:25(atleast_1d)\n",
      "        1    0.000    0.000    0.000    0.000 shape_base.py:286(hstack)\n",
      "        3    0.000    0.000    0.000    0.000 shape_base.py:79(_atleast_2d_dispatcher)\n",
      "        3    0.000    0.000    0.001    0.000 shape_base.py:83(atleast_2d)\n",
      "        5    0.000    0.000    0.000    0.000 socket.py:342(send)\n"
     ]
    },
    {
     "name": "stdout",
     "output_type": "stream",
     "text": [
      "        5    0.000    0.000    0.000    0.000 threading.py:1017(_wait_for_tstate_lock)\n",
      "        5    0.000    0.000    0.000    0.000 threading.py:1071(is_alive)\n",
      "        5    0.000    0.000    0.000    0.000 threading.py:513(is_set)\n",
      "        6    0.000    0.000    0.000    0.000 {built-in method __new__ of type object at 0x55a23fc2aac0}\n",
      "       17    0.000    0.000    0.000    0.000 {built-in method _abc._abc_instancecheck}\n",
      "        1    0.005    0.005    0.005    0.005 {built-in method _collections._count_elements}\n",
      "        1    0.000    0.000    0.000    0.000 {built-in method _operator.truediv}\n",
      "        4    0.000    0.000    0.000    0.000 {built-in method builtins.all}\n",
      "        6    0.000    0.000    0.000    0.000 {built-in method builtins.callable}\n",
      "        1    0.000    0.000    0.018    0.018 {built-in method builtins.exec}\n",
      "      523    0.000    0.000    0.000    0.000 {built-in method builtins.getattr}\n",
      "       72    0.000    0.000    0.000    0.000 {built-in method builtins.hasattr}\n",
      "       33    0.000    0.000    0.000    0.000 {built-in method builtins.hash}\n",
      "        3    0.000    0.000    0.000    0.000 {built-in method builtins.id}\n",
      "      734    0.000    0.000    0.001    0.000 {built-in method builtins.isinstance}\n",
      "      174    0.000    0.000    0.000    0.000 {built-in method builtins.issubclass}\n",
      "   122/97    0.000    0.000    0.000    0.000 {built-in method builtins.len}\n",
      "        2    0.000    0.000    0.000    0.000 {built-in method builtins.print}\n",
      "        1    0.001    0.001    0.001    0.001 {built-in method builtins.sorted}\n",
      "        1    0.000    0.000    0.000    0.000 {built-in method builtins.sum}\n",
      "        1    0.000    0.000    0.000    0.000 {built-in method numpy.arange}\n",
      "    41/39    0.001    0.000    0.001    0.000 {built-in method numpy.array}\n",
      "    33/21    0.000    0.000    0.001    0.000 {built-in method numpy.core._multiarray_umath.implement_array_function}\n",
      "        5    0.000    0.000    0.000    0.000 {built-in method numpy.empty}\n",
      "       12    0.000    0.000    0.000    0.000 {built-in method numpy.geterrobj}\n",
      "        6    0.000    0.000    0.000    0.000 {built-in method numpy.seterrobj}\n",
      "        1    0.000    0.000    0.000    0.000 {built-in method numpy.zeros}\n",
      "        2    0.000    0.000    0.000    0.000 {built-in method pandas._libs.missing.checknull}\n",
      "        4    0.000    0.000    0.000    0.000 {built-in method posix.getpid}\n",
      "        2    0.000    0.000    0.000    0.000 {built-in method time.time}\n",
      "        1    0.000    0.000    0.000    0.000 {method '__deepcopy__' of 'numpy.ndarray' objects}\n",
      "        5    0.000    0.000    0.000    0.000 {method 'acquire' of '_thread.lock' objects}\n",
      "        1    0.000    0.000    0.000    0.000 {method 'any' of 'numpy.ndarray' objects}\n",
      "        5    0.000    0.000    0.000    0.000 {method 'append' of 'collections.deque' objects}\n",
      "       15    0.000    0.000    0.000    0.000 {method 'append' of 'list' objects}\n",
      "        2    0.000    0.000    0.000    0.000 {method 'astype' of 'numpy.ndarray' objects}\n",
      "        2    0.000    0.000    0.000    0.000 {method 'clear' of 'dict' objects}\n",
      "        3    0.000    0.000    0.000    0.000 {method 'copy' of 'numpy.ndarray' objects}\n",
      "        1    0.000    0.000    0.000    0.000 {method 'cumsum' of 'numpy.ndarray' objects}\n",
      "        1    0.000    0.000    0.000    0.000 {method 'disable' of '_lsprof.Profiler' objects}\n",
      "        2    0.000    0.000    0.000    0.000 {method 'fill' of 'numpy.ndarray' objects}\n",
      "        3    0.000    0.000    0.000    0.000 {method 'format' of 'str' objects}\n",
      "        6    0.000    0.000    0.000    0.000 {method 'get' of 'dict' objects}\n",
      "        8    0.000    0.000    0.000    0.000 {method 'get_loc' of 'pandas._libs.index.IndexEngine' objects}\n",
      "        1    0.000    0.000    0.000    0.000 {method 'max' of 'numpy.generic' objects}\n",
      "        1    0.000    0.000    0.000    0.000 {method 'max' of 'numpy.ndarray' objects}\n",
      "        1    0.000    0.000    0.000    0.000 {method 'min' of 'numpy.generic' objects}\n",
      "        1    0.000    0.000    0.000    0.000 {method 'min' of 'numpy.ndarray' objects}\n",
      "        2    0.000    0.000    0.000    0.000 {method 'nonzero' of 'numpy.ndarray' objects}\n",
      "        3    0.000    0.000    0.000    0.000 {method 'pop' of 'dict' objects}\n",
      "        4    0.000    0.000    0.000    0.000 {method 'ravel' of 'numpy.ndarray' objects}\n",
      "        5    0.000    0.000    0.000    0.000 {method 'reduce' of 'numpy.ufunc' objects}\n",
      "        6    0.000    0.000    0.000    0.000 {method 'startswith' of 'str' objects}\n",
      "        4    0.000    0.000    0.000    0.000 {method 'transpose' of 'numpy.ndarray' objects}\n",
      "        3    0.000    0.000    0.000    0.000 {method 'update' of 'dict' objects}\n",
      "        4    0.000    0.000    0.000    0.000 {method 'view' of 'numpy.ndarray' objects}\n",
      "        1    0.000    0.000    0.000    0.000 {pandas._libs.lib.clean_index_list}\n",
      "        3    0.000    0.000    0.000    0.000 {pandas._libs.lib.infer_dtype}\n",
      "        1    0.000    0.000    0.000    0.000 {pandas._libs.lib.is_bool}\n",
      "        4    0.000    0.000    0.000    0.000 {pandas._libs.lib.is_float}\n",
      "       10    0.000    0.000    0.000    0.000 {pandas._libs.lib.is_list_like}\n",
      "       10    0.000    0.000    0.000    0.000 {pandas._libs.lib.is_scalar}\n",
      "        4    0.000    0.000    0.000    0.000 {pandas._libs.lib.item_from_zerodim}\n",
      "\n",
      "\n"
     ]
    }
   ],
   "source": [
    "cProfile.run('get_HH_pd(stream0,base,ftr_len, dtype, True, topk, r=10, d=100000,c=None,device=None)')"
   ]
  },
  {
   "cell_type": "code",
   "execution_count": 26,
   "metadata": {},
   "outputs": [
    {
     "name": "stdout",
     "output_type": "stream",
     "text": [
      "=============exact counting HHs==============\n",
      "exact counting time:5.15\n",
      "         3763 function calls (3717 primitive calls) in 5.314 seconds\n",
      "\n",
      "   Ordered by: standard name\n",
      "\n",
      "   ncalls  tottime  percall  cumtime  percall filename:lineno(function)\n",
      "        4    0.000    0.000    0.000    0.000 <__array_function__ internals>:2(append)\n",
      "        1    0.000    0.000    0.000    0.000 <__array_function__ internals>:2(atleast_1d)\n",
      "        3    0.000    0.000    0.038    0.013 <__array_function__ internals>:2(atleast_2d)\n",
      "        2    0.000    0.000    0.000    0.000 <__array_function__ internals>:2(bincount)\n",
      "       10    0.000    0.000    0.017    0.002 <__array_function__ internals>:2(concatenate)\n",
      "        1    0.000    0.000    0.001    0.001 <__array_function__ internals>:2(cumsum)\n",
      "        1    0.000    0.000    0.016    0.016 <__array_function__ internals>:2(hstack)\n",
      "        4    0.000    0.000    0.000    0.000 <__array_function__ internals>:2(ndim)\n",
      "        2    0.000    0.000    0.001    0.000 <__array_function__ internals>:2(putmask)\n",
      "        4    0.000    0.000    0.000    0.000 <__array_function__ internals>:2(ravel)\n",
      "        1    0.000    0.000    0.039    0.039 <__array_function__ internals>:2(vstack)\n",
      "       11    0.000    0.000    0.000    0.000 <frozen importlib._bootstrap>:1017(_handle_fromlist)\n",
      "        1    0.026    0.026    5.314    5.314 <string>:1(<module>)\n",
      "        1    0.000    0.000    5.147    5.147 HH.py:13(get_exact_HH)\n",
      "        1    0.058    0.058    0.058    0.058 HH.py:19(<listcomp>)\n",
      "        1    0.001    0.001    5.288    5.288 HH.py:24(get_HH_pd)\n",
      "        1    0.000    0.000    0.000    0.000 __init__.py:101(get_op_result_name)\n",
      "        1    0.000    0.000    0.000    0.000 __init__.py:159(maybe_upcast_for_op)\n",
      "        1    0.000    0.000    0.000    0.000 __init__.py:427(_align_method_SERIES)\n",
      "        1    0.000    0.000    0.000    0.000 __init__.py:448(_construct_result)\n",
      "        1    0.000    0.000    0.001    0.001 __init__.py:495(wrapper)\n",
      "        1    0.000    0.000    5.028    5.028 __init__.py:540(__init__)\n",
      "        1    0.000    0.000    5.028    5.028 __init__.py:608(update)\n",
      "    17/15    0.000    0.000    0.000    0.000 _asarray.py:16(asarray)\n",
      "       14    0.001    0.000    0.038    0.003 _asarray.py:88(asanyarray)\n",
      "        6    0.000    0.000    0.000    0.000 _dtype.py:319(_name_includes_bit_suffix)\n",
      "        6    0.000    0.000    0.000    0.000 _dtype.py:333(_name_get)\n",
      "        6    0.000    0.000    0.000    0.000 _dtype.py:36(_kind_name)\n",
      "        1    0.000    0.000    0.000    0.000 _dtype.py:46(__str__)\n",
      "        9    0.000    0.000    0.000    0.000 _internal.py:830(npy_ctypes_check)\n",
      "        2    0.000    0.000    0.002    0.001 _methods.py:28(_amax)\n",
      "        2    0.000    0.000    0.002    0.001 _methods.py:32(_amin)\n",
      "        1    0.000    0.000    0.000    0.000 _methods.py:44(_any)\n",
      "        6    0.000    0.000    0.000    0.000 _ufunc_config.py:139(geterr)\n",
      "        6    0.000    0.000    0.000    0.000 _ufunc_config.py:39(seterr)\n",
      "        3    0.000    0.000    0.000    0.000 _ufunc_config.py:437(__init__)\n",
      "        3    0.000    0.000    0.000    0.000 _ufunc_config.py:441(__enter__)\n",
      "        3    0.000    0.000    0.000    0.000 _ufunc_config.py:446(__exit__)\n",
      "       17    0.000    0.000    0.000    0.000 abc.py:96(__instancecheck__)\n",
      "        1    0.000    0.000    0.000    0.000 array_ops.py:126(na_arithmetic_op)\n",
      "        1    0.000    0.000    0.000    0.000 array_ops.py:156(arithmetic_op)\n",
      "        4    0.000    0.000    0.000    0.000 base.py:1182(name)\n",
      "        1    0.000    0.000    0.000    0.000 base.py:1186(name)\n",
      "        3    0.000    0.000    0.000    0.000 base.py:1383(nlevels)\n",
      "        2    0.000    0.000    0.000    0.000 base.py:1656(is_unique)\n",
      "       91    0.000    0.000    0.000    0.000 base.py:247(is_dtype)\n",
      "        6    0.000    0.000    0.000    0.000 base.py:2637(get_loc)\n",
      "     10/5    0.000    0.000    0.001    0.000 base.py:276(__new__)\n",
      "        4    0.000    0.000    0.000    0.000 base.py:3638(values)\n",
      "        2    0.000    0.000    0.000    0.000 base.py:3809(_coerce_scalar_to_index)\n",
      "        9    0.000    0.000    0.000    0.000 base.py:3897(__contains__)\n",
      "        2    0.000    0.000    0.000    0.000 base.py:3911(__getitem__)\n",
      "        4    0.000    0.000    0.000    0.000 base.py:429(<genexpr>)\n",
      "        5    0.000    0.000    0.000    0.000 base.py:472(_simple_new)\n",
      "        2    0.000    0.000    0.000    0.000 base.py:4722(_maybe_cast_indexer)\n",
      "        2    0.000    0.000    0.001    0.000 base.py:4972(insert)\n",
      "        4    0.000    0.000    0.000    0.000 base.py:505(_get_attributes_dict)\n",
      "        4    0.000    0.000    0.000    0.000 base.py:509(<dictcomp>)\n",
      "        8    0.000    0.000    0.000    0.000 base.py:5293(ensure_index)\n",
      "        1    0.000    0.000    0.000    0.000 base.py:5387(default_index)\n",
      "       14    0.000    0.000    0.000    0.000 base.py:5393(maybe_extract_name)\n",
      "        5    0.000    0.000    0.000    0.000 base.py:5409(_maybe_cast_with_dtype)\n",
      "        2    0.000    0.000    0.000    0.000 base.py:544(_shallow_copy_with_infer)\n",
      "        3    0.000    0.000    0.000    0.000 base.py:5463(_maybe_cast_data_without_dtype)\n",
      "        6    0.000    0.000    0.000    0.000 base.py:592(_reset_identity)\n",
      "        2    0.000    0.000    0.000    0.000 base.py:602(_engine)\n",
      "        2    0.000    0.000    0.000    0.000 base.py:609(<lambda>)\n",
      "       11    0.000    0.000    0.000    0.000 base.py:615(__len__)\n",
      "        2    0.000    0.000    0.000    0.000 base.py:621(__array__)\n",
      "        4    0.000    0.000    0.000    0.000 base.py:638(dtype)\n",
      "        4    0.000    0.000    0.000    0.000 base.py:853(_ndarray_values)\n",
      "        7    0.000    0.000    0.000    0.000 blocks.py:118(__init__)\n",
      "        7    0.000    0.000    0.000    0.000 blocks.py:129(_check_ndim)\n",
      "        1    0.000    0.000    0.000    0.000 blocks.py:202(external_values)\n",
      "        2    0.000    0.000    0.000    0.000 blocks.py:213(internal_values)\n",
      "        1    0.000    0.000    0.000    0.000 blocks.py:219(array_values)\n",
      "       10    0.000    0.000    0.000    0.000 blocks.py:247(mgr_locs)\n",
      "        7    0.000    0.000    0.000    0.000 blocks.py:251(mgr_locs)\n",
      "        1    0.000    0.000    0.000    0.000 blocks.py:265(make_block)\n",
      "        2    0.000    0.000    0.000    0.000 blocks.py:275(make_block_same_class)\n",
      "        5    0.000    0.000    0.000    0.000 blocks.py:2981(get_block_type)\n",
      "        7    0.000    0.000    0.000    0.000 blocks.py:3027(make_block)\n",
      "        1    0.000    0.000    0.000    0.000 blocks.py:3053(_extend_blocks)\n",
      "        1    0.000    0.000    0.000    0.000 blocks.py:3072(_block_shape)\n",
      "        1    0.000    0.000    0.000    0.000 blocks.py:335(shape)\n",
      "        1    0.000    0.000    0.000    0.000 blocks.py:339(dtype)\n",
      "        1    0.000    0.000    0.000    0.000 blocks.py:343(ftype)\n",
      "        2    0.000    0.000    0.000    0.000 blocks.py:365(iget)\n",
      "        1    0.000    0.000    0.003    0.003 blocks.py:385(apply)\n",
      "        1    0.000    0.000    0.000    0.000 cast.py:1088(maybe_castable)\n",
      "        3    0.000    0.000    0.000    0.000 cast.py:1458(construct_1d_object_array_from_listlike)\n",
      "        1    0.000    0.000    0.000    0.000 common.py:1108(is_datetime_or_timedelta_dtype)\n",
      "        1    0.000    0.000    0.000    0.000 common.py:1282(needs_i8_conversion)\n",
      "       13    0.000    0.000    0.000    0.000 common.py:1401(is_float_dtype)\n",
      "        8    0.000    0.000    0.000    0.000 common.py:1435(is_bool_dtype)\n",
      "        2    0.000    0.000    0.000    0.000 common.py:151(cast_scalar_indexer)\n",
      "       48    0.000    0.000    0.000    0.000 common.py:1565(is_extension_array_dtype)\n",
      "        1    0.000    0.000    0.000    0.000 common.py:1647(_is_dtype)\n",
      "        9    0.000    0.000    0.000    0.000 common.py:1672(_get_dtype)\n",
      "       76    0.000    0.000    0.000    0.000 common.py:1708(_is_dtype_type)\n",
      "        2    0.000    0.000    0.000    0.000 common.py:179(ensure_python_int)\n",
      "        1    0.000    0.000    0.000    0.000 common.py:183(all_none)\n",
      "       25    0.000    0.000    0.000    0.000 common.py:1844(pandas_dtype)\n",
      "        2    0.000    0.000    0.000    0.000 common.py:187(<genexpr>)\n",
      "       55    0.000    0.000    0.000    0.000 common.py:206(classes)\n",
      "       55    0.000    0.000    0.000    0.000 common.py:208(<lambda>)\n",
      "       21    0.000    0.000    0.000    0.000 common.py:211(classes_and_not_datetimelike)\n",
      "       21    0.000    0.000    0.000    0.000 common.py:216(<lambda>)\n",
      "       10    0.000    0.000    0.000    0.000 common.py:219(asarray_tuplesafe)\n",
      "        2    0.000    0.000    0.000    0.000 common.py:222(is_object_dtype)\n",
      "        5    0.000    0.000    0.000    0.000 common.py:252(is_sparse)\n",
      "        5    0.000    0.000    0.000    0.000 common.py:330(apply_if_callable)\n",
      "        5    0.000    0.000    0.000    0.000 common.py:339(is_categorical)\n",
      "       18    0.000    0.000    0.000    0.000 common.py:372(is_datetime64_dtype)\n",
      "       23    0.000    0.000    0.000    0.000 common.py:403(is_datetime64tz_dtype)\n",
      "       21    0.000    0.000    0.000    0.000 common.py:441(is_timedelta64_dtype)\n",
      "       26    0.000    0.000    0.000    0.000 common.py:472(is_period_dtype)\n",
      "        1    0.000    0.000    0.001    0.001 common.py:49(new_method)\n",
      "       25    0.000    0.000    0.000    0.000 common.py:506(is_interval_dtype)\n",
      "       27    0.000    0.000    0.000    0.000 common.py:542(is_categorical_dtype)\n",
      "        1    0.000    0.000    0.000    0.000 common.py:575(is_string_dtype)\n",
      "        1    0.000    0.000    0.000    0.000 common.py:605(condition)\n",
      "        5    0.000    0.000    0.000    0.000 common.py:775(is_integer_dtype)\n",
      "        8    0.000    0.000    0.000    0.000 common.py:830(is_signed_integer_dtype)\n",
      "        8    0.000    0.000    0.000    0.000 common.py:887(is_unsigned_integer_dtype)\n",
      "       20    0.000    0.000    0.000    0.000 common.py:987(is_datetime64_any_dtype)\n",
      "        1    0.000    0.000    0.001    0.001 construction.py:123(init_ndarray)\n",
      "        1    0.000    0.000    0.000    0.000 construction.py:260(prep_ndarray)\n",
      "        3    0.000    0.000    0.000    0.000 construction.py:337(extract_array)\n",
      "        1    0.000    0.000    0.000    0.000 construction.py:388(sanitize_array)\n",
      "        1    0.000    0.000    0.000    0.000 construction.py:417(_get_axes)\n",
      "        1    0.000    0.000    0.000    0.000 construction.py:506(_try_cast)\n",
      "        2    0.000    0.000    0.000    0.000 construction.py:570(is_empty_data)\n",
      "        1    0.000    0.000    0.000    0.000 copy.py:128(deepcopy)\n",
      "        1    0.000    0.000    0.000    0.000 copy.py:242(_keep_alive)\n",
      "        1    0.000    0.000    0.000    0.000 dispatch.py:21(should_extension_dispatch)\n",
      "       22    0.000    0.000    0.000    0.000 dtypes.py:1124(is_dtype)\n",
      "       48    0.000    0.000    0.000    0.000 dtypes.py:75(find)\n",
      "       23    0.000    0.000    0.000    0.000 dtypes.py:917(is_dtype)\n"
     ]
    },
    {
     "name": "stdout",
     "output_type": "stream",
     "text": [
      "        1    0.000    0.000    0.000    0.000 expressions.py:160(_has_bool_dtype)\n",
      "        1    0.000    0.000    0.000    0.000 expressions.py:169(_bool_arith_check)\n",
      "        1    0.000    0.000    0.000    0.000 expressions.py:191(evaluate)\n",
      "        1    0.000    0.000    0.000    0.000 expressions.py:65(_evaluate_standard)\n",
      "        2    0.000    0.000    0.000    0.000 frame.py:1037(__len__)\n",
      "        3    0.000    0.000    0.000    0.000 frame.py:2767(__getitem__)\n",
      "        2    0.000    0.000    0.002    0.001 frame.py:2922(__setitem__)\n",
      "        2    0.000    0.000    0.002    0.001 frame.py:2988(_set_item)\n",
      "        2    0.000    0.000    0.000    0.000 frame.py:3046(_ensure_valid_index)\n",
      "        2    0.000    0.000    0.000    0.000 frame.py:3066(_box_item_values)\n",
      "        2    0.000    0.000    0.000    0.000 frame.py:3073(_box_col_values)\n",
      "        2    0.000    0.000    0.001    0.000 frame.py:3570(_sanitize_column)\n",
      "        2    0.000    0.000    0.001    0.000 frame.py:3590(reindexer)\n",
      "        1    0.000    0.000    0.001    0.001 frame.py:414(__init__)\n",
      "        4    0.000    0.000    0.000    0.000 fromnumeric.py:1689(_ravel_dispatcher)\n",
      "        4    0.000    0.000    0.000    0.000 fromnumeric.py:1693(ravel)\n",
      "        1    0.000    0.000    0.000    0.000 fromnumeric.py:2401(_cumsum_dispatcher)\n",
      "        1    0.000    0.000    0.001    0.001 fromnumeric.py:2405(cumsum)\n",
      "        4    0.000    0.000    0.000    0.000 fromnumeric.py:3033(_ndim_dispatcher)\n",
      "        4    0.000    0.000    0.000    0.000 fromnumeric.py:3037(ndim)\n",
      "        1    0.000    0.000    0.001    0.001 fromnumeric.py:55(_wrapfunc)\n",
      "        1    0.000    0.000    0.000    0.000 function.py:183(validate_cum_func_with_skipna)\n",
      "        1    0.000    0.000    0.000    0.000 function.py:42(__call__)\n",
      "        4    0.000    0.000    0.000    0.000 function_base.py:4636(_append_dispatcher)\n",
      "        4    0.000    0.000    0.000    0.000 function_base.py:4640(append)\n",
      "      363    0.000    0.000    0.000    0.000 generic.py:10(_check)\n",
      "        1    0.000    0.000    0.003    0.003 generic.py:11256(cum_func)\n",
      "        1    0.000    0.000    0.003    0.003 generic.py:11275(na_accum_func)\n",
      "        5    0.000    0.000    0.000    0.000 generic.py:190(__init__)\n",
      "        2    0.000    0.000    0.000    0.000 generic.py:238(attrs)\n",
      "        2    0.000    0.000    0.000    0.000 generic.py:3227(_set_as_cached)\n",
      "        2    0.000    0.000    0.000    0.000 generic.py:3294(_clear_item_cache)\n",
      "        1    0.000    0.000    0.000    0.000 generic.py:343(_construct_axes_dict)\n",
      "        1    0.000    0.000    0.000    0.000 generic.py:345(<dictcomp>)\n",
      "        3    0.000    0.000    0.000    0.000 generic.py:3581(_get_item_cache)\n",
      "        2    0.000    0.000    0.001    0.001 generic.py:3623(_set_item)\n",
      "        2    0.000    0.000    0.000    0.000 generic.py:3656(_check_setitem_copy)\n",
      "        1    0.000    0.000    0.000    0.000 generic.py:409(_get_axis_name)\n",
      "        1    0.000    0.000    0.000    0.000 generic.py:422(_get_axis)\n",
      "        2    0.000    0.000    0.000    0.000 generic.py:5235(__finalize__)\n",
      "        4    0.000    0.000    0.000    0.000 generic.py:5257(__getattr__)\n",
      "        9    0.000    0.000    0.000    0.000 generic.py:5276(__setattr__)\n",
      "        2    0.000    0.000    0.000    0.000 index_tricks.py:318(__getitem__)\n",
      "        2    0.000    0.000    0.000    0.000 indexing.py:2261(convert_to_index_sliceable)\n",
      "        1    0.000    0.000    0.000    0.000 inference.py:299(is_dict_like)\n",
      "        2    0.000    0.000    0.000    0.000 inference.py:325(<genexpr>)\n",
      "       24    0.000    0.000    0.000    0.000 inference.py:358(is_hashable)\n",
      "        3    0.000    0.000    0.000    0.000 inference.py:96(is_iterator)\n",
      "        5    0.000    0.000    0.000    0.000 iostream.py:197(schedule)\n",
      "        4    0.000    0.000    0.000    0.000 iostream.py:309(_is_master_process)\n",
      "        4    0.000    0.000    0.000    0.000 iostream.py:322(_schedule_flush)\n",
      "        4    0.000    0.000    0.000    0.000 iostream.py:384(write)\n",
      "        5    0.000    0.000    0.000    0.000 iostream.py:93(_event_pipe)\n",
      "        2    0.000    0.000    0.001    0.001 managers.py:1037(set)\n",
      "        2    0.000    0.000    0.001    0.001 managers.py:1158(insert)\n",
      "        1    0.000    0.000    0.000    0.000 managers.py:122(__init__)\n",
      "        1    0.000    0.000    0.000    0.000 managers.py:128(<listcomp>)\n",
      "        4    0.000    0.000    0.000    0.000 managers.py:1467(__init__)\n",
      "        4    0.000    0.000    0.000    0.000 managers.py:1520(_block)\n",
      "        1    0.000    0.000    0.000    0.000 managers.py:1544(index)\n",
      "        1    0.000    0.000    0.000    0.000 managers.py:1562(external_values)\n",
      "        2    0.000    0.000    0.000    0.000 managers.py:1565(internal_values)\n",
      "        1    0.000    0.000    0.000    0.000 managers.py:1582(_consolidate_inplace)\n",
      "        5    0.000    0.000    0.000    0.000 managers.py:163(shape)\n",
      "        1    0.000    0.000    0.000    0.000 managers.py:1643(create_block_manager_from_blocks)\n",
      "       15    0.000    0.000    0.000    0.000 managers.py:165(<genexpr>)\n",
      "        5    0.000    0.000    0.000    0.000 managers.py:167(ndim)\n",
      "        2    0.000    0.000    0.000    0.000 managers.py:1963(_fast_count_smallints)\n",
      "        1    0.000    0.000    0.000    0.000 managers.py:212(_rebuild_blknos_and_blklocs)\n",
      "       15    0.000    0.000    0.000    0.000 managers.py:232(items)\n",
      "        1    0.000    0.000    0.000    0.000 managers.py:329(_verify_integrity)\n",
      "        2    0.000    0.000    0.000    0.000 managers.py:331(<genexpr>)\n",
      "        1    0.000    0.000    0.003    0.003 managers.py:368(apply)\n",
      "        1    0.000    0.000    0.000    0.000 managers.py:419(<dictcomp>)\n",
      "        1    0.000    0.000    0.000    0.000 managers.py:647(is_consolidated)\n",
      "        1    0.000    0.000    0.000    0.000 managers.py:655(_consolidate_check)\n",
      "        1    0.000    0.000    0.000    0.000 managers.py:656(<listcomp>)\n",
      "        1    0.000    0.000    0.000    0.000 managers.py:943(_consolidate_inplace)\n",
      "        2    0.000    0.000    0.000    0.000 managers.py:950(get)\n",
      "        2    0.000    0.000    0.000    0.000 managers.py:979(iget)\n",
      "        3    0.000    0.000    0.000    0.000 missing.py:132(_isna_new)\n",
      "        1    0.000    0.000    0.000    0.000 missing.py:136(dispatch_fill_zeros)\n",
      "        1    0.000    0.000    0.000    0.000 missing.py:225(_isna_ndarraylike)\n",
      "        3    0.000    0.000    0.000    0.000 missing.py:49(isna)\n",
      "        2    0.000    0.000    0.000    0.000 multiarray.py:1078(putmask)\n",
      "       10    0.000    0.000    0.000    0.000 multiarray.py:145(concatenate)\n",
      "        2    0.000    0.000    0.000    0.000 multiarray.py:853(bincount)\n",
      "        4    0.000    0.000    0.000    0.000 numeric.py:155(is_all_dates)\n",
      "        1    0.000    0.000    0.000    0.000 numeric.py:83(_validate_dtype)\n",
      "        4    0.000    0.000    0.000    0.000 numerictypes.py:293(issubclass_)\n",
      "        2    0.000    0.000    0.000    0.000 numerictypes.py:365(issubdtype)\n",
      "        4    0.000    0.000    0.000    0.000 numerictypes.py:578(_can_coerce_all)\n",
      "       16    0.000    0.000    0.000    0.000 numerictypes.py:587(<listcomp>)\n",
      "        2    0.000    0.000    0.000    0.000 numerictypes.py:602(find_common_type)\n",
      "        2    0.000    0.000    0.000    0.000 numerictypes.py:654(<listcomp>)\n",
      "        2    0.000    0.000    0.000    0.000 numerictypes.py:655(<listcomp>)\n",
      "        1    0.000    0.000    0.000    0.000 numpy_.py:138(__init__)\n",
      "        1    0.000    0.000    0.000    0.000 numpy_.py:417(to_numpy)\n",
      "        1    0.000    0.000    0.000    0.000 numpy_.py:42(__init__)\n",
      "        1    0.051    0.051    0.075    0.075 prepro.py:80(horner_decode)\n",
      "        1    0.000    0.000    0.000    0.000 range.py:131(_simple_new)\n",
      "        3    0.000    0.000    0.000    0.000 range.py:444(equals)\n",
      "       12    0.000    0.000    0.000    0.000 range.py:675(__len__)\n",
      "        1    0.000    0.000    0.000    0.000 range.py:83(__new__)\n",
      "        4    0.000    0.000    0.000    0.000 series.py:183(__init__)\n",
      "        2    0.000    0.000    0.000    0.000 series.py:359(_constructor)\n",
      "        4    0.000    0.000    0.000    0.000 series.py:376(_set_axis)\n",
      "        4    0.000    0.000    0.000    0.000 series.py:403(_set_subtyp)\n",
      "        8    0.000    0.000    0.000    0.000 series.py:428(name)\n",
      "        7    0.000    0.000    0.000    0.000 series.py:432(name)\n",
      "        1    0.000    0.000    0.000    0.000 series.py:438(values)\n",
      "        2    0.000    0.000    0.000    0.000 series.py:480(_values)\n",
      "        1    0.000    0.000    0.000    0.000 series.py:515(array)\n",
      "        2    0.000    0.000    0.000    0.000 shape_base.py:209(_arrays_for_stack_dispatcher)\n",
      "        1    0.000    0.000    0.000    0.000 shape_base.py:21(_atleast_1d_dispatcher)\n",
      "        2    0.000    0.000    0.000    0.000 shape_base.py:220(_vhstack_dispatcher)\n",
      "        1    0.000    0.000    0.039    0.039 shape_base.py:224(vstack)\n",
      "        1    0.000    0.000    0.000    0.000 shape_base.py:25(atleast_1d)\n",
      "        1    0.000    0.000    0.016    0.016 shape_base.py:286(hstack)\n",
      "        3    0.000    0.000    0.000    0.000 shape_base.py:79(_atleast_2d_dispatcher)\n",
      "        3    0.000    0.000    0.038    0.013 shape_base.py:83(atleast_2d)\n",
      "        5    0.000    0.000    0.000    0.000 socket.py:342(send)\n",
      "        5    0.000    0.000    0.000    0.000 threading.py:1017(_wait_for_tstate_lock)\n",
      "        5    0.000    0.000    0.000    0.000 threading.py:1071(is_alive)\n",
      "        5    0.000    0.000    0.000    0.000 threading.py:513(is_set)\n",
      "        6    0.000    0.000    0.000    0.000 {built-in method __new__ of type object at 0x55a23fc2aac0}\n",
      "       17    0.000    0.000    0.000    0.000 {built-in method _abc._abc_instancecheck}\n",
      "        1    5.028    5.028    5.028    5.028 {built-in method _collections._count_elements}\n",
      "        1    0.000    0.000    0.000    0.000 {built-in method _operator.truediv}\n",
      "        4    0.000    0.000    0.000    0.000 {built-in method builtins.all}\n",
      "        6    0.000    0.000    0.000    0.000 {built-in method builtins.callable}\n",
      "        1    0.000    0.000    5.314    5.314 {built-in method builtins.exec}\n",
      "      523    0.000    0.000    0.000    0.000 {built-in method builtins.getattr}\n",
      "       72    0.000    0.000    0.000    0.000 {built-in method builtins.hasattr}\n",
      "       33    0.000    0.000    0.000    0.000 {built-in method builtins.hash}\n",
      "        3    0.000    0.000    0.000    0.000 {built-in method builtins.id}\n",
      "      734    0.000    0.000    0.000    0.000 {built-in method builtins.isinstance}\n",
      "      174    0.000    0.000    0.000    0.000 {built-in method builtins.issubclass}\n",
      "   122/97    0.000    0.000    0.000    0.000 {built-in method builtins.len}\n",
      "        2    0.000    0.000    0.000    0.000 {built-in method builtins.print}\n",
      "        1    0.060    0.060    0.060    0.060 {built-in method builtins.sorted}\n",
      "        1    0.000    0.000    0.000    0.000 {built-in method builtins.sum}\n",
      "        1    0.000    0.000    0.000    0.000 {built-in method numpy.arange}\n",
      "    41/39    0.060    0.001    0.060    0.002 {built-in method numpy.array}\n",
      "    33/21    0.017    0.001    0.056    0.003 {built-in method numpy.core._multiarray_umath.implement_array_function}\n",
      "        5    0.000    0.000    0.000    0.000 {built-in method numpy.empty}\n",
      "       12    0.000    0.000    0.000    0.000 {built-in method numpy.geterrobj}\n",
      "        6    0.000    0.000    0.000    0.000 {built-in method numpy.seterrobj}\n",
      "        1    0.002    0.002    0.002    0.002 {built-in method numpy.zeros}\n",
      "        2    0.000    0.000    0.000    0.000 {built-in method pandas._libs.missing.checknull}\n",
      "        4    0.000    0.000    0.000    0.000 {built-in method posix.getpid}\n",
      "        2    0.000    0.000    0.000    0.000 {built-in method time.time}\n",
      "        1    0.000    0.000    0.000    0.000 {method '__deepcopy__' of 'numpy.ndarray' objects}\n",
      "        5    0.000    0.000    0.000    0.000 {method 'acquire' of '_thread.lock' objects}\n",
      "        1    0.000    0.000    0.000    0.000 {method 'any' of 'numpy.ndarray' objects}\n",
      "        5    0.000    0.000    0.000    0.000 {method 'append' of 'collections.deque' objects}\n",
      "       15    0.000    0.000    0.000    0.000 {method 'append' of 'list' objects}\n",
      "        2    0.000    0.000    0.000    0.000 {method 'astype' of 'numpy.ndarray' objects}\n",
      "        2    0.000    0.000    0.000    0.000 {method 'clear' of 'dict' objects}\n",
      "        3    0.002    0.001    0.002    0.001 {method 'copy' of 'numpy.ndarray' objects}\n",
      "        1    0.001    0.001    0.001    0.001 {method 'cumsum' of 'numpy.ndarray' objects}\n",
      "        1    0.000    0.000    0.000    0.000 {method 'disable' of '_lsprof.Profiler' objects}\n",
      "        2    0.000    0.000    0.000    0.000 {method 'fill' of 'numpy.ndarray' objects}\n",
      "        3    0.000    0.000    0.000    0.000 {method 'format' of 'str' objects}\n",
      "        6    0.000    0.000    0.000    0.000 {method 'get' of 'dict' objects}\n",
      "        8    0.000    0.000    0.000    0.000 {method 'get_loc' of 'pandas._libs.index.IndexEngine' objects}\n",
      "        1    0.000    0.000    0.000    0.000 {method 'max' of 'numpy.generic' objects}\n",
      "        1    0.000    0.000    0.002    0.002 {method 'max' of 'numpy.ndarray' objects}\n",
      "        1    0.000    0.000    0.000    0.000 {method 'min' of 'numpy.generic' objects}\n",
      "        1    0.000    0.000    0.002    0.002 {method 'min' of 'numpy.ndarray' objects}\n",
      "        2    0.000    0.000    0.000    0.000 {method 'nonzero' of 'numpy.ndarray' objects}\n",
      "        3    0.000    0.000    0.000    0.000 {method 'pop' of 'dict' objects}\n",
      "        4    0.000    0.000    0.000    0.000 {method 'ravel' of 'numpy.ndarray' objects}\n",
      "        5    0.004    0.001    0.004    0.001 {method 'reduce' of 'numpy.ufunc' objects}\n",
      "        6    0.000    0.000    0.000    0.000 {method 'startswith' of 'str' objects}\n",
      "        4    0.000    0.000    0.000    0.000 {method 'transpose' of 'numpy.ndarray' objects}\n",
      "        3    0.000    0.000    0.000    0.000 {method 'update' of 'dict' objects}\n",
      "        4    0.000    0.000    0.000    0.000 {method 'view' of 'numpy.ndarray' objects}\n",
      "        1    0.000    0.000    0.000    0.000 {pandas._libs.lib.clean_index_list}\n",
      "        3    0.000    0.000    0.000    0.000 {pandas._libs.lib.infer_dtype}\n",
      "        1    0.000    0.000    0.000    0.000 {pandas._libs.lib.is_bool}\n",
      "        4    0.000    0.000    0.000    0.000 {pandas._libs.lib.is_float}\n",
      "       10    0.000    0.000    0.000    0.000 {pandas._libs.lib.is_list_like}\n",
      "       10    0.000    0.000    0.000    0.000 {pandas._libs.lib.is_scalar}\n",
      "        4    0.000    0.000    0.000    0.000 {pandas._libs.lib.item_from_zerodim}\n",
      "\n",
      "\n"
     ]
    }
   ],
   "source": [
    "cProfile.run('get_HH_pd(stream,base,ftr_len, dtype, EXACT, topk, r=10, d=100000,c=None,device=None)')"
   ]
  },
  {
   "cell_type": "code",
   "execution_count": 23,
   "metadata": {},
   "outputs": [],
   "source": [
    "def profile(fn):\n",
    "    pr = profile.Profile(fn)\n",
    "    p.sort_stats(SortKey.CUMULATIVE).print_stats(10)"
   ]
  },
  {
   "cell_type": "code",
   "execution_count": 82,
   "metadata": {},
   "outputs": [],
   "source": [
    "def get_exact_HH(stream):\n",
    "    exactHH=np.array(Counter(stream).most_common())\n",
    "    return exactHH\n",
    "\n",
    "def get_relative_error(exactHH,cHH,cFreq):\n",
    "    k=len(cHH)\n",
    "    errVec, setAcc = np.ones(k), 0\n",
    "    for ii in range(k):\n",
    "        eHH_i, eFreq_i = exactHH[ii,0], exactHH[ii,1]\n",
    "        if eHH_i in cHH:\n",
    "            c1 = cFreq[cHH == eHH_i]\n",
    "            errVec[ii] -= c1/eFreq_i\n",
    "            setAcc+=1\n",
    "    setAcc=setAcc/k\n",
    "    err=abs(errVec).sum()\n",
    "    print(f'top {k}|err {err}|setAcc {setAcc}')\n",
    "    return errVec, err, acc"
   ]
  },
  {
   "cell_type": "code",
   "execution_count": 94,
   "metadata": {},
   "outputs": [
    {
     "name": "stdout",
     "output_type": "stream",
     "text": [
      "CPU times: user 5.52 s, sys: 58 ms, total: 5.58 s\n",
      "Wall time: 5.5 s\n"
     ]
    }
   ],
   "source": [
    "%time exactHH=get_exact_HH(stream)"
   ]
  },
  {
   "cell_type": "code",
   "execution_count": 84,
   "metadata": {},
   "outputs": [
    {
     "name": "stdout",
     "output_type": "stream",
     "text": [
      "5.25 s ± 215 ms per loop (mean ± std. dev. of 7 runs, 1 loop each)\n"
     ]
    }
   ],
   "source": [
    "%timeit exactHH=get_exact_HH(stream)"
   ]
  },
  {
   "cell_type": "code",
   "execution_count": 85,
   "metadata": {},
   "outputs": [
    {
     "name": "stdout",
     "output_type": "stream",
     "text": [
      " "
     ]
    }
   ],
   "source": [
    "%prun exactHH=get_exact_HH(stream)"
   ]
  },
  {
   "cell_type": "code",
   "execution_count": 91,
   "metadata": {},
   "outputs": [
    {
     "name": "stdout",
     "output_type": "stream",
     "text": [
      "The line_profiler extension is already loaded. To reload it, use:\n",
      "  %reload_ext line_profiler\n"
     ]
    }
   ],
   "source": [
    "%load_ext line_profiler\n",
    "%load_ext memory_profiler"
   ]
  },
  {
   "cell_type": "code",
   "execution_count": 92,
   "metadata": {},
   "outputs": [
    {
     "name": "stdout",
     "output_type": "stream",
     "text": [
      "peak memory: 2281.76 MiB, increment: 21.73 MiB\n"
     ]
    }
   ],
   "source": [
    "%memit exactHH=get_exact_HH(stream)"
   ]
  },
  {
   "cell_type": "code",
   "execution_count": 109,
   "metadata": {},
   "outputs": [
    {
     "data": {
      "text/plain": [
       "10752439.0"
      ]
     },
     "execution_count": 109,
     "metadata": {},
     "output_type": "execute_result"
    }
   ],
   "source": [
    "exactHH[:2000,1].sum()"
   ]
  },
  {
   "cell_type": "code",
   "execution_count": 181,
   "metadata": {},
   "outputs": [],
   "source": [
    "def get_np_cs(cHHs,cFreqs, k):\n",
    "    cFreqs=cFreqs.cpu().numpy()\n",
    "    cFreqs=np.clip(cFreqs,0,None)\n",
    "    idx=np.argsort(-1*cFreqs)    \n",
    "    HHfreq=np.vstack((cHHs.numpy(),cFreqs))\n",
    "    shh,sfreq=HHfreq[:,idx][:,:k]\n",
    "    return shh, sfreq\n",
    " "
   ]
  },
  {
   "cell_type": "code",
   "execution_count": 182,
   "metadata": {},
   "outputs": [],
   "source": [
    "exactRank=exactHH[:,1].cumsum()/stream_len"
   ]
  },
  {
   "cell_type": "code",
   "execution_count": 514,
   "metadata": {},
   "outputs": [],
   "source": [
    "def get_relative_error(exactHH,cHHs,cFreqs, prepro=False, k=None):\n",
    "    if prepro:\n",
    "        cHHs, cFreqs = get_np_cs(cHHs,cFreqs, k)\n",
    "    else:\n",
    "        k = len(cHHs)\n",
    "#     perc=np.round(exactHH[:k,1].sum()/exactHH[:,1].sum()*100).astype('int')\n",
    "    errVec, setAcc, Acc5 = np.ones(k), 0, 0\n",
    "    for ii in range(k):\n",
    "        eHH_i, eFreq_i = exactHH[ii,0], exactHH[ii,1]\n",
    "        if eHH_i in cHHs:\n",
    "            c1 = cFreqs[cHHs == eHH_i]\n",
    "            errVec[ii] -= c1/eFreq_i\n",
    "            setAcc+=1\n",
    "        if ii == 34:\n",
    "            Acc5=setAcc/(ii+1)\n",
    "#         if ii == \n",
    "    setAcc=np.round(setAcc/k,2)\n",
    "    err=abs(errVec).sum()\n",
    "    print(f'top {k}|err {err.round(2)}|Acc5% {Acc5} | Acc{perc}% {setAcc}')\n",
    "    return errVec, err, acc"
   ]
  },
  {
   "cell_type": "code",
   "execution_count": 573,
   "metadata": {},
   "outputs": [],
   "source": [
    "def get_recovery_rate(exactHH,cHHs,cFreqs, prepro=False, k=None):\n",
    "    if prepro:\n",
    "        cHHs, cFreqs = get_np_cs(cHHs,cFreqs, k)\n",
    "    else:\n",
    "        k = len(cHHs)\n",
    "    eFreqs=exactHH[:,1]\n",
    "    total=eFreqs.sum()\n",
    "    rank=eFreqs.cumsum()\n",
    "    alpha=eFreqs/total   \n",
    "#     perc=np.round(exactHH[:k,1].sum()/exactHH[:,1].sum()*100).astype('int')\n",
    "    errVec, setAcc, Acc5 = np.ones(k), 0, 0\n",
    "    for ii in range(k):\n",
    "        eHH_i, eFreq_i = exactHH[ii,0], exactHH[ii,1]\n",
    "        if eHH_i in cHHs:\n",
    "            c1 = cFreqs[cHHs == eHH_i]\n",
    "            errVec[ii]= abs(c1-eFreq_i)/eFreq_i\n",
    "#     print(f'top {k}|err {err.round(2)}|Acc5% {Acc5} | Acc{perc}% {setAcc}')\n",
    "    rec01=1-errVec[:np.where(alpha-0.001>=0)[0][-1]+1].cumsum()[-1]\n",
    "    print(f'top {k}|rec {rec01.round(2)}')\n",
    "\n",
    "    return errVec,alpha,rec01,rank"
   ]
  },
  {
   "cell_type": "code",
   "execution_count": 574,
   "metadata": {},
   "outputs": [],
   "source": [
    "k=3150\n",
    "cHHs, cFreqs = get_np_cs(mHHs,mFreqs, k=k)"
   ]
  },
  {
   "cell_type": "code",
   "execution_count": 575,
   "metadata": {},
   "outputs": [
    {
     "name": "stdout",
     "output_type": "stream",
     "text": [
      "top 3150|rec 0.94\n"
     ]
    }
   ],
   "source": [
    "errVec,alpha,rec01,erank=get_recovery_rate(exactHH,cHHs,cFreqs,False)"
   ]
  },
  {
   "cell_type": "code",
   "execution_count": 587,
   "metadata": {},
   "outputs": [
    {
     "data": {
      "text/plain": [
       "Text(0, 0.5, 'recovery rate: 1-|fi-fcs_i|/fi')"
      ]
     },
     "execution_count": 587,
     "metadata": {},
     "output_type": "execute_result"
    },
    {
     "data": {
      "image/png": "[encoded data removed]",
      "text/plain": [
       "<Figure size 432x288 with 1 Axes>"
      ]
     },
     "metadata": {
      "needs_background": "light"
     },
     "output_type": "display_data"
    }
   ],
   "source": [
    "plt.scatter(erank[:k],errVec,s=0.1)\n",
    "plt.axvline(erank[13], c='r',label='alpha=0.1%')\n",
    "plt.ylim(0,1)\n",
    "plt.xlim(0)\n",
    "plt.legend()\n",
    "plt.xlabel('rank')\n",
    "plt.ylabel('recovery rate: 1-|fi-fcs_i|/fi')"
   ]
  },
  {
   "cell_type": "code",
   "execution_count": 572,
   "metadata": {},
   "outputs": [
    {
     "data": {
      "text/plain": [
       "array([8.93114236e-04, 9.89533854e-04, 1.63513397e-03, ...,\n",
       "       2.54043269e+02, 2.55043269e+02, 2.56043269e+02])"
      ]
     },
     "execution_count": 572,
     "metadata": {},
     "output_type": "execute_result"
    }
   ],
   "source": [
    "errVec.cumsum()"
   ]
  },
  {
   "cell_type": "code",
   "execution_count": null,
   "metadata": {},
   "outputs": [],
   "source": [
    "plt.plot(np.log(alpha[:2000]),errVec)\n",
    "plt.xlabel('alpha')\n",
    "plt.ylabel('Relative Error')"
   ]
  },
  {
   "cell_type": "code",
   "execution_count": 562,
   "metadata": {},
   "outputs": [],
   "source": [
    "from scipy.stats import gaussian_kde"
   ]
  },
  {
   "cell_type": "code",
   "execution_count": 568,
   "metadata": {},
   "outputs": [],
   "source": [
    "x=alpha[:k]"
   ]
  },
  {
   "cell_type": "code",
   "execution_count": null,
   "metadata": {},
   "outputs": [],
   "source": [
    "y="
   ]
  },
  {
   "cell_type": "code",
   "execution_count": 547,
   "metadata": {},
   "outputs": [
    {
     "data": {
      "text/plain": [
       "Text(0, 0.5, 'recovery rate: 1-|fi-fcs_i|/fi')"
      ]
     },
     "execution_count": 547,
     "metadata": {},
     "output_type": "execute_result"
    },
    {
     "data": {
      "image/png": "[encoded data removed]",
      "text/plain": [
       "<Figure size 432x288 with 1 Axes>"
      ]
     },
     "metadata": {
      "needs_background": "light"
     },
     "output_type": "display_data"
    }
   ],
   "source": [
    "# plt.plot(alpha[:2000],errVec.cumsum(), label='err')\n",
    "plt.plot(alpha[:2000],1-errVec.cumsum(),c='green', label='recovery')\n",
    "\n",
    "plt.axvline(0.001,c='r', label='alpha=0.1%')\n",
    "plt.ylim(0,1)\n",
    "plt.xlim(0)\n",
    "plt.legend()\n",
    "plt.xlabel('alpha=fi/sum(fi)')\n",
    "plt.ylabel('recovery rate: 1-|fi-fcs_i|/fi')"
   ]
  },
  {
   "cell_type": "code",
   "execution_count": 95,
   "metadata": {},
   "outputs": [],
   "source": [
    "import torch"
   ]
  },
  {
   "cell_type": "code",
   "execution_count": 484,
   "metadata": {},
   "outputs": [],
   "source": [
    "import math\n",
    "import numpy as np\n",
    "import copy\n",
    "import torch\n",
    "LARGEPRIME = 2**61-1\n",
    "torch.random.manual_seed(42)\n",
    "class CSVec(object):\n",
    "    def __init__(self, d, c, r, k, device=None):\n",
    "        self.r = r # num of rows\n",
    "        self.c = c # num of columns\n",
    "        self.d = int(d) # vector dimensionality\n",
    "        if device is None:\n",
    "            device = 'cuda' if torch.cuda.is_available() else 'cpu'\n",
    "        else:\n",
    "            if (not isinstance(device, torch.device) and\n",
    "                    not (\"cuda\" in device or device == \"cpu\")):\n",
    "                msg = \"Expected a valid device, got {}\"\n",
    "                raise ValueError(msg.format(device))\n",
    "        self.device = device\n",
    "        self.table = torch.zeros((r, c), device=self.device)\n",
    "\n",
    "        torch.random.manual_seed(42)\n",
    "        rand_state = torch.random.get_rng_state()\n",
    "\n",
    "        self.hashes = torch.randint(0, LARGEPRIME, (self.r, 6),\n",
    "                               dtype=torch.int64, device=\"cpu\")\n",
    "        torch.random.set_rng_state(rand_state)\n",
    "        self.h1 = self.hashes[:,0:1]\n",
    "        self.h2 = self.hashes[:,1:2]\n",
    "        self.h3 = self.hashes[:,2:3]\n",
    "        self.h4 = self.hashes[:,3:4]\n",
    "        self.h5 = self.hashes[:,4:5]\n",
    "        self.h6 = self.hashes[:,5:6]\n",
    "\n",
    "        self.topk = torch.zeros((k,2), dtype=torch.int64, device=self.device)        \n",
    "    \n",
    "#     def accumulateVec(self, vec1, vec2):\n",
    "#         vec1 = vec1.to(self.device)\n",
    "#         vec2 = vec2.to(self.device)\n",
    "\n",
    "#         assert(len(vec.size()) == 1)\n",
    "#         signs = (((self.h1 * vec + self.h2) * vec + self.h3) * vec + self.h4)\n",
    "#         signs = ((signs % LARGEPRIME % 2) * 2 - 1).float()\n",
    "#         signs = signs.to(self.device)\n",
    "\n",
    "#         # computing bucket hashes (2-wise independence)\n",
    "\n",
    "#         buckets = ((self.h5 * vec) + self.h6) % LARGEPRIME % self.c\n",
    "#         buckets = buckets.to(self.device)\n",
    "\n",
    "#         # the vector is sketched to each row independently\n",
    "#         for r in range(self.r):\n",
    "#             bucket = buckets[r,:]\n",
    "#             sign = signs[r,:]\n",
    "#             # print('bucket', r, bucket, sign)\n",
    "#             self.table[r,:] += torch.bincount(input=bucket,\n",
    "#                                               weights=sign,\n",
    "#                                               minlength=self.c)\n",
    "            \n",
    "    def _findValues(self, vec):\n",
    "        # computing sign hashes (4 wise independence)\n",
    "        signs = (((self.h1 * vec + self.h2) * vec + self.h3) * vec + self.h4)\n",
    "        signs = ((signs % LARGEPRIME % 2) * 2 - 1).float()\n",
    "        signs = signs.to(self.device)\n",
    "\n",
    "        # computing bucket hashes (2-wise independence)\n",
    "        buckets = ((self.h5 * vec) + self.h6) % LARGEPRIME % self.c\n",
    "        buckets = buckets.to(self.device)  \n",
    "        # estimating frequency of input coordinates\n",
    "        d = vec.size()[0]\n",
    "        vals = torch.zeros(self.r, d, device=self.device)\n",
    "        for r in range(self.r):\n",
    "            vals[r] = self.table[r, buckets[r]] * signs[r]\n",
    "        return vals.median(dim=0)[0]\n",
    "\n",
    "    def accumulateVec(self, vec):\n",
    "        assert(len(vec.size()) == 1)\n",
    "        signs = (((self.h1 * vec + self.h2) * vec + self.h3) * vec + self.h4)\n",
    "        signs = ((signs % LARGEPRIME % 2) * 2 - 1).float()\n",
    "        signs = signs.to(self.device)\n",
    "        # computing bucket hashes (2-wise independence)\n",
    "        buckets = ((self.h5 * vec) + self.h6) % LARGEPRIME % self.c\n",
    "        buckets = buckets.to(self.device)\n",
    "        for r in range(self.r):\n",
    "            bucket = buckets[r,:]\n",
    "            sign = signs[r,:]\n",
    "            self.table[r,:] += torch.bincount(input=bucket,\n",
    "                                                weights=sign,\n",
    "                                                minlength=self.c)\n",
    "    def query(self, vec):\n",
    "        signs = (((self.h1 * vec + self.h2) * vec + self.h3) * vec + self.h4)\n",
    "        signs = ((signs % LARGEPRIME % 2) * 2 - 1).float()\n",
    "        signs = signs.to(self.device)\n",
    "        # computing bucket hashes (2-wise independence)\n",
    "        buckets = ((self.h5 * vec) + self.h6) % LARGEPRIME % self.c\n",
    "        buckets = buckets.to(self.device)\n",
    "        vals = torch.zeros(self.r, vec.size()[0],dtype=torch.int64, device=self.device)#\n",
    "        for r in range(self.r):\n",
    "            bucket = buckets[r,:]\n",
    "            sign = signs[r,:]           \n",
    "            vals[r] = self.table[r, bucket] * sign\n",
    "        return vals.median(dim=0)[0]\n",
    "\n"
   ]
  },
  {
   "cell_type": "code",
   "execution_count": 471,
   "metadata": {},
   "outputs": [],
   "source": [
    "stream_tr=torch.tensor(stream, dtype=torch.int64)\n",
    "stream0_tr=torch.tensor(stream0, dtype=torch.int64)\n"
   ]
  },
  {
   "cell_type": "code",
   "execution_count": 224,
   "metadata": {},
   "outputs": [],
   "source": [
    "d=100000\n",
    "r=10\n",
    "k=1000\n",
    "c=20000\n",
    "device=None\n",
    "csv1=CSVec(d, 20000, 10, topk, device=device)\n"
   ]
  },
  {
   "cell_type": "code",
   "execution_count": 285,
   "metadata": {},
   "outputs": [],
   "source": [
    "streamLen=len(stream)"
   ]
  },
  {
   "cell_type": "code",
   "execution_count": 290,
   "metadata": {},
   "outputs": [
    {
     "data": {
      "text/plain": [
       "26034006"
      ]
     },
     "execution_count": 290,
     "metadata": {},
     "output_type": "execute_result"
    }
   ],
   "source": [
    "streamLen"
   ]
  },
  {
   "cell_type": "code",
   "execution_count": 244,
   "metadata": {},
   "outputs": [],
   "source": [
    "testCode='''get_CS_HH(stream_tr0, csv1)'''"
   ]
  },
  {
   "cell_type": "code",
   "execution_count": 241,
   "metadata": {},
   "outputs": [],
   "source": [
    "import timeit\n",
    "from concurrent.futures import ThreadPoolExecutor, as_completed"
   ]
  },
  {
   "cell_type": "code",
   "execution_count": 262,
   "metadata": {},
   "outputs": [],
   "source": [
    "sizeList=np.array([1e4,5*1e4,1e5,5*1e5,1e6,5*1e6,1e7,2*1e7]).astype('int')"
   ]
  },
  {
   "cell_type": "code",
   "execution_count": 664,
   "metadata": {},
   "outputs": [],
   "source": [
    "def get_CS_HH(stream_tr, d,c,r,k,device):\n",
    "    HHs=stream_tr.unique()\n",
    "    csv=CSVec( d, c, r, k, device=device)    \n",
    "    for ii in range(stream_tr.shape[0]//d+1):\n",
    "        substream=stream_tr[ii*d:(ii+1)*d]\n",
    "        csv.accumulateVec(substream)\n",
    "    freqs=csv.query(HHs)\n",
    "    return HHs, freqs\n",
    "        "
   ]
  },
  {
   "cell_type": "code",
   "execution_count": 610,
   "metadata": {},
   "outputs": [],
   "source": [
    "# def get_CS_HH_parallel(stream_tr,d,c,r,k,device,nThread):\n",
    "#     HHs=stream_tr.unique()\n",
    "#     patch=int(stream_tr.shape[0]//nThread)\n",
    "#     stream_loader = lambda x: get_CS_table(stream_tr[x*patch:(x+1)*patch],d,c,r,k,device)\n",
    "#     csv0= CSVec( d, c, r, k, device=device) \n",
    "#     with ThreadPoolExecutor() as executor: \n",
    "#         futures = []\n",
    "#         for idx in range(nThread+1):\n",
    "#             futures.append(executor.submit(stream_loader, idx))\n",
    "#             # print(f\" No.{idx} image is loaded\")\n",
    "#         for future in as_completed(futures):\n",
    "#             table = future.result()\n",
    "#             csv0.table += table\n",
    "#     freqs=csv0.query(HHs)\n",
    "#     return HHs, freqs \n",
    "\n",
    "# def get_CS_table(stream_tr,d,c,r,k,device):\n",
    "#     csv=CSVec( d, c, r, k, device=device) \n",
    "#     for ii in range(stream_tr.shape[0]//d+1):\n",
    "#         substream=stream_tr[ii*d:(ii+1)*d]\n",
    "#         csv.accumulateVec(stream_tr)\n",
    "#         table=csv.table\n",
    "#         del csv\n",
    "#         return table"
   ]
  },
  {
   "cell_type": "code",
   "execution_count": 659,
   "metadata": {},
   "outputs": [],
   "source": [
    "def get_CS_parallel_args(stream_tr,d,c,r,k,device):\n",
    "    nThread=int(stream_tr.shape[0]//d)\n",
    "    stream_loader = lambda x: get_CS_table(stream_tr[x*d:(x+1)*d],d,c,r,k,device)\n",
    "    csv0= CSVec( d, c, r, k, device=device) \n",
    "    return nThread, stream_loader, csv0\n",
    "\n",
    "# def get_CS_table(stream_tr,d,c,r,k,device):\n",
    "#     csv=CSVec( d, c, r, k, device=device) \n",
    "#     csv.accumulateVec(stream_tr)\n",
    "#     table=csv.table\n",
    "#     del csv\n",
    "#     return table\n",
    "def get_CS_table(args):\n",
    "    stream_tr, d,c,r,k,device=[*args]\n",
    "    csv=CSVec( d, c, r, k, device=device) \n",
    "    csv.accumulateVec(stream_tr)\n",
    "    table=csv.table\n",
    "    del csv\n",
    "    return table\n",
    "def get_stream_loader(d,c,r,k,device):\n",
    "    return lambda x: get_CS_table(x, d,c,r,k,device)"
   ]
  },
  {
   "cell_type": "code",
   "execution_count": 620,
   "metadata": {},
   "outputs": [],
   "source": [
    "a=stream_loader(2)"
   ]
  },
  {
   "cell_type": "code",
   "execution_count": 662,
   "metadata": {},
   "outputs": [],
   "source": [
    "from torch.multiprocessing import Process, Array, Pool,set_start_method"
   ]
  },
  {
   "cell_type": "code",
   "execution_count": 649,
   "metadata": {},
   "outputs": [],
   "source": [
    "stream_loader = get_stream_loader(d,c,r,k,device)"
   ]
  },
  {
   "cell_type": "code",
   "execution_count": 657,
   "metadata": {},
   "outputs": [
    {
     "data": {
      "text/plain": [
       "[(tensor([36584152397, 36584152397, 36584152397, 36584152397, 36584152397,\n",
       "          36584152397, 36584152397, 36584152397, 36584152397, 36584151913,\n",
       "          36584151891, 36584151891, 36584151869, 36583925645, 36583915481,\n",
       "          36584159923, 36578986576, 36578986576, 36584140714, 36584151384,\n",
       "          36584151406, 36584151891, 36584151891, 36584152397, 36584152397,\n",
       "          36584152397, 36584152375, 36584152375, 36584151891, 36584151891,\n",
       "          36584151869, 36584151847, 36584151319, 36584151824, 36584151869,\n",
       "          36584151869, 36584151891, 36584152375, 36584152375, 36584152375,\n",
       "          36584152397, 36584152375, 36584151869, 36584151869, 36584151847,\n",
       "          36584151846, 36584141265, 36584141265, 36584141243, 36584151891,\n",
       "          36584151869, 36584151362, 36687218792, 36687218792, 36687208649,\n",
       "          36687209133, 36687209133, 36687209638, 36687220286, 36692373918,\n",
       "          36692373918, 36692373896, 36692140124, 36692140123, 36692140101,\n",
       "          36692151233, 36583934136, 36578791152, 36578780020, 36584161175,\n",
       "          36584161175, 36584170877, 36584181042, 36584180558, 36589333706,\n",
       "          36584180074, 36584169910, 36584170394, 36584159745, 36584149581,\n",
       "          36584160229, 36589313839, 36589313355, 36589313355, 36589313355,\n",
       "          36589313839, 36589313839, 36589314323, 36584160691, 36584161153,\n",
       "          36584161153, 36584161637, 36584151473, 36584151451, 36584151451,\n",
       "          36584151451, 36584151451, 36584151451, 36583916733, 36583916733,\n",
       "          36583916249, 36583926435, 36583925951, 36589089747, 36589334168,\n",
       "          36589344332, 36589344332, 36589344332, 36589334168, 36589324003,\n",
       "          36583926435, 36584161153, 36584151473, 36584151451, 36584151935,\n",
       "          36584151913, 36584151913, 36584152397, 36584152397, 36584152397,\n",
       "          36584152397, 36584152397, 36584152397, 36584152397, 36584151913,\n",
       "          36584151913, 36584151891, 36584151891, 36584151891, 36584151869,\n",
       "          36584151869, 36584151868, 36584151868, 36584151384, 36584151406,\n",
       "          36584150944, 36584161130, 36583926412, 36583925929, 36583936093,\n",
       "          36583935631, 36583935631, 36583935631, 36584180535, 36584180535,\n",
       "          36584169887, 36584170371, 36584160207, 36584160207, 36583915281,\n",
       "          36583925929, 36583926413, 36583926413, 36584160669, 36584160669,\n",
       "          36583926413, 36583925929, 36583925929, 36583925445, 36687198946,\n",
       "          36682034182, 36682034183, 36682034183, 36682023535, 36795403439,\n",
       "          36790239159, 36790239159, 36790239159, 36790249785, 36682023513,\n",
       "          36682023996, 36692365183, 36692365161, 36692375809, 36692365667,\n",
       "          36692376315, 36692376337, 36692376337, 36692365183, 36692365183,\n",
       "          36686976327, 36686965657, 36687199913, 36687189749, 36687189771,\n",
       "          36687190255, 36692354535, 36692354535, 36692354535, 36692354535,\n",
       "          36578985763, 36578985279, 36578985279, 36795403901, 36795403439,\n",
       "          36795402955, 36682033216, 36682033216, 36682033700, 36682023052,\n",
       "          36682023535, 36682024019, 36682034666, 36687188298, 36687199430,\n",
       "          36687199430, 36687199430, 36687189266, 36687189266, 36687189266,\n",
       "          36687188782, 39181546670, 39176393038, 39176382390, 39176381906,\n",
       "          36682024018, 36795403922, 36795403922, 36682024018, 36583925269,\n",
       "          36583915083, 36583915061, 36583915040, 36583915040, 36583915018,\n",
       "          36583915018, 36583915018, 36583915018, 36583915018, 36583915040,\n",
       "          36583915083, 36583915104, 36584169293, 36584169227, 36584169646,\n",
       "          36584159438, 36583925645, 36583925645, 36583914997, 36583925667,\n",
       "          36584159922, 36584159944, 36584159987, 36584170216, 36584170282,\n",
       "          36584160163, 36584160691, 36584170877, 36584170878, 36584181042,\n",
       "          34089812990, 34089812990, 34089813012, 34089813012, 34089812990,\n",
       "          34089812506, 36584170394, 36584181042, 34089823154, 34089823154,\n",
       "          34089823154, 34089823154, 34089823638, 34089823638, 36583947270,\n",
       "          36583936622, 36583937105, 36583937083, 36583926919, 36583916755,\n",
       "          36584150989, 36584151451, 36584151429, 36584151913, 36584151891,\n",
       "          36584151891, 36584151891, 36584151890, 36584151384, 36584151384,\n",
       "          36584151406, 36584150922, 36584150944, 36584150460, 36584150460,\n",
       "          36692376248, 36692365072, 36578985102, 36578985081, 36578985543,\n",
       "          36578985564, 36692365974, 36578986576, 36578986576, 36578987082,\n",
       "          36584151384, 36584151406, 36584151891, 36584151891, 36584152397,\n",
       "          36584152397, 36584152397, 36584152397, 36584152375, 36584151891,\n",
       "          36584151891, 36584151869, 36584151847, 36584151319, 36584151319,\n",
       "          36584150834, 36584150372, 36583915698, 36583925906, 36583925445,\n",
       "          36583915303, 36583915303, 36583914819, 36584151495, 36584151980,\n",
       "          36584152002, 36584152002, 36584152002, 36697531928, 36697531928,\n",
       "          36697520796, 36697520796, 36697520796, 36692377812, 36697531444,\n",
       "          36697531444, 36697531444, 36697531444, 36697530960, 36697530938,\n",
       "          36578997379, 36584151495, 36584151473, 36584151473, 36584151957,\n",
       "          36584151935, 36584151935, 36584151935, 36584151451, 36584151451,\n",
       "          36584162099, 36584162121, 36584161637, 36584161637, 36584172285,\n",
       "          36584171801, 36584171823, 34089813935, 36584171823, 36584161175,\n",
       "          36584161175, 36584150043, 36584150043, 36697518815, 36692364699,\n",
       "          36692374357, 36692384038, 36687229923, 36687219275, 36687219274,\n",
       "          36687219758, 36579003650, 36579014276, 36584178556, 36584179040,\n",
       "          36584179040, 36583935609, 36697316019, 36697316503, 36697306339,\n",
       "          34203182729, 36697529969, 36697529969, 36692375853, 36692375369,\n",
       "          36692385511, 36692384544, 36579024969, 36584178096, 36579023980,\n",
       "          36579023980, 36579013815, 36692383532, 36579013793, 36579013793,\n",
       "          36579014277, 36584199853, 36584199392, 36584199392, 36584199392,\n",
       "          36584199392, 36584189250, 36584179085, 36584179591, 36584180074,\n",
       "          36584180558, 36584181042, 36584170878, 36584171362, 36584171362,\n",
       "          36584161198, 36584171362, 36584171362, 36584171362, 36584171362,\n",
       "          36584171362, 36584170878, 36584170878, 36584170878, 36584170878,\n",
       "          36584170878, 36584171362, 36584171362, 36584170878, 36584170878,\n",
       "          36584170878, 36584171362, 36584171362, 36584160714, 36584160714,\n",
       "          36584160714, 36584160714, 36584171362, 36584160713, 36584160713,\n",
       "          36584161197, 36584150549, 36584151033, 36584161659, 36584161175,\n",
       "          36584161175, 36584161175, 36584160691, 36697541079, 36697541079,\n",
       "          36697541101, 36697541101, 36584171361, 36584171361, 36584170878,\n",
       "          36584181526, 36583947270, 36583936622, 36583936621, 36583937105,\n",
       "          36583937105, 36583937083, 36583937083, 36583926435, 36584161153,\n",
       "          36584150989, 36584150966, 36583927358, 36583927359, 36583927381,\n",
       "          36584161637, 36584161153, 36584161175, 36584161175, 36584160691,\n",
       "          36584160691, 36584160691, 36583907120, 36583907120, 36583907120,\n",
       "          36583907120, 39078264986, 36583907120, 36583907120, 36583917284,\n",
       "          36583917284, 36584161220, 36584160736, 36584170394, 36584169910,\n",
       "          36584169426, 36579015772, 36579015772, 36579015772, 36578781516,\n",
       "          36583935148, 36583945796, 36583934664, 36583935148, 36583935148,\n",
       "          36583935148, 36583935148, 36583935654, 36692151761, 36692151761,\n",
       "          36692386017, 36692151761, 36697305855, 36583925928, 36583926368,\n",
       "          36583916160, 36584150416, 36584150900, 36583916644, 36583916644,\n",
       "          36583916160, 36583916160, 36583915676, 36583925840, 36583925862,\n",
       "          36583936532, 36583937038, 36583926919, 36697540111, 36697529463,\n",
       "          36697529947, 36692376315, 36692366151, 36692366151, 36692366129,\n",
       "          36692131828, 36697285416, 36697285394, 36697296020, 36697061764,\n",
       "          36697061764, 36697061764, 36697061764, 36697061742, 34202703854,\n",
       "          34202703854, 34202703854, 34202703854, 36697061742, 36697061742,\n",
       "          36697295998, 36692142388, 36692142432, 36692131850, 36692365645,\n",
       "          36692365667, 36692365183, 36692365183, 36692364699, 36687211089,\n",
       "          36687211090, 36687211090, 36687211090, 36687199958, 39181557846,\n",
       "          39181557846, 39186722126, 36692374886, 36692374886, 36692374402,\n",
       "          36692384566, 36692384566, 36692384083, 36692384566, 36692373918,\n",
       "          36692374402, 36692374886, 36579005630, 36579005146, 36579004662,\n",
       "          36692384566, 36692384544, 36692374380, 36692374380, 36692374380,\n",
       "          36692374380, 36692374379, 36692364215, 36687199935, 36687199935,\n",
       "          36687199913, 36687199935, 36687199935, 36687210583, 36692374863,\n",
       "          36579005146, 36579005146, 36579005630, 36584169910, 36584169426,\n",
       "          36584180074, 36584180558, 36584170394, 36584170371, 36579007037,\n",
       "          36584150438, 36584150372, 36584150813, 36584151319, 36584151319,\n",
       "          36584151824, 36584151869, 36584151869, 36584151891, 36584151891,\n",
       "          36584151891, 36584152375, 36584152397, 36584151891, 36584151869,\n",
       "          36584151869, 36584151847, 36584151846, 36584151384, 36584151406,\n",
       "          36584151451, 36697531399, 36697520774, 36692366680, 36692366174,\n",
       "          36692355042, 36687200926, 36687189794, 36687189288, 36795415077,\n",
       "          36795403945, 36795404429, 36795404429, 36795404912, 36682035656,\n",
       "          36687189772, 36687189772, 36687190255, 36692354535, 36682024502,\n",
       "          36682034666, 36687188298, 36687198946, 36687198946, 36687209594,\n",
       "          36687209594, 36687209594, 36687199429, 36687199429, 36687199429,\n",
       "          36687199429, 36687189265, 36692365183, 36692365205, 36692375853,\n",
       "          36697529970, 36697530476, 36697530476, 36697530960, 36697520312,\n",
       "          36697520312, 36692366196, 36692376360, 36692375876, 36692375370,\n",
       "          36692364722, 36692364721, 36692364721, 36692364721, 36692375369,\n",
       "          36692375369, 36692375347, 36692364699, 36692354051, 36687200419,\n",
       "          36687199935, 36687199452, 36687199452, 36687199452, 36687199452,\n",
       "          36687199430, 36584160207, 36584149559, 36584150043, 36584150065,\n",
       "          36697530453, 36697520289, 36697530937, 36697530937, 36584151033,\n",
       "          36584151518, 36584140870, 36583906614, 39078264502, 39078264479,\n",
       "          36584151825, 36584151341, 36584151319, 36584151297, 36584140781,\n",
       "          36584141265, 36584141265, 36584141265, 36584151891, 36584151891,\n",
       "          36584151868, 36584151362, 36584151362, 36584150900, 36584150460,\n",
       "          36584149998, 36584138866, 36584138866, 36583904566, 36583904522,\n",
       "          36583915104, 36583915061, 36583915018, 36583914997, 36583915481,\n",
       "          36583915460, 36583915460, 36583915460, 36583914997, 36583915019,\n",
       "          36583914556, 36584147887, 36584136799, 36584126217, 36584104966,\n",
       "          34094879459, 34094858670, 34089705039, 34089693907, 34089693907,\n",
       "          34089694391, 34089694391, 34089705039, 34089705038, 34094869823,\n",
       "          34094880471, 36589249491, 36589260138, 36589260138, 36583883382,\n",
       "          34094689290, 34094689290, 34094689290, 34094912898, 34094912898,\n",
       "          34094912898, 36584127802, 36584127801, 39186723004, 36692365116,\n",
       "          36692364632, 36692375258, 36692364588, 36692364588, 36692365072,\n",
       "          36692365072, 36692364588, 36692364126, 36687210011, 36687209549,\n",
       "          36687209088, 36687209088, 36682044325, 36682043863, 36682043863,\n",
       "          36682043863, 36682044347, 36682044347, 36682044347, 36682043863,\n",
       "          36687208144, 36687208144, 36687208143, 36687208649, 36687209133,\n",
       "          36687209133, 36687220286, 36687220286, 36692373918, 36692373918,\n",
       "          36692374380, 36692140124, 36692140123, 36692140607, 36692151233,\n",
       "          36692151233, 36697305349, 36697305349, 36697305833, 36697306316,\n",
       "          36697072060, 36697072061, 36697072061, 36697072060, 36583926390,\n",
       "          36583926390, 36697306294, 36583925906, 36583925423, 36583935103,\n",
       "          36578780504, 36578780504, 36578780020, 36578780504, 36692150243,\n",
       "          36692140079, 36692140079, 36692128947, 36692363203, 36692353039,\n",
       "          36692353523, 36692353523, 36692364654, 36692130882, 36697284514,\n",
       "          36697284514, 36583904610, 36583915742, 36697295668, 36697296153,\n",
       "          36697530431, 36584150527, 36584160691, 36584170877, 36584170394,\n",
       "          36589333706, 36589333706, 36589333706, 36584169426, 36584169910,\n",
       "          36584159745, 36584149581, 36584149581, 36589313839, 36589313355,\n",
       "          36589313355, 36589313355, 36589313839, 36589313839, 36584150043,\n",
       "          36584160691, 36584161153, 36584161637, 36584150989, 36584151451,\n",
       "          36584151451, 36584151451, 36584151451, 36584151451, 36584151451,\n",
       "          36584150967, 36584150989, 36583916249, 36583926435, 36583925951,\n",
       "          36589089747, 36589334168, 36589344332, 36589344332, 36589344332,\n",
       "          36589334168, 36589324003, 36584160691, 36584161153, 36584150989,\n",
       "          36584151451, 36584151935, 36584151913, 36584151913, 36584152397,\n",
       "          36584152397, 36584152397, 36584152397, 36584152397, 36584152397,\n",
       "          36584152397, 36584151913, 36584151913, 36584151891, 36584151891,\n",
       "          36584151891, 36584151869, 36584151869, 36584151868, 36584151868,\n",
       "          36584151406, 36584151406, 36584151428, 36584150966, 36584161130,\n",
       "          36583925929, 36583936093, 36583935631, 36583935631, 36584169887,\n",
       "          36584180535, 36584169887, 36584169887, 36584170371, 36584160207,\n",
       "          36584160207, 36583925951, 36583925929, 36583926413, 36583926413,\n",
       "          36584160669, 36584160669, 36583915765, 36583915765, 36583926413,\n",
       "          36583925929, 36583925929, 36583925928, 36583925906, 36583915258,\n",
       "          36583915258, 36583915258, 36583915258, 36697295162, 36692142014,\n",
       "          36692131366, 36692131366, 36692131366, 36692131366, 36692131366,\n",
       "          36692131366, 36692131366, 36692130882, 36692130882, 36692130860,\n",
       "          36692130860, 36692130860, 36692130376, 36692129892, 36692140079,\n",
       "          36692139595, 36692139595, 36692139111, 36692373851, 36692363203,\n",
       "          36686975799, 36686965151, 36686965173, 36686964690, 36687198462,\n",
       "          36687198463, 36682044347, 36682033699, 36682033699, 36795402955,\n",
       "          36795403439, 36790239159, 36790239159, 36795403417, 36795403417,\n",
       "          36682023996, 36682023996, 36687188759, 36687189243, 36692354007,\n",
       "          36692354006, 36692130882, 36692141530, 36697295162, 36697295162,\n",
       "          36692130882, 36692130882, 36692130398, 36692141069, 36692365161,\n",
       "          36692365161, 36692365161, 36692365161, 36692365161, 36692365183,\n",
       "          36692365183, 36692365183, 36692365161, 36692365161, 36692365645,\n",
       "          36692365645, 36692365667, 36692365667, 36692376315, 36692376337,\n",
       "          36692376337, 36692365689, 36692365183, 36692365183, 36692364699,\n",
       "          36692364677, 36692364215, 36692364215, 36692129959, 36686965679,\n",
       "          36687199935, 36687200419, 36687200419, 36692354535, 36692354535,\n",
       "          36692354535, 36692354535, 36692354535, 36692365667, 36578985763]),\n",
       "  1000,\n",
       "  100,\n",
       "  2,\n",
       "  100,\n",
       "  None),\n",
       " (tensor([36578985279, 36578985279, 36692364699, 36692354029, 36692354029,\n",
       "          36692354029, 36692354029, 36692354029, 36692354513, 36692354975,\n",
       "          36692365622, 36692131366, 36692130882, 36692130860, 36692130860,\n",
       "          36692119728, 36686966097, 36686954965, 36687178112, 36795403900,\n",
       "          36795403439, 36795402955, 36682033700, 36682033216, 36682033700,\n",
       "          36682023052, 36682023535, 36682023535, 36682034666, 36687188298,\n",
       "          36687198946, 36687199430, 36687199429, 36687189265, 36687189266,\n",
       "          36687189266, 36687189266, 39181546670, 39176393038, 39176382390,\n",
       "          39176381906, 36682024018, 36682024019, 36682024018, 36682024018,\n",
       "          36682024502, 39181536000, 39181547131, 39181547131, 36692119751,\n",
       "          36692119728, 36692120212, 36692130860, 36692130860, 36692130354,\n",
       "          36692130354, 36692140980, 36692140958, 36692140936, 36697294546,\n",
       "          36697294524, 36583915083, 36583915061, 36583915061, 36583915040,\n",
       "          36583915040, 36583915018, 36583915018, 36583915018, 36583915040,\n",
       "          36583915061, 36583915083, 36583915126, 36583915170, 36697295096,\n",
       "          36692130860, 36692131344, 36692131344, 36692131344, 36692131344,\n",
       "          39186488748, 39186488748, 39186488748, 36692130860, 36692130860,\n",
       "          36692130860, 36692130860, 36692120212, 39186477616, 39186477616,\n",
       "          36692119728, 36692119728, 36692130398, 36692130398, 36697284514,\n",
       "          36583904610, 36583905094, 36583915742, 36583915742, 36697295646,\n",
       "          36697295646, 36697295646, 36584149514, 36584160162, 36584160184,\n",
       "          36584160162, 36584159656, 36584169292, 36584169227, 36584169645,\n",
       "          36584159438, 36583925645, 36583925645, 36583925667, 36584159922,\n",
       "          36584159922, 36584159944, 36584159987, 36584170216, 36584170282,\n",
       "          36584160185, 36584160207, 36584160229, 36584170878, 36584170878,\n",
       "          34089578734, 34089812990, 34089812990, 34089812990, 34089812506,\n",
       "          34089812506, 36584170394, 36584170394, 36584181042, 36584181042,\n",
       "          34089823154, 34089823154, 34089823154, 36584181526, 36584181526,\n",
       "          36583936622, 36583936621, 36583937083, 36583926435, 36583926919,\n",
       "          36584150989, 36584151451, 36584151451, 36584151913, 36584151891,\n",
       "          36584151891, 36584151891, 36584151890, 36584151384, 36584151384,\n",
       "          36584150922, 36584150922, 36584150944, 36584150460, 36584150460,\n",
       "          36692365600, 36692365072, 36578985102, 36578985059, 36578985543,\n",
       "          36578985565, 36578986070, 36578986576, 36578986576, 36578987082,\n",
       "          36584140736, 36584151406, 36584151891, 36584151891, 36584152397,\n",
       "          36584152397, 36584152397, 36584152397, 36584152375, 36584151891,\n",
       "          36584151891, 36584151869, 36584151847, 36584151341, 36584151319,\n",
       "          36584150834, 36583916116, 36583915698, 36583925906, 36583925445,\n",
       "          36583915303, 36697295207, 36697294723, 36697294723, 36692141091,\n",
       "          36692365183, 36692365183, 36692365161, 36692365161, 39186488770,\n",
       "          39191653996, 36697530871, 36697531377, 36697531883, 36697531906,\n",
       "          36697531906, 36697531906, 36697531906, 36697531928, 36697520774,\n",
       "          36697520290, 36697520312, 36697520796, 36697531444, 36697531444,\n",
       "          36697531444, 36697531444, 36697531444, 36697530938, 36584151033,\n",
       "          36584151495, 36584151473, 36584151473, 36584151957, 36584151957,\n",
       "          36584151935, 36584151451, 36584151451, 36584151451, 36584162121,\n",
       "          36584162121, 36584161637, 36584172285, 36584171801, 36584171801,\n",
       "          36584171823, 36584171823, 36584171823, 36584161175, 36584161175,\n",
       "          36584150043, 36584150043, 36697518815, 36692364677, 36692374357,\n",
       "          36692373390, 36692383555, 36687219275, 36687219274, 36687219758,\n",
       "          36579003650, 36579014276, 36583944300, 36583944784, 36584179040,\n",
       "          36584179524, 36584179523, 36583935587, 36583936093, 36583936093,\n",
       "          36697316019, 36697316503, 36697305855, 36697540595, 36697529969,\n",
       "          36697529969, 36692375853, 36692375369, 36692385511, 36692384544,\n",
       "          36579024969, 36584178096, 36579023980, 36579023980, 36579013816,\n",
       "          36579003629, 36692373368, 36692373368, 36692139112, 36692383532,\n",
       "          36579003629, 36579013793, 36579013793, 36579014277, 36579014276,\n",
       "          36579003628, 36692383532, 36692384016, 36692373368, 36692373367,\n",
       "          36692373851, 36692373851, 36578994431, 36584148063, 36583924917,\n",
       "          36583924916, 36583924894, 36583935520, 36583935037, 36583945685,\n",
       "          36583945707, 36583945729, 36583955916, 36583955433, 36584199854,\n",
       "          36584199392, 36584199392, 36584199392, 36584188744, 36584189250,\n",
       "          36584179085, 36584179590, 36584180074, 36584180558, 36584181042,\n",
       "          36584170878, 36584171362, 36583926942, 36584161198, 36584171846,\n",
       "          36584171846, 36584171362, 36584171362, 36584171362, 36584170878,\n",
       "          36584170878, 36584170877, 36584171361, 36584171362, 36584171362,\n",
       "          36584171362, 36584171362, 36584171362, 36584171362, 36584171362,\n",
       "          36584171362, 36584160714, 36584160714, 36584160714, 36584160714,\n",
       "          36584171362, 36584160713, 36584160713, 36584161197, 36584150549,\n",
       "          36584151033, 36584150527, 36584161175, 36584161175, 36583926919,\n",
       "          36584160691, 36697541079, 36697541079, 36697541079, 36697541101,\n",
       "          36584160713, 36584171361, 36584170877, 36584181526, 36583947270,\n",
       "          36583947270, 36583936621, 36583937105, 36583937105, 36583937105,\n",
       "          36583937083, 36583926435, 36584161175, 36584161153, 36584161153,\n",
       "          36583926897, 36583926897, 36583927381, 36583926897, 36584161175,\n",
       "          36584161175, 36584161175, 36584160691, 36584160691, 36584160691,\n",
       "          36584160691, 36584160691, 36584160185, 36584160185, 36584149536,\n",
       "          36584159700, 36584159701, 36584170349, 36584170349, 36583936070,\n",
       "          39191663214, 36697539605, 36697539627, 36697529463, 36697529947,\n",
       "          39191887812, 39191654525, 36584140870, 36584141354, 36584141376,\n",
       "          36584141376, 36583907120, 36583907120, 36583907120, 36583907120,\n",
       "          36584152024, 36584151540, 36584161220, 36584171384, 36584170394,\n",
       "          36584169910, 36584169910, 36579015772, 36579015772, 36578781516,\n",
       "          36578781032, 36578781032, 36583934664, 36583934664, 36583934664,\n",
       "          36583935148, 36583935148, 36583935148, 36578771352, 36692151277,\n",
       "          36692151761, 36692141113, 36692151739, 36697305855, 36583925906,\n",
       "          36583926346, 36583916160, 36583916160, 36583916644, 36583916644,\n",
       "          36583916644, 36583916160, 36583916160, 36583915676, 36583925840,\n",
       "          36583925840, 36583936532, 36583937038, 36583926919, 36583926919,\n",
       "          36583926435, 36583915787, 36583915787, 36692141553, 39186733697,\n",
       "          36692365183, 36692365183, 36692375831, 36692375831, 36697529463,\n",
       "          36697540111, 36584160207, 36697529463, 36697529947, 36692131411,\n",
       "          36692131895, 36692131873, 36692131828, 36697285416, 36697285394,\n",
       "          36697296020, 36697061764, 36697061764, 36697061764, 36697061764,\n",
       "          36697061742, 34202703854, 34202703854, 34202703854, 36697061742,\n",
       "          36697061742, 36697061742, 36697295998, 36697296020, 36692142432,\n",
       "          36692131850, 36692365645, 36692365667, 36692365183, 36692365183,\n",
       "          36692364699, 36692364699, 36687211089, 36687211090, 36687211090,\n",
       "          39181557846, 39181557846, 39181557846, 39186722126, 36692374886,\n",
       "          36692374886, 36692385050, 36692384566, 36692384566, 36692384082,\n",
       "          36692384566, 36692384566, 36692374402, 36692385534, 36579005146,\n",
       "          36579005146, 36579015310, 36692384544, 36692384544, 36692374380,\n",
       "          36692374380, 36692374380, 36692374380, 36692374379, 36692363731,\n",
       "          36687199935, 36687199913, 36687199913, 36687199935, 36687199935,\n",
       "          36692364215, 36692374864, 36579005146, 36579005630, 36579005630,\n",
       "          36579016278, 36584169910, 36584180074, 36584180558, 36584169910,\n",
       "          36584170371, 36584160669, 36584150438, 36584150350, 36584150813,\n",
       "          36584150813, 36584151319, 36584151340, 36584151846, 36584151869,\n",
       "          36584151869, 36584151869, 36584151891, 36584152375, 36584152397,\n",
       "          36584152375, 36584151891, 36584151869, 36584151869, 36584151846,\n",
       "          36584151362, 36584151384, 36584151451, 36697520751, 36697520774,\n",
       "          36692366658, 36692366174, 36692355042, 36687200926, 36687189794,\n",
       "          36795415076, 36795415077, 36795403945, 36795404429, 36795404429,\n",
       "          36795404428, 36682035656, 36687189772, 36687189772, 36687189771,\n",
       "          36692354535, 36692354029, 36692354029, 36692119773, 36692119773,\n",
       "          36692354029, 36692354029, 36692354007, 36687200375, 36687189243,\n",
       "          36687188781, 36682035128, 36682024480, 36682024018, 36682034666,\n",
       "          36682034666, 36687198946, 36687209594, 36687209594, 36687219758,\n",
       "          36687220242, 36687209593, 36687210077, 36687199429, 36687199407,\n",
       "          36687199407, 36687199407, 36687199407, 36687199407, 36687199407,\n",
       "          36687199429, 36687198946, 36687199430, 36687199429, 36687199429,\n",
       "          36687189265, 36687189749, 36687189749, 36687200881, 36692354513,\n",
       "          36692354513, 36692365161, 36692365183, 36692365183, 36692375853,\n",
       "          36697529970, 36697530476, 36697530476, 36697530960, 36697520312,\n",
       "          36697519828, 36692366196, 36692376360, 36692375876, 36692375370,\n",
       "          36692364722, 36692364237, 36692364721, 36692364721, 36692375369,\n",
       "          36692375369, 36692364699, 36692364699, 36692354051, 36687200419,\n",
       "          36687199936, 36687199452, 36687199452, 36687199452, 36687199452,\n",
       "          36687199452, 36687199913, 36687199913, 36692353545, 36692364193,\n",
       "          36692364193, 36578761165, 36584149536, 36584150020, 36584150021,\n",
       "          36697295669, 36583916249, 36583916249, 36583916249, 36583916249,\n",
       "          36583916249, 36583926897, 36583926897, 36583926897, 36583926897,\n",
       "          36583926897, 36583916271, 36583916271, 36583916249, 36583916248,\n",
       "          36583915742, 36583915742, 36583915258, 36583925906, 36583925445,\n",
       "          36583925445, 36584160207, 36584160207, 36584149559, 36584150043,\n",
       "          36584150549, 36697519805, 36697520289, 36697520267, 36697520267,\n",
       "          36697520267, 36697530915, 36697530915, 36697530937, 36584151033,\n",
       "          36584151034, 36584151518, 36584140870, 36583906614, 36583906614,\n",
       "          36583906592, 36583906591, 36583907075, 36583917239, 36583917239,\n",
       "          36584140825, 36584140825, 36584151429, 36584151406, 36584151846,\n",
       "          36584151846, 36584151824, 36584151341, 36584151319, 36584151319,\n",
       "          36584151297, 36584151319, 36584151319, 36584151318, 36584150856,\n",
       "          36584150900, 36584150944, 36583917217, 36584140386, 36584140386,\n",
       "          36584140408, 36584151540, 36584151540, 36584151540, 36584151540,\n",
       "          36584151540, 36584151540, 36584151540, 36584151540, 36584151518,\n",
       "          36583917262, 36583917262, 36583917723, 36583917239, 36583917239,\n",
       "          36583917217, 36583917239, 36583917723, 36583917723, 36583917724,\n",
       "          36583917239, 36584140363, 36584151011, 36697530938, 36697530960,\n",
       "          36697530476, 36584161220, 36584160736, 36584160736, 36584171362,\n",
       "          36584170877, 36584160185, 36584160646, 36584160624, 36584150416,\n",
       "          36584150394, 36584161042, 36584160558, 36584160558, 36584160558,\n",
       "          36584160580, 36584160140, 36584160185, 36584159723, 36584159723,\n",
       "          36584159239, 36584159239, 36584159723, 36692365667, 36692365183,\n",
       "          36692364699, 36692364193, 36692364148, 36692364104, 36692375214,\n",
       "          36692375214, 36692365050, 36584141265, 36584141265, 36584141265,\n",
       "          36584141265, 36584151891, 36584151891, 36584151869, 36584151362,\n",
       "          36584151362, 36584150900, 36584150922, 36584150460, 36584139350,\n",
       "          36584138844, 36583904566, 36583904522, 36583915104, 36583915061,\n",
       "          36583915018, 36583914997, 36583915481, 36583915460, 36583915460,\n",
       "          36583915460, 36583914997, 36583915019, 36583914556, 36584148349,\n",
       "          36584137283, 36584126195, 36584104966, 34094879459, 34094858670,\n",
       "          34089694391, 34089693907, 34089693885, 34089694391, 34089694391,\n",
       "          34089705039, 34089705038, 34094869801, 34094880471, 36589249490,\n",
       "          36589260138, 36589271270, 36583894030, 34094689774, 34094689290,\n",
       "          34094689290, 34094912898, 34094912898, 34094912898, 36589281917,\n",
       "          36584127801, 36584127779, 36584127779, 36584127757, 36583893456,\n",
       "          39186722498, 39186712356, 39186712378, 36692365138, 36692365116,\n",
       "          36692364610, 36692364588, 36692364588, 36692364588, 36692364588,\n",
       "          36692364588, 36692364126, 36687210011, 36687209549, 36687209088,\n",
       "          36687208604, 36682044347, 36682043863, 36682043863, 36682043863,\n",
       "          36682044347, 36682044347, 36682044347, 36682043863, 36682043863,\n",
       "          36687208143, 36687208143, 36687208649, 36687209133, 36687209132,\n",
       "          36687220286, 36687220286, 36692373918, 36692374402, 36692374402,\n",
       "          36692140607, 36692140607, 36692140607, 36692140607, 36692141069,\n",
       "          36692151717, 36692152201, 36697305833, 36697306317, 36697072061,\n",
       "          36697071577, 36697071577, 36697071577, 36697306294, 36697306294,\n",
       "          36697305810, 36697305810, 36697305327, 36692150727, 36692160892,\n",
       "          36692160408, 36692160408, 36692149760, 36692150243, 36692139595,\n",
       "          36692139595, 36692373368, 36692362720, 36687209088, 36687198923,\n",
       "          36687199407, 36692119267, 36692130376, 36692130860, 36697284492,\n",
       "          36697284514, 36697295646, 36697295646, 36697296153, 36697530409,\n",
       "          36584150527, 36584160691, 36584160207, 36584170371, 36584169404,\n",
       "          36589323036, 34094965148, 36584169404, 36584159239, 36584159723,\n",
       "          36584149559, 36584150043, 36584160207, 36589313839, 36589313355,\n",
       "          36589313839, 36589303191, 36589303675, 36584150043, 36584150505,\n",
       "          36584150989, 36584150967, 36584151451, 36584151451, 36584151935,\n",
       "          36584151935, 36584151913, 36584151429, 36584151429, 36584151451,\n",
       "          36584150967, 36584150989, 36583926897, 36583936599, 36589100395,\n",
       "          36589334168, 36589344332, 36589344332, 36589344332, 36589334168,\n",
       "          36589324003, 36584160207, 36584161153, 36584161637, 36584151451,\n",
       "          36584151935, 36584151913, 36584151913, 36584151913, 36584152397,\n",
       "          36584152397, 36584152375, 36584152397, 36584152397, 36584152397,\n",
       "          36584151913, 36584151913, 36584151913, 36584151891, 36584151891,\n",
       "          36584151891, 36584151869, 36584151869, 36584151868, 36584151890,\n",
       "          36584151406, 36584151428, 36584150944, 36584161130, 36584160668,\n",
       "          36583925929, 36583935631, 36584169403, 36584180052, 36584169404,\n",
       "          36584169888, 36584169887, 36584159723, 36584159723, 36584160207,\n",
       "          36584160207, 36583926413, 36584160669, 36584161153, 36584150505,\n",
       "          36584150505, 36583916249, 36583916249, 36583916249, 36583915765,\n",
       "          36583915765, 36583915764, 36583915280, 36583915258, 36583915258]),\n",
       "  1000,\n",
       "  100,\n",
       "  2,\n",
       "  100,\n",
       "  None)]"
      ]
     },
     "execution_count": 657,
     "metadata": {},
     "output_type": "execute_result"
    }
   ],
   "source": [
    "[(stream0_tr[i*d:(i+1)*d],d,c,r,k,device) for i in range(2)]"
   ]
  },
  {
   "cell_type": "code",
   "execution_count": 663,
   "metadata": {},
   "outputs": [
    {
     "ename": "KeyboardInterrupt",
     "evalue": "",
     "output_type": "error",
     "traceback": [
      "\u001b[0;31m---------------------------------------------------------------------------\u001b[0m",
      "\u001b[0;31mKeyboardInterrupt\u001b[0m                         Traceback (most recent call last)",
      "\u001b[0;32m<ipython-input-663-f0586eba524a>\u001b[0m in \u001b[0;36m<module>\u001b[0;34m\u001b[0m\n\u001b[1;32m      1\u001b[0m \u001b[0mset_start_method\u001b[0m\u001b[0;34m(\u001b[0m\u001b[0;34m'spawn'\u001b[0m\u001b[0;34m,\u001b[0m \u001b[0mforce\u001b[0m\u001b[0;34m=\u001b[0m\u001b[0;32mTrue\u001b[0m\u001b[0;34m)\u001b[0m\u001b[0;34m\u001b[0m\u001b[0;34m\u001b[0m\u001b[0m\n\u001b[1;32m      2\u001b[0m \u001b[0;32mwith\u001b[0m \u001b[0mPool\u001b[0m\u001b[0;34m(\u001b[0m\u001b[0;36m4\u001b[0m\u001b[0;34m)\u001b[0m \u001b[0;32mas\u001b[0m \u001b[0mpool\u001b[0m\u001b[0;34m:\u001b[0m\u001b[0;34m\u001b[0m\u001b[0;34m\u001b[0m\u001b[0m\n\u001b[0;32m----> 3\u001b[0;31m     \u001b[0mprint\u001b[0m\u001b[0;34m(\u001b[0m\u001b[0mpool\u001b[0m\u001b[0;34m.\u001b[0m\u001b[0mmap\u001b[0m\u001b[0;34m(\u001b[0m\u001b[0mget_CS_table\u001b[0m\u001b[0;34m,\u001b[0m \u001b[0;34m[\u001b[0m\u001b[0;34m(\u001b[0m\u001b[0mstream0_tr\u001b[0m\u001b[0;34m[\u001b[0m\u001b[0mi\u001b[0m\u001b[0;34m*\u001b[0m\u001b[0md\u001b[0m\u001b[0;34m:\u001b[0m\u001b[0;34m(\u001b[0m\u001b[0mi\u001b[0m\u001b[0;34m+\u001b[0m\u001b[0;36m1\u001b[0m\u001b[0;34m)\u001b[0m\u001b[0;34m*\u001b[0m\u001b[0md\u001b[0m\u001b[0;34m]\u001b[0m\u001b[0;34m,\u001b[0m\u001b[0md\u001b[0m\u001b[0;34m,\u001b[0m\u001b[0mc\u001b[0m\u001b[0;34m,\u001b[0m\u001b[0mr\u001b[0m\u001b[0;34m,\u001b[0m\u001b[0mk\u001b[0m\u001b[0;34m,\u001b[0m\u001b[0mdevice\u001b[0m\u001b[0;34m)\u001b[0m \u001b[0;32mfor\u001b[0m \u001b[0mi\u001b[0m \u001b[0;32min\u001b[0m \u001b[0mrange\u001b[0m\u001b[0;34m(\u001b[0m\u001b[0;36m2\u001b[0m\u001b[0;34m)\u001b[0m\u001b[0;34m]\u001b[0m\u001b[0;34m)\u001b[0m\u001b[0;34m)\u001b[0m\u001b[0;34m\u001b[0m\u001b[0;34m\u001b[0m\u001b[0m\n\u001b[0m",
      "\u001b[0;32m~/.conda/envs/ptorch/lib/python3.8/multiprocessing/pool.py\u001b[0m in \u001b[0;36mmap\u001b[0;34m(self, func, iterable, chunksize)\u001b[0m\n\u001b[1;32m    362\u001b[0m         \u001b[0;32min\u001b[0m \u001b[0ma\u001b[0m \u001b[0mlist\u001b[0m \u001b[0mthat\u001b[0m \u001b[0;32mis\u001b[0m \u001b[0mreturned\u001b[0m\u001b[0;34m.\u001b[0m\u001b[0;34m\u001b[0m\u001b[0;34m\u001b[0m\u001b[0m\n\u001b[1;32m    363\u001b[0m         '''\n\u001b[0;32m--> 364\u001b[0;31m         \u001b[0;32mreturn\u001b[0m \u001b[0mself\u001b[0m\u001b[0;34m.\u001b[0m\u001b[0m_map_async\u001b[0m\u001b[0;34m(\u001b[0m\u001b[0mfunc\u001b[0m\u001b[0;34m,\u001b[0m \u001b[0miterable\u001b[0m\u001b[0;34m,\u001b[0m \u001b[0mmapstar\u001b[0m\u001b[0;34m,\u001b[0m \u001b[0mchunksize\u001b[0m\u001b[0;34m)\u001b[0m\u001b[0;34m.\u001b[0m\u001b[0mget\u001b[0m\u001b[0;34m(\u001b[0m\u001b[0;34m)\u001b[0m\u001b[0;34m\u001b[0m\u001b[0;34m\u001b[0m\u001b[0m\n\u001b[0m\u001b[1;32m    365\u001b[0m \u001b[0;34m\u001b[0m\u001b[0m\n\u001b[1;32m    366\u001b[0m     \u001b[0;32mdef\u001b[0m \u001b[0mstarmap\u001b[0m\u001b[0;34m(\u001b[0m\u001b[0mself\u001b[0m\u001b[0;34m,\u001b[0m \u001b[0mfunc\u001b[0m\u001b[0;34m,\u001b[0m \u001b[0miterable\u001b[0m\u001b[0;34m,\u001b[0m \u001b[0mchunksize\u001b[0m\u001b[0;34m=\u001b[0m\u001b[0;32mNone\u001b[0m\u001b[0;34m)\u001b[0m\u001b[0;34m:\u001b[0m\u001b[0;34m\u001b[0m\u001b[0;34m\u001b[0m\u001b[0m\n",
      "\u001b[0;32m~/.conda/envs/ptorch/lib/python3.8/multiprocessing/pool.py\u001b[0m in \u001b[0;36mget\u001b[0;34m(self, timeout)\u001b[0m\n\u001b[1;32m    760\u001b[0m \u001b[0;34m\u001b[0m\u001b[0m\n\u001b[1;32m    761\u001b[0m     \u001b[0;32mdef\u001b[0m \u001b[0mget\u001b[0m\u001b[0;34m(\u001b[0m\u001b[0mself\u001b[0m\u001b[0;34m,\u001b[0m \u001b[0mtimeout\u001b[0m\u001b[0;34m=\u001b[0m\u001b[0;32mNone\u001b[0m\u001b[0;34m)\u001b[0m\u001b[0;34m:\u001b[0m\u001b[0;34m\u001b[0m\u001b[0;34m\u001b[0m\u001b[0m\n\u001b[0;32m--> 762\u001b[0;31m         \u001b[0mself\u001b[0m\u001b[0;34m.\u001b[0m\u001b[0mwait\u001b[0m\u001b[0;34m(\u001b[0m\u001b[0mtimeout\u001b[0m\u001b[0;34m)\u001b[0m\u001b[0;34m\u001b[0m\u001b[0;34m\u001b[0m\u001b[0m\n\u001b[0m\u001b[1;32m    763\u001b[0m         \u001b[0;32mif\u001b[0m \u001b[0;32mnot\u001b[0m \u001b[0mself\u001b[0m\u001b[0;34m.\u001b[0m\u001b[0mready\u001b[0m\u001b[0;34m(\u001b[0m\u001b[0;34m)\u001b[0m\u001b[0;34m:\u001b[0m\u001b[0;34m\u001b[0m\u001b[0;34m\u001b[0m\u001b[0m\n\u001b[1;32m    764\u001b[0m             \u001b[0;32mraise\u001b[0m \u001b[0mTimeoutError\u001b[0m\u001b[0;34m\u001b[0m\u001b[0;34m\u001b[0m\u001b[0m\n",
      "\u001b[0;32m~/.conda/envs/ptorch/lib/python3.8/multiprocessing/pool.py\u001b[0m in \u001b[0;36mwait\u001b[0;34m(self, timeout)\u001b[0m\n\u001b[1;32m    757\u001b[0m \u001b[0;34m\u001b[0m\u001b[0m\n\u001b[1;32m    758\u001b[0m     \u001b[0;32mdef\u001b[0m \u001b[0mwait\u001b[0m\u001b[0;34m(\u001b[0m\u001b[0mself\u001b[0m\u001b[0;34m,\u001b[0m \u001b[0mtimeout\u001b[0m\u001b[0;34m=\u001b[0m\u001b[0;32mNone\u001b[0m\u001b[0;34m)\u001b[0m\u001b[0;34m:\u001b[0m\u001b[0;34m\u001b[0m\u001b[0;34m\u001b[0m\u001b[0m\n\u001b[0;32m--> 759\u001b[0;31m         \u001b[0mself\u001b[0m\u001b[0;34m.\u001b[0m\u001b[0m_event\u001b[0m\u001b[0;34m.\u001b[0m\u001b[0mwait\u001b[0m\u001b[0;34m(\u001b[0m\u001b[0mtimeout\u001b[0m\u001b[0;34m)\u001b[0m\u001b[0;34m\u001b[0m\u001b[0;34m\u001b[0m\u001b[0m\n\u001b[0m\u001b[1;32m    760\u001b[0m \u001b[0;34m\u001b[0m\u001b[0m\n\u001b[1;32m    761\u001b[0m     \u001b[0;32mdef\u001b[0m \u001b[0mget\u001b[0m\u001b[0;34m(\u001b[0m\u001b[0mself\u001b[0m\u001b[0;34m,\u001b[0m \u001b[0mtimeout\u001b[0m\u001b[0;34m=\u001b[0m\u001b[0;32mNone\u001b[0m\u001b[0;34m)\u001b[0m\u001b[0;34m:\u001b[0m\u001b[0;34m\u001b[0m\u001b[0;34m\u001b[0m\u001b[0m\n",
      "\u001b[0;32m~/.conda/envs/ptorch/lib/python3.8/threading.py\u001b[0m in \u001b[0;36mwait\u001b[0;34m(self, timeout)\u001b[0m\n\u001b[1;32m    556\u001b[0m             \u001b[0msignaled\u001b[0m \u001b[0;34m=\u001b[0m \u001b[0mself\u001b[0m\u001b[0;34m.\u001b[0m\u001b[0m_flag\u001b[0m\u001b[0;34m\u001b[0m\u001b[0;34m\u001b[0m\u001b[0m\n\u001b[1;32m    557\u001b[0m             \u001b[0;32mif\u001b[0m \u001b[0;32mnot\u001b[0m \u001b[0msignaled\u001b[0m\u001b[0;34m:\u001b[0m\u001b[0;34m\u001b[0m\u001b[0;34m\u001b[0m\u001b[0m\n\u001b[0;32m--> 558\u001b[0;31m                 \u001b[0msignaled\u001b[0m \u001b[0;34m=\u001b[0m \u001b[0mself\u001b[0m\u001b[0;34m.\u001b[0m\u001b[0m_cond\u001b[0m\u001b[0;34m.\u001b[0m\u001b[0mwait\u001b[0m\u001b[0;34m(\u001b[0m\u001b[0mtimeout\u001b[0m\u001b[0;34m)\u001b[0m\u001b[0;34m\u001b[0m\u001b[0;34m\u001b[0m\u001b[0m\n\u001b[0m\u001b[1;32m    559\u001b[0m             \u001b[0;32mreturn\u001b[0m \u001b[0msignaled\u001b[0m\u001b[0;34m\u001b[0m\u001b[0;34m\u001b[0m\u001b[0m\n\u001b[1;32m    560\u001b[0m \u001b[0;34m\u001b[0m\u001b[0m\n",
      "\u001b[0;32m~/.conda/envs/ptorch/lib/python3.8/threading.py\u001b[0m in \u001b[0;36mwait\u001b[0;34m(self, timeout)\u001b[0m\n\u001b[1;32m    300\u001b[0m         \u001b[0;32mtry\u001b[0m\u001b[0;34m:\u001b[0m    \u001b[0;31m# restore state no matter what (e.g., KeyboardInterrupt)\u001b[0m\u001b[0;34m\u001b[0m\u001b[0;34m\u001b[0m\u001b[0m\n\u001b[1;32m    301\u001b[0m             \u001b[0;32mif\u001b[0m \u001b[0mtimeout\u001b[0m \u001b[0;32mis\u001b[0m \u001b[0;32mNone\u001b[0m\u001b[0;34m:\u001b[0m\u001b[0;34m\u001b[0m\u001b[0;34m\u001b[0m\u001b[0m\n\u001b[0;32m--> 302\u001b[0;31m                 \u001b[0mwaiter\u001b[0m\u001b[0;34m.\u001b[0m\u001b[0macquire\u001b[0m\u001b[0;34m(\u001b[0m\u001b[0;34m)\u001b[0m\u001b[0;34m\u001b[0m\u001b[0;34m\u001b[0m\u001b[0m\n\u001b[0m\u001b[1;32m    303\u001b[0m                 \u001b[0mgotit\u001b[0m \u001b[0;34m=\u001b[0m \u001b[0;32mTrue\u001b[0m\u001b[0;34m\u001b[0m\u001b[0;34m\u001b[0m\u001b[0m\n\u001b[1;32m    304\u001b[0m             \u001b[0;32melse\u001b[0m\u001b[0;34m:\u001b[0m\u001b[0;34m\u001b[0m\u001b[0;34m\u001b[0m\u001b[0m\n",
      "\u001b[0;31mKeyboardInterrupt\u001b[0m: "
     ]
    }
   ],
   "source": [
    "set_start_method('spawn', force=True)\n",
    "with Pool(4) as pool:\n",
    "    print(pool.map(get_CS_table, [(stream0_tr[i*d:(i+1)*d],d,c,r,k,device) for i in range(2)]))"
   ]
  },
  {
   "cell_type": "code",
   "execution_count": 623,
   "metadata": {},
   "outputs": [],
   "source": [
    "d=1000\n",
    "c=100\n",
    "r=2\n",
    "k=100"
   ]
  },
  {
   "cell_type": "code",
   "execution_count": 624,
   "metadata": {},
   "outputs": [],
   "source": [
    "nThread, stream_loader, csv0=get_CS_parallel_args(stream0_tr,d,c,r,k,device)"
   ]
  },
  {
   "cell_type": "code",
   "execution_count": 634,
   "metadata": {},
   "outputs": [],
   "source": [
    "ps=[]\n",
    "for i in range(4):\n",
    "    p = mp.Process(target=f, args=(i,))\n",
    "    ps.append(p)\n",
    "    p.start()"
   ]
  },
  {
   "cell_type": "code",
   "execution_count": 637,
   "metadata": {},
   "outputs": [],
   "source": [
    "for p in ps: p.join()"
   ]
  },
  {
   "cell_type": "code",
   "execution_count": 641,
   "metadata": {},
   "outputs": [
    {
     "ename": "AttributeError",
     "evalue": "'Process' object has no attribute 'results'",
     "output_type": "error",
     "traceback": [
      "\u001b[0;31m---------------------------------------------------------------------------\u001b[0m",
      "\u001b[0;31mAttributeError\u001b[0m                            Traceback (most recent call last)",
      "\u001b[0;32m<ipython-input-641-957b005f706a>\u001b[0m in \u001b[0;36m<module>\u001b[0;34m\u001b[0m\n\u001b[0;32m----> 1\u001b[0;31m \u001b[0mp\u001b[0m\u001b[0;34m.\u001b[0m\u001b[0mresults\u001b[0m\u001b[0;34m(\u001b[0m\u001b[0;34m)\u001b[0m\u001b[0;34m\u001b[0m\u001b[0;34m\u001b[0m\u001b[0m\n\u001b[0m",
      "\u001b[0;31mAttributeError\u001b[0m: 'Process' object has no attribute 'results'"
     ]
    }
   ],
   "source": [
    "p.results()"
   ]
  },
  {
   "cell_type": "code",
   "execution_count": 642,
   "metadata": {},
   "outputs": [
    {
     "ename": "AttributeError",
     "evalue": "Can't pickle local object 'get_CS_parallel_args.<locals>.<lambda>'",
     "output_type": "error",
     "traceback": [
      "\u001b[0;31m---------------------------------------------------------------------------\u001b[0m",
      "\u001b[0;31mAttributeError\u001b[0m                            Traceback (most recent call last)",
      "\u001b[0;32m<ipython-input-642-9d1ac4dfb5d0>\u001b[0m in \u001b[0;36m<module>\u001b[0;34m\u001b[0m\n\u001b[1;32m      1\u001b[0m \u001b[0;32mwith\u001b[0m \u001b[0mPool\u001b[0m\u001b[0;34m(\u001b[0m\u001b[0;34m)\u001b[0m \u001b[0;32mas\u001b[0m \u001b[0mpool\u001b[0m\u001b[0;34m:\u001b[0m\u001b[0;34m\u001b[0m\u001b[0;34m\u001b[0m\u001b[0m\n\u001b[0;32m----> 2\u001b[0;31m     \u001b[0mprint\u001b[0m\u001b[0;34m(\u001b[0m\u001b[0mpool\u001b[0m\u001b[0;34m.\u001b[0m\u001b[0mmap\u001b[0m\u001b[0;34m(\u001b[0m\u001b[0mstream_loader\u001b[0m\u001b[0;34m,\u001b[0m \u001b[0mrange\u001b[0m\u001b[0;34m(\u001b[0m\u001b[0;36m10\u001b[0m\u001b[0;34m)\u001b[0m\u001b[0;34m)\u001b[0m\u001b[0;34m)\u001b[0m\u001b[0;34m\u001b[0m\u001b[0;34m\u001b[0m\u001b[0m\n\u001b[0m",
      "\u001b[0;32m~/.conda/envs/ptorch/lib/python3.8/multiprocessing/pool.py\u001b[0m in \u001b[0;36mmap\u001b[0;34m(self, func, iterable, chunksize)\u001b[0m\n\u001b[1;32m    362\u001b[0m         \u001b[0;32min\u001b[0m \u001b[0ma\u001b[0m \u001b[0mlist\u001b[0m \u001b[0mthat\u001b[0m \u001b[0;32mis\u001b[0m \u001b[0mreturned\u001b[0m\u001b[0;34m.\u001b[0m\u001b[0;34m\u001b[0m\u001b[0;34m\u001b[0m\u001b[0m\n\u001b[1;32m    363\u001b[0m         '''\n\u001b[0;32m--> 364\u001b[0;31m         \u001b[0;32mreturn\u001b[0m \u001b[0mself\u001b[0m\u001b[0;34m.\u001b[0m\u001b[0m_map_async\u001b[0m\u001b[0;34m(\u001b[0m\u001b[0mfunc\u001b[0m\u001b[0;34m,\u001b[0m \u001b[0miterable\u001b[0m\u001b[0;34m,\u001b[0m \u001b[0mmapstar\u001b[0m\u001b[0;34m,\u001b[0m \u001b[0mchunksize\u001b[0m\u001b[0;34m)\u001b[0m\u001b[0;34m.\u001b[0m\u001b[0mget\u001b[0m\u001b[0;34m(\u001b[0m\u001b[0;34m)\u001b[0m\u001b[0;34m\u001b[0m\u001b[0;34m\u001b[0m\u001b[0m\n\u001b[0m\u001b[1;32m    365\u001b[0m \u001b[0;34m\u001b[0m\u001b[0m\n\u001b[1;32m    366\u001b[0m     \u001b[0;32mdef\u001b[0m \u001b[0mstarmap\u001b[0m\u001b[0;34m(\u001b[0m\u001b[0mself\u001b[0m\u001b[0;34m,\u001b[0m \u001b[0mfunc\u001b[0m\u001b[0;34m,\u001b[0m \u001b[0miterable\u001b[0m\u001b[0;34m,\u001b[0m \u001b[0mchunksize\u001b[0m\u001b[0;34m=\u001b[0m\u001b[0;32mNone\u001b[0m\u001b[0;34m)\u001b[0m\u001b[0;34m:\u001b[0m\u001b[0;34m\u001b[0m\u001b[0;34m\u001b[0m\u001b[0m\n",
      "\u001b[0;32m~/.conda/envs/ptorch/lib/python3.8/multiprocessing/pool.py\u001b[0m in \u001b[0;36mget\u001b[0;34m(self, timeout)\u001b[0m\n\u001b[1;32m    766\u001b[0m             \u001b[0;32mreturn\u001b[0m \u001b[0mself\u001b[0m\u001b[0;34m.\u001b[0m\u001b[0m_value\u001b[0m\u001b[0;34m\u001b[0m\u001b[0;34m\u001b[0m\u001b[0m\n\u001b[1;32m    767\u001b[0m         \u001b[0;32melse\u001b[0m\u001b[0;34m:\u001b[0m\u001b[0;34m\u001b[0m\u001b[0;34m\u001b[0m\u001b[0m\n\u001b[0;32m--> 768\u001b[0;31m             \u001b[0;32mraise\u001b[0m \u001b[0mself\u001b[0m\u001b[0;34m.\u001b[0m\u001b[0m_value\u001b[0m\u001b[0;34m\u001b[0m\u001b[0;34m\u001b[0m\u001b[0m\n\u001b[0m\u001b[1;32m    769\u001b[0m \u001b[0;34m\u001b[0m\u001b[0m\n\u001b[1;32m    770\u001b[0m     \u001b[0;32mdef\u001b[0m \u001b[0m_set\u001b[0m\u001b[0;34m(\u001b[0m\u001b[0mself\u001b[0m\u001b[0;34m,\u001b[0m \u001b[0mi\u001b[0m\u001b[0;34m,\u001b[0m \u001b[0mobj\u001b[0m\u001b[0;34m)\u001b[0m\u001b[0;34m:\u001b[0m\u001b[0;34m\u001b[0m\u001b[0;34m\u001b[0m\u001b[0m\n",
      "\u001b[0;32m~/.conda/envs/ptorch/lib/python3.8/multiprocessing/pool.py\u001b[0m in \u001b[0;36m_handle_tasks\u001b[0;34m(taskqueue, put, outqueue, pool, cache)\u001b[0m\n\u001b[1;32m    535\u001b[0m                         \u001b[0;32mbreak\u001b[0m\u001b[0;34m\u001b[0m\u001b[0;34m\u001b[0m\u001b[0m\n\u001b[1;32m    536\u001b[0m                     \u001b[0;32mtry\u001b[0m\u001b[0;34m:\u001b[0m\u001b[0;34m\u001b[0m\u001b[0;34m\u001b[0m\u001b[0m\n\u001b[0;32m--> 537\u001b[0;31m                         \u001b[0mput\u001b[0m\u001b[0;34m(\u001b[0m\u001b[0mtask\u001b[0m\u001b[0;34m)\u001b[0m\u001b[0;34m\u001b[0m\u001b[0;34m\u001b[0m\u001b[0m\n\u001b[0m\u001b[1;32m    538\u001b[0m                     \u001b[0;32mexcept\u001b[0m \u001b[0mException\u001b[0m \u001b[0;32mas\u001b[0m \u001b[0me\u001b[0m\u001b[0;34m:\u001b[0m\u001b[0;34m\u001b[0m\u001b[0;34m\u001b[0m\u001b[0m\n\u001b[1;32m    539\u001b[0m                         \u001b[0mjob\u001b[0m\u001b[0;34m,\u001b[0m \u001b[0midx\u001b[0m \u001b[0;34m=\u001b[0m \u001b[0mtask\u001b[0m\u001b[0;34m[\u001b[0m\u001b[0;34m:\u001b[0m\u001b[0;36m2\u001b[0m\u001b[0;34m]\u001b[0m\u001b[0;34m\u001b[0m\u001b[0;34m\u001b[0m\u001b[0m\n",
      "\u001b[0;32m~/.conda/envs/ptorch/lib/python3.8/multiprocessing/connection.py\u001b[0m in \u001b[0;36msend\u001b[0;34m(self, obj)\u001b[0m\n\u001b[1;32m    204\u001b[0m         \u001b[0mself\u001b[0m\u001b[0;34m.\u001b[0m\u001b[0m_check_closed\u001b[0m\u001b[0;34m(\u001b[0m\u001b[0;34m)\u001b[0m\u001b[0;34m\u001b[0m\u001b[0;34m\u001b[0m\u001b[0m\n\u001b[1;32m    205\u001b[0m         \u001b[0mself\u001b[0m\u001b[0;34m.\u001b[0m\u001b[0m_check_writable\u001b[0m\u001b[0;34m(\u001b[0m\u001b[0;34m)\u001b[0m\u001b[0;34m\u001b[0m\u001b[0;34m\u001b[0m\u001b[0m\n\u001b[0;32m--> 206\u001b[0;31m         \u001b[0mself\u001b[0m\u001b[0;34m.\u001b[0m\u001b[0m_send_bytes\u001b[0m\u001b[0;34m(\u001b[0m\u001b[0m_ForkingPickler\u001b[0m\u001b[0;34m.\u001b[0m\u001b[0mdumps\u001b[0m\u001b[0;34m(\u001b[0m\u001b[0mobj\u001b[0m\u001b[0;34m)\u001b[0m\u001b[0;34m)\u001b[0m\u001b[0;34m\u001b[0m\u001b[0;34m\u001b[0m\u001b[0m\n\u001b[0m\u001b[1;32m    207\u001b[0m \u001b[0;34m\u001b[0m\u001b[0m\n\u001b[1;32m    208\u001b[0m     \u001b[0;32mdef\u001b[0m \u001b[0mrecv_bytes\u001b[0m\u001b[0;34m(\u001b[0m\u001b[0mself\u001b[0m\u001b[0;34m,\u001b[0m \u001b[0mmaxlength\u001b[0m\u001b[0;34m=\u001b[0m\u001b[0;32mNone\u001b[0m\u001b[0;34m)\u001b[0m\u001b[0;34m:\u001b[0m\u001b[0;34m\u001b[0m\u001b[0;34m\u001b[0m\u001b[0m\n",
      "\u001b[0;32m~/.conda/envs/ptorch/lib/python3.8/multiprocessing/reduction.py\u001b[0m in \u001b[0;36mdumps\u001b[0;34m(cls, obj, protocol)\u001b[0m\n\u001b[1;32m     49\u001b[0m     \u001b[0;32mdef\u001b[0m \u001b[0mdumps\u001b[0m\u001b[0;34m(\u001b[0m\u001b[0mcls\u001b[0m\u001b[0;34m,\u001b[0m \u001b[0mobj\u001b[0m\u001b[0;34m,\u001b[0m \u001b[0mprotocol\u001b[0m\u001b[0;34m=\u001b[0m\u001b[0;32mNone\u001b[0m\u001b[0;34m)\u001b[0m\u001b[0;34m:\u001b[0m\u001b[0;34m\u001b[0m\u001b[0;34m\u001b[0m\u001b[0m\n\u001b[1;32m     50\u001b[0m         \u001b[0mbuf\u001b[0m \u001b[0;34m=\u001b[0m \u001b[0mio\u001b[0m\u001b[0;34m.\u001b[0m\u001b[0mBytesIO\u001b[0m\u001b[0;34m(\u001b[0m\u001b[0;34m)\u001b[0m\u001b[0;34m\u001b[0m\u001b[0;34m\u001b[0m\u001b[0m\n\u001b[0;32m---> 51\u001b[0;31m         \u001b[0mcls\u001b[0m\u001b[0;34m(\u001b[0m\u001b[0mbuf\u001b[0m\u001b[0;34m,\u001b[0m \u001b[0mprotocol\u001b[0m\u001b[0;34m)\u001b[0m\u001b[0;34m.\u001b[0m\u001b[0mdump\u001b[0m\u001b[0;34m(\u001b[0m\u001b[0mobj\u001b[0m\u001b[0;34m)\u001b[0m\u001b[0;34m\u001b[0m\u001b[0;34m\u001b[0m\u001b[0m\n\u001b[0m\u001b[1;32m     52\u001b[0m         \u001b[0;32mreturn\u001b[0m \u001b[0mbuf\u001b[0m\u001b[0;34m.\u001b[0m\u001b[0mgetbuffer\u001b[0m\u001b[0;34m(\u001b[0m\u001b[0;34m)\u001b[0m\u001b[0;34m\u001b[0m\u001b[0;34m\u001b[0m\u001b[0m\n\u001b[1;32m     53\u001b[0m \u001b[0;34m\u001b[0m\u001b[0m\n",
      "\u001b[0;31mAttributeError\u001b[0m: Can't pickle local object 'get_CS_parallel_args.<locals>.<lambda>'"
     ]
    }
   ],
   "source": []
  },
  {
   "cell_type": "code",
   "execution_count": 629,
   "metadata": {},
   "outputs": [
    {
     "name": "stderr",
     "output_type": "stream",
     "text": [
      "Process Process-9:\n",
      "Traceback (most recent call last):\n",
      "  File \"/home/swei20/.conda/envs/ptorch/lib/python3.8/multiprocessing/process.py\", line 315, in _bootstrap\n",
      "    self.run()\n",
      "  File \"/home/swei20/.conda/envs/ptorch/lib/python3.8/multiprocessing/process.py\", line 108, in run\n",
      "    self._target(*self._args, **self._kwargs)\n",
      "TypeError: <lambda>() takes 1 positional argument but 10 were given\n"
     ]
    }
   ],
   "source": [
    "# model.share_memory() # Required for 'fork' method to work\n",
    "processes = []\n",
    "# for i in range(nThread): # No. of processes\n",
    "arr=Array('i',range(nThread))    \n",
    "p = Process(target=stream_loader, args=(arr))\n",
    "p.start()\n",
    "# processes.append(p)\n",
    "# for p in processes: p.join()\n",
    "p.join()"
   ]
  },
  {
   "cell_type": "code",
   "execution_count": null,
   "metadata": {},
   "outputs": [],
   "source": []
  },
  {
   "cell_type": "code",
   "execution_count": null,
   "metadata": {},
   "outputs": [],
   "source": []
  },
  {
   "cell_type": "code",
   "execution_count": null,
   "metadata": {},
   "outputs": [],
   "source": []
  },
  {
   "cell_type": "code",
   "execution_count": null,
   "metadata": {},
   "outputs": [],
   "source": []
  },
  {
   "cell_type": "code",
   "execution_count": null,
   "metadata": {},
   "outputs": [],
   "source": [
    "get_CS_HH(stream_tr[:size], 100000, 20000, 10, 1000, device=None)    "
   ]
  },
  {
   "cell_type": "code",
   "execution_count": 480,
   "metadata": {},
   "outputs": [],
   "source": [
    "d,c,r,k,device = 100000,20000,10,1000,None\n",
    "nThread=4"
   ]
  },
  {
   "cell_type": "code",
   "execution_count": 482,
   "metadata": {},
   "outputs": [
    {
     "name": "stdout",
     "output_type": "stream",
     "text": [
      "CPU times: user 14.3 s, sys: 6.86 s, total: 21.2 s\n",
      "Wall time: 5.91 s\n"
     ]
    }
   ],
   "source": [
    "%time exact_HH =get_exact_HH(stream)"
   ]
  },
  {
   "cell_type": "code",
   "execution_count": 594,
   "metadata": {},
   "outputs": [
    {
     "ename": "KeyboardInterrupt",
     "evalue": "",
     "output_type": "error",
     "traceback": [
      "\u001b[0;31m---------------------------------------------------------------------------\u001b[0m",
      "\u001b[0;31mKeyboardInterrupt\u001b[0m                         Traceback (most recent call last)",
      "\u001b[0;32m<timed exec>\u001b[0m in \u001b[0;36m<module>\u001b[0;34m\u001b[0m\n",
      "\u001b[0;32m<ipython-input-456-7ff9b64f4bd7>\u001b[0m in \u001b[0;36mget_CS_HH\u001b[0;34m(stream_tr, d, c, r, k, device, nThread)\u001b[0m\n\u001b[1;32m      6\u001b[0m         \u001b[0;32mfor\u001b[0m \u001b[0mii\u001b[0m \u001b[0;32min\u001b[0m \u001b[0mrange\u001b[0m\u001b[0;34m(\u001b[0m\u001b[0mstream_tr\u001b[0m\u001b[0;34m.\u001b[0m\u001b[0mshape\u001b[0m\u001b[0;34m[\u001b[0m\u001b[0;36m0\u001b[0m\u001b[0;34m]\u001b[0m\u001b[0;34m//\u001b[0m\u001b[0md\u001b[0m\u001b[0;34m+\u001b[0m\u001b[0;36m1\u001b[0m\u001b[0;34m)\u001b[0m\u001b[0;34m:\u001b[0m\u001b[0;34m\u001b[0m\u001b[0;34m\u001b[0m\u001b[0m\n\u001b[1;32m      7\u001b[0m             \u001b[0msubstream\u001b[0m\u001b[0;34m=\u001b[0m\u001b[0mstream_tr\u001b[0m\u001b[0;34m[\u001b[0m\u001b[0mii\u001b[0m\u001b[0;34m*\u001b[0m\u001b[0md\u001b[0m\u001b[0;34m:\u001b[0m\u001b[0;34m(\u001b[0m\u001b[0mii\u001b[0m\u001b[0;34m+\u001b[0m\u001b[0;36m1\u001b[0m\u001b[0;34m)\u001b[0m\u001b[0;34m*\u001b[0m\u001b[0md\u001b[0m\u001b[0;34m]\u001b[0m\u001b[0;34m\u001b[0m\u001b[0;34m\u001b[0m\u001b[0m\n\u001b[0;32m----> 8\u001b[0;31m             \u001b[0mcsv\u001b[0m\u001b[0;34m.\u001b[0m\u001b[0maccumulateVec\u001b[0m\u001b[0;34m(\u001b[0m\u001b[0msubstream\u001b[0m\u001b[0;34m)\u001b[0m\u001b[0;34m\u001b[0m\u001b[0;34m\u001b[0m\u001b[0m\n\u001b[0m\u001b[1;32m      9\u001b[0m         \u001b[0mfreqs\u001b[0m\u001b[0;34m=\u001b[0m\u001b[0mcsv\u001b[0m\u001b[0;34m.\u001b[0m\u001b[0mquery\u001b[0m\u001b[0;34m(\u001b[0m\u001b[0mHHs\u001b[0m\u001b[0;34m)\u001b[0m\u001b[0;34m\u001b[0m\u001b[0;34m\u001b[0m\u001b[0m\n\u001b[1;32m     10\u001b[0m         \u001b[0;32mreturn\u001b[0m \u001b[0mHHs\u001b[0m\u001b[0;34m,\u001b[0m \u001b[0mfreqs\u001b[0m\u001b[0;34m\u001b[0m\u001b[0;34m\u001b[0m\u001b[0m\n",
      "\u001b[0;32m<ipython-input-484-bf8d37d7afcd>\u001b[0m in \u001b[0;36maccumulateVec\u001b[0;34m(self, vec)\u001b[0m\n\u001b[1;32m     77\u001b[0m         \u001b[0;32massert\u001b[0m\u001b[0;34m(\u001b[0m\u001b[0mlen\u001b[0m\u001b[0;34m(\u001b[0m\u001b[0mvec\u001b[0m\u001b[0;34m.\u001b[0m\u001b[0msize\u001b[0m\u001b[0;34m(\u001b[0m\u001b[0;34m)\u001b[0m\u001b[0;34m)\u001b[0m \u001b[0;34m==\u001b[0m \u001b[0;36m1\u001b[0m\u001b[0;34m)\u001b[0m\u001b[0;34m\u001b[0m\u001b[0;34m\u001b[0m\u001b[0m\n\u001b[1;32m     78\u001b[0m         \u001b[0msigns\u001b[0m \u001b[0;34m=\u001b[0m \u001b[0;34m(\u001b[0m\u001b[0;34m(\u001b[0m\u001b[0;34m(\u001b[0m\u001b[0mself\u001b[0m\u001b[0;34m.\u001b[0m\u001b[0mh1\u001b[0m \u001b[0;34m*\u001b[0m \u001b[0mvec\u001b[0m \u001b[0;34m+\u001b[0m \u001b[0mself\u001b[0m\u001b[0;34m.\u001b[0m\u001b[0mh2\u001b[0m\u001b[0;34m)\u001b[0m \u001b[0;34m*\u001b[0m \u001b[0mvec\u001b[0m \u001b[0;34m+\u001b[0m \u001b[0mself\u001b[0m\u001b[0;34m.\u001b[0m\u001b[0mh3\u001b[0m\u001b[0;34m)\u001b[0m \u001b[0;34m*\u001b[0m \u001b[0mvec\u001b[0m \u001b[0;34m+\u001b[0m \u001b[0mself\u001b[0m\u001b[0;34m.\u001b[0m\u001b[0mh4\u001b[0m\u001b[0;34m)\u001b[0m\u001b[0;34m\u001b[0m\u001b[0;34m\u001b[0m\u001b[0m\n\u001b[0;32m---> 79\u001b[0;31m         \u001b[0msigns\u001b[0m \u001b[0;34m=\u001b[0m \u001b[0;34m(\u001b[0m\u001b[0;34m(\u001b[0m\u001b[0msigns\u001b[0m \u001b[0;34m%\u001b[0m \u001b[0mLARGEPRIME\u001b[0m \u001b[0;34m%\u001b[0m \u001b[0;36m2\u001b[0m\u001b[0;34m)\u001b[0m \u001b[0;34m*\u001b[0m \u001b[0;36m2\u001b[0m \u001b[0;34m-\u001b[0m \u001b[0;36m1\u001b[0m\u001b[0;34m)\u001b[0m\u001b[0;34m.\u001b[0m\u001b[0mfloat\u001b[0m\u001b[0;34m(\u001b[0m\u001b[0;34m)\u001b[0m\u001b[0;34m\u001b[0m\u001b[0;34m\u001b[0m\u001b[0m\n\u001b[0m\u001b[1;32m     80\u001b[0m         \u001b[0msigns\u001b[0m \u001b[0;34m=\u001b[0m \u001b[0msigns\u001b[0m\u001b[0;34m.\u001b[0m\u001b[0mto\u001b[0m\u001b[0;34m(\u001b[0m\u001b[0mself\u001b[0m\u001b[0;34m.\u001b[0m\u001b[0mdevice\u001b[0m\u001b[0;34m)\u001b[0m\u001b[0;34m\u001b[0m\u001b[0;34m\u001b[0m\u001b[0m\n\u001b[1;32m     81\u001b[0m         \u001b[0;31m# computing bucket hashes (2-wise independence)\u001b[0m\u001b[0;34m\u001b[0m\u001b[0;34m\u001b[0m\u001b[0;34m\u001b[0m\u001b[0m\n",
      "\u001b[0;31mKeyboardInterrupt\u001b[0m: "
     ]
    }
   ],
   "source": [
    "%time mHHs, mfreqs =get_CS_HH(stream_tr, d,c,r,k,device)"
   ]
  },
  {
   "cell_type": "code",
   "execution_count": 593,
   "metadata": {},
   "outputs": [],
   "source": [
    "# %time mHHs, mfreqs =get_CS_HH(stream_tr, d,c,r,k,device, 4)"
   ]
  },
  {
   "cell_type": "code",
   "execution_count": 488,
   "metadata": {},
   "outputs": [],
   "source": [
    "mHHs, mfreqs =get_CS_HH(stream_tr, d,c,r,k,device)"
   ]
  },
  {
   "cell_type": "code",
   "execution_count": 478,
   "metadata": {},
   "outputs": [
    {
     "data": {
      "text/plain": [
       "tensor([36584152397, 36584152397, 36584152397,  ..., 36584105780,\n",
       "        36578962312, 34084614588])"
      ]
     },
     "execution_count": 478,
     "metadata": {},
     "output_type": "execute_result"
    }
   ],
   "source": [
    "stream_tr"
   ]
  },
  {
   "cell_type": "code",
   "execution_count": 473,
   "metadata": {},
   "outputs": [
    {
     "data": {
      "text/plain": [
       "tensor([36584152397, 36584152397, 36584152397,  ..., 36584105780,\n",
       "        36578962312, 34084614588])"
      ]
     },
     "execution_count": 473,
     "metadata": {},
     "output_type": "execute_result"
    }
   ],
   "source": [
    "stream_tr"
   ]
  },
  {
   "cell_type": "code",
   "execution_count": 486,
   "metadata": {},
   "outputs": [],
   "source": [
    "# %time mHHs, mfreqs =get_CS_HH(stream_tr, d,c,r,k,device, nThread)"
   ]
  },
  {
   "cell_type": "code",
   "execution_count": 424,
   "metadata": {},
   "outputs": [],
   "source": [
    "dList=[streamLen//i for i in [1,2,4,8,16,32,64,128,256]]"
   ]
  },
  {
   "cell_type": "code",
   "execution_count": 416,
   "metadata": {},
   "outputs": [
    {
     "data": {
      "text/plain": [
       "[26034006, 13017003, 6508501, 3254250, 1627125, 813562, 406781, 203390, 101695]"
      ]
     },
     "execution_count": 416,
     "metadata": {},
     "output_type": "execute_result"
    }
   ],
   "source": [
    "dList"
   ]
  },
  {
   "cell_type": "code",
   "execution_count": null,
   "metadata": {},
   "outputs": [],
   "source": [
    "t_d100k=[]\n",
    "\n",
    "for d in dList[-1:]:\n",
    "    t=%timeit -o get_CS_HH(stream_tr, d,c,r,k,device, parallel=False)\n",
    "    t_d100k.append(t.average)\n",
    "t_d100k=np.array(t_d100k)*1000"
   ]
  },
  {
   "cell_type": "code",
   "execution_count": 420,
   "metadata": {},
   "outputs": [
    {
     "name": "stdout",
     "output_type": "stream",
     "text": [
      "2.33 s ± 90.4 ms per loop (mean ± std. dev. of 7 runs, 1 loop each)\n"
     ]
    }
   ],
   "source": [
    "t_d100k=[]\n",
    "\n",
    "for d in dList[-1:]:\n",
    "    t=%timeit -o get_CS_HH(stream_tr, d,c,r,k,device, parallel=False)\n",
    "    t_d100k.append(t.average)\n",
    "t_d100k=np.array(t_d100k)*1000"
   ]
  },
  {
   "cell_type": "code",
   "execution_count": 422,
   "metadata": {},
   "outputs": [],
   "source": [
    "dList=np.array([1e4,5e4,1e5,2e5,4e5,8e5]).astype('int')"
   ]
  },
  {
   "cell_type": "code",
   "execution_count": 423,
   "metadata": {},
   "outputs": [
    {
     "name": "stdout",
     "output_type": "stream",
     "text": [
      "6.5 s ± 57.4 ms per loop (mean ± std. dev. of 7 runs, 1 loop each)\n",
      "2.78 s ± 72.2 ms per loop (mean ± std. dev. of 7 runs, 1 loop each)\n",
      "2.38 s ± 59 ms per loop (mean ± std. dev. of 7 runs, 1 loop each)\n",
      "2.69 s ± 181 ms per loop (mean ± std. dev. of 7 runs, 1 loop each)\n",
      "3.38 s ± 233 ms per loop (mean ± std. dev. of 7 runs, 1 loop each)\n",
      "4.99 s ± 147 ms per loop (mean ± std. dev. of 7 runs, 1 loop each)\n"
     ]
    }
   ],
   "source": [
    "tp_d100k=[]\n",
    "\n",
    "for d in dList:\n",
    "    t=%timeit -o get_CS_HH(stream_tr, d,c,r,k,device, parallel=True)\n",
    "    tp_d100k.append(t.average)\n",
    "tp_d100k=np.array(tp_d100k)*1000"
   ]
  },
  {
   "cell_type": "code",
   "execution_count": null,
   "metadata": {},
   "outputs": [],
   "source": [
    "%timeit -o get_CS_HH(stream0_tr, d,c,r,k,device, parallel=False)"
   ]
  },
  {
   "cell_type": "code",
   "execution_count": 419,
   "metadata": {},
   "outputs": [
    {
     "data": {
      "text/plain": [
       "(101695, 20000, 10, 1000)"
      ]
     },
     "execution_count": 419,
     "metadata": {},
     "output_type": "execute_result"
    }
   ],
   "source": [
    "d, c, r, k"
   ]
  },
  {
   "cell_type": "code",
   "execution_count": 365,
   "metadata": {},
   "outputs": [
    {
     "name": "stdout",
     "output_type": "stream",
     "text": [
      "tensor([42,  0,  0,  ...,  0,  0,  0], dtype=torch.uint8)\n",
      "tensor([[2297359619001564597, 1396682528897996053, 1973689801170867276,\n",
      "         1819927849474927640,  572192888165898362,  571748048327668951],\n",
      "        [1071453510346823114, 2143071682933157242, 1865242737500154731,\n",
      "         1532418594269339783,  379716980844854580, 1750777661071092062],\n",
      "        [1520798217888136611, 1611122243678701954, 1048235628103308220,\n",
      "         1077373049702139041, 1000592739665268027,  456675647751657728],\n",
      "        [1050450229337746267,  760543396461257180, 2063321781277379074,\n",
      "          267364570529679360,  777431531920034493, 2146497176616232720],\n",
      "        [1495477363401685952,  648881935158774723, 1377488174878099308,\n",
      "          262579006026876151, 1704747971477620220,  856858769658023396],\n",
      "        [1983852346201383562,  839771884757445449, 1199990111390225681,\n",
      "         1362947483897176671, 1671865959972055060, 1077240956986238975],\n",
      "        [1007446255075745115, 1801732545371167617, 1092656530294298720,\n",
      "         1201851346935503806, 2251208029941317035, 2216872713715991306],\n",
      "        [ 634356285132873762,  633099677421309015,  161962062168655411,\n",
      "          692163906031803784, 1138368374822601727,  370189644521515577],\n",
      "        [ 861652531725782791, 1104119908775765469, 1744778438383761816,\n",
      "          463618807884355121, 1189795419742834896,  365750060173591530],\n",
      "        [1805935812952358754,  864677038069918997, 1632398491907562957,\n",
      "         1309402721808639228,  834296198785359549, 1389599250197995222]])\n",
      "top 3150|err 256.04|Acc5% 1.0 | Acc50% 0.96\n"
     ]
    }
   ],
   "source": [
    "cHHs,cfreqs=get_CS_HH(stream_tr,d,c,r,3150,device)\n",
    "errVec,err,setAcc = get_relative_error(exactHH,cHHs, cfreqs, True, k=3150)"
   ]
  },
  {
   "cell_type": "code",
   "execution_count": 392,
   "metadata": {},
   "outputs": [
    {
     "name": "stdout",
     "output_type": "stream",
     "text": [
      "top 3150|err 256.04|Acc5% 1.0 | Acc50% 0.96\n"
     ]
    }
   ],
   "source": [
    "errVec,err,setAcc = get_relative_error(exactHH,mHHs, mfreqs, True, k=3150)"
   ]
  },
  {
   "cell_type": "code",
   "execution_count": 487,
   "metadata": {},
   "outputs": [
    {
     "name": "stdout",
     "output_type": "stream",
     "text": [
      "top 3150|err 256.04|Acc5% 1.0 | Acc50% 0.96\n"
     ]
    }
   ],
   "source": [
    "errVec,err,setAcc = get_relative_error(exactHH,mHHs, mfreqs, True, k=3150)"
   ]
  },
  {
   "cell_type": "code",
   "execution_count": null,
   "metadata": {},
   "outputs": [],
   "source": []
  },
  {
   "cell_type": "code",
   "execution_count": 675,
   "metadata": {},
   "outputs": [],
   "source": [
    "tt=[stream_tr]*100"
   ]
  },
  {
   "cell_type": "code",
   "execution_count": 676,
   "metadata": {},
   "outputs": [],
   "source": [
    "stream_tr_aug=torch.cat(tt)"
   ]
  },
  {
   "cell_type": "code",
   "execution_count": 677,
   "metadata": {},
   "outputs": [
    {
     "data": {
      "text/plain": [
       "torch.Size([2603400600])"
      ]
     },
     "execution_count": 677,
     "metadata": {},
     "output_type": "execute_result"
    }
   ],
   "source": [
    "stream_tr_aug.shape"
   ]
  },
  {
   "cell_type": "code",
   "execution_count": 671,
   "metadata": {},
   "outputs": [
    {
     "data": {
      "text/plain": [
       "tensor([36584152397, 36584152397, 36584152397,  ..., 36584105780,\n",
       "        36578962312, 34084614588])"
      ]
     },
     "execution_count": 671,
     "metadata": {},
     "output_type": "execute_result"
    }
   ],
   "source": [
    "stream_tr_aug"
   ]
  },
  {
   "cell_type": "code",
   "execution_count": 683,
   "metadata": {},
   "outputs": [
    {
     "data": {
      "text/plain": [
       "2.0"
      ]
     },
     "execution_count": 683,
     "metadata": {},
     "output_type": "execute_result"
    }
   ],
   "source": [
    "2603400600//1e9"
   ]
  },
  {
   "cell_type": "code",
   "execution_count": 700,
   "metadata": {},
   "outputs": [],
   "source": [
    "sizeList=np.array([1e3,1e4,5e4,1e5,5e5,1e6,5e6,1e7,5e7,1e8,5e8,1e9,2e9]).astype('int')"
   ]
  },
  {
   "cell_type": "code",
   "execution_count": 689,
   "metadata": {},
   "outputs": [
    {
     "name": "stdout",
     "output_type": "stream",
     "text": [
      "7.12 ms ± 129 µs per loop (mean ± std. dev. of 7 runs, 100 loops each)\n",
      "11.8 ms ± 580 µs per loop (mean ± std. dev. of 7 runs, 100 loops each)\n",
      "14.6 ms ± 422 µs per loop (mean ± std. dev. of 7 runs, 100 loops each)\n",
      "53.2 ms ± 1.82 ms per loop (mean ± std. dev. of 7 runs, 10 loops each)\n",
      "113 ms ± 4.17 ms per loop (mean ± std. dev. of 7 runs, 10 loops each)\n",
      "518 ms ± 10.1 ms per loop (mean ± std. dev. of 7 runs, 1 loop each)\n",
      "1.01 s ± 66.9 ms per loop (mean ± std. dev. of 7 runs, 1 loop each)\n",
      "4.6 s ± 195 ms per loop (mean ± std. dev. of 7 runs, 1 loop each)\n",
      "8.91 s ± 207 ms per loop (mean ± std. dev. of 7 runs, 1 loop each)\n"
     ]
    }
   ],
   "source": [
    "tSingle=[]\n",
    "for size in sizeList:\n",
    "    t=%timeit -o get_CS_HH(stream_tr_aug[:size], 100000, 20000, 10, 1000, device=None)    \n",
    "    tSingle.append(t.average)\n",
    "tSingle=np.array(tSingle)*1000"
   ]
  },
  {
   "cell_type": "code",
   "execution_count": 698,
   "metadata": {},
   "outputs": [],
   "source": [
    "def plot_scale(sizeList,tSingle,teSingle,xlabel):\n",
    "    plt.scatter(sizeList,tSingle, c='red', label='1 Worker CS')\n",
    "    plt.plot(sizeList,tSingle, c='grey', alpha=0.5)\n",
    "    plt.scatter(sizeList,teSingle, c='b', label='Exact')\n",
    "    plt.plot(sizeList,teSingle, c='grey', alpha=0.5)\n",
    "    plt.legend()\n",
    "    plt.xlabel(xlabel)\n",
    "    plt.ylabel('ms')"
   ]
  },
  {
   "cell_type": "code",
   "execution_count": null,
   "metadata": {},
   "outputs": [],
   "source": [
    "plot_scale(np.log10(sizeList),tSingle,teSingle,'N')"
   ]
  },
  {
   "cell_type": "code",
   "execution_count": 702,
   "metadata": {},
   "outputs": [
    {
     "data": {
      "image/png": "[encoded data removed]",
      "text/plain": [
       "<Figure size 432x288 with 1 Axes>"
      ]
     },
     "metadata": {
      "needs_background": "light"
     },
     "output_type": "display_data"
    }
   ],
   "source": [
    "plot_scale(np.log10(sizeList[:9]),tSingle,teSingle,'log(N)')"
   ]
  },
  {
   "cell_type": "code",
   "execution_count": 691,
   "metadata": {},
   "outputs": [],
   "source": [
    "stream_aug=stream_tr_aug.cpu().numpy()"
   ]
  },
  {
   "cell_type": "code",
   "execution_count": null,
   "metadata": {},
   "outputs": [],
   "source": [
    "%time get_exact_HH(stream_aug[:sizeList[10]])  "
   ]
  },
  {
   "cell_type": "code",
   "execution_count": null,
   "metadata": {},
   "outputs": [],
   "source": [
    "%time get_exact_HH(stream_aug[:sizeList[10]])  "
   ]
  },
  {
   "cell_type": "code",
   "execution_count": null,
   "metadata": {},
   "outputs": [],
   "source": [
    "w"
   ]
  },
  {
   "cell_type": "code",
   "execution_count": null,
   "metadata": {},
   "outputs": [],
   "source": [
    "%time get_exact_HH(stream_aug[:sizeList[10]])  "
   ]
  },
  {
   "cell_type": "code",
   "execution_count": 692,
   "metadata": {},
   "outputs": [
    {
     "name": "stdout",
     "output_type": "stream",
     "text": [
      "2.6 ms ± 354 µs per loop (mean ± std. dev. of 7 runs, 100 loops each)\n",
      "10.1 ms ± 21.7 µs per loop (mean ± std. dev. of 7 runs, 100 loops each)\n",
      "19.5 ms ± 1.17 ms per loop (mean ± std. dev. of 7 runs, 100 loops each)\n",
      "93.5 ms ± 1.11 ms per loop (mean ± std. dev. of 7 runs, 10 loops each)\n",
      "190 ms ± 880 µs per loop (mean ± std. dev. of 7 runs, 10 loops each)\n",
      "1.02 s ± 6.66 ms per loop (mean ± std. dev. of 7 runs, 1 loop each)\n",
      "2.08 s ± 10.7 ms per loop (mean ± std. dev. of 7 runs, 1 loop each)\n",
      "10.7 s ± 584 ms per loop (mean ± std. dev. of 7 runs, 1 loop each)\n",
      "21.3 s ± 642 ms per loop (mean ± std. dev. of 7 runs, 1 loop each)\n"
     ]
    }
   ],
   "source": [
    "teSingle=[]\n",
    "for size in sizeList:\n",
    "    t=%timeit -o get_exact_HH(stream_aug[:size])    \n",
    "    teSingle.append(t.average)\n",
    "teSingle=np.array(teSingle)*1000"
   ]
  },
  {
   "cell_type": "code",
   "execution_count": null,
   "metadata": {},
   "outputs": [],
   "source": [
    "t=%timeit -o get_exact_HH(stream_aug[:size])  "
   ]
  },
  {
   "cell_type": "code",
   "execution_count": null,
   "metadata": {},
   "outputs": [],
   "source": []
  },
  {
   "cell_type": "code",
   "execution_count": 266,
   "metadata": {},
   "outputs": [
    {
     "name": "stdout",
     "output_type": "stream",
     "text": [
      "6.23 ms ± 241 µs per loop (mean ± std. dev. of 7 runs, 100 loops each)\n",
      "12.2 ms ± 370 µs per loop (mean ± std. dev. of 7 runs, 100 loops each)\n",
      "14.9 ms ± 132 µs per loop (mean ± std. dev. of 7 runs, 100 loops each)\n",
      "66.7 ms ± 3.93 ms per loop (mean ± std. dev. of 7 runs, 10 loops each)\n",
      "117 ms ± 2.77 ms per loop (mean ± std. dev. of 7 runs, 10 loops each)\n",
      "564 ms ± 20 ms per loop (mean ± std. dev. of 7 runs, 1 loop each)\n",
      "1.07 s ± 60.5 ms per loop (mean ± std. dev. of 7 runs, 1 loop each)\n",
      "2.16 s ± 79.3 ms per loop (mean ± std. dev. of 7 runs, 1 loop each)\n"
     ]
    }
   ],
   "source": [
    "tSingle=[]\n",
    "for size in sizeList:\n",
    "    get_CS_HH(stream_tr[:size], 100000, 20000, 10, 1000, device=None)    \n",
    "    tSingle.append(t.average)"
   ]
  },
  {
   "cell_type": "code",
   "execution_count": 273,
   "metadata": {},
   "outputs": [],
   "source": []
  },
  {
   "cell_type": "code",
   "execution_count": 299,
   "metadata": {},
   "outputs": [
    {
     "data": {
      "text/plain": [
       "Text(0, 0.5, 'ms')"
      ]
     },
     "execution_count": 299,
     "metadata": {},
     "output_type": "execute_result"
    },
    {
     "data": {
      "image/png": "[encoded data removed]",
      "text/plain": [
       "<Figure size 432x288 with 1 Axes>"
      ]
     },
     "metadata": {
      "needs_background": "light"
     },
     "output_type": "display_data"
    }
   ],
   "source": [
    "plt.scatter(sizeList,tSingle, c='red', label='1 Worker')\n",
    "plt.plot(sizeList,tSingle, c='grey', alpha=0.5)\n",
    "plt.legend()\n",
    "plt.xlabel('sample size')\n",
    "plt.ylabel('ms')"
   ]
  },
  {
   "cell_type": "code",
   "execution_count": 249,
   "metadata": {},
   "outputs": [
    {
     "name": "stdout",
     "output_type": "stream",
     "text": [
      "4.51 ms ± 362 µs per loop (mean ± std. dev. of 7 runs, 100 loops each)\n"
     ]
    }
   ],
   "source": [
    "t = %timeit -o get_CS_HH(stream0_tr, csv1)"
   ]
  },
  {
   "cell_type": "code",
   "execution_count": 254,
   "metadata": {},
   "outputs": [
    {
     "data": {
      "text/plain": [
       "0.004506217893213034"
      ]
     },
     "execution_count": 254,
     "metadata": {},
     "output_type": "execute_result"
    }
   ],
   "source": [
    "t.average"
   ]
  },
  {
   "cell_type": "code",
   "execution_count": 251,
   "metadata": {},
   "outputs": [],
   "source": [
    "tt=_"
   ]
  },
  {
   "cell_type": "code",
   "execution_count": 252,
   "metadata": {},
   "outputs": [
    {
     "data": {
      "text/plain": [
       "<TimeitResult : 4.51 ms ± 362 µs per loop (mean ± std. dev. of 7 runs, 100 loops each)>"
      ]
     },
     "execution_count": 252,
     "metadata": {},
     "output_type": "execute_result"
    }
   ],
   "source": [
    "tt"
   ]
  },
  {
   "cell_type": "code",
   "execution_count": 225,
   "metadata": {},
   "outputs": [
    {
     "name": "stdout",
     "output_type": "stream",
     "text": [
      "2.2 s ± 67.9 ms per loop (mean ± std. dev. of 7 runs, 1 loop each)\n"
     ]
    }
   ],
   "source": [
    "%timeit get_CS_HH(stream_tr, csv1)"
   ]
  },
  {
   "cell_type": "code",
   "execution_count": 229,
   "metadata": {},
   "outputs": [
    {
     "name": "stdout",
     "output_type": "stream",
     "text": [
      "peak memory: 2710.89 MiB, increment: 203.00 MiB\n"
     ]
    }
   ],
   "source": [
    "%memit get_CS_HH(stream_tr, csv1)"
   ]
  },
  {
   "cell_type": "code",
   "execution_count": 230,
   "metadata": {},
   "outputs": [],
   "source": [
    "a,b = get_CS_HH(stream_tr, csv1)"
   ]
  },
  {
   "cell_type": "code",
   "execution_count": 235,
   "metadata": {},
   "outputs": [],
   "source": [
    "c,d = get_CS_HH(stream_tr, csv2)"
   ]
  },
  {
   "cell_type": "code",
   "execution_count": 237,
   "metadata": {},
   "outputs": [],
   "source": [
    "e,f = get_CS_HH(stream_tr, csv3)"
   ]
  },
  {
   "cell_type": "code",
   "execution_count": 238,
   "metadata": {},
   "outputs": [
    {
     "name": "stdout",
     "output_type": "stream",
     "text": [
      "top 3150|err 26917.19|Acc5% 1.0 | Acc50% 0.96\n"
     ]
    }
   ],
   "source": [
    "errVec,err,setAcc = get_relative_error(exactHH,e,f, True, k=3150)"
   ]
  },
  {
   "cell_type": "code",
   "execution_count": 236,
   "metadata": {},
   "outputs": [
    {
     "name": "stdout",
     "output_type": "stream",
     "text": [
      "top 3150|err 24189.22|Acc5% 1.0 | Acc50% 0.81\n"
     ]
    }
   ],
   "source": [
    "errVec,err,setAcc = get_relative_error(exactHH,c,d, True, k=3150)"
   ]
  },
  {
   "cell_type": "code",
   "execution_count": 234,
   "metadata": {},
   "outputs": [
    {
     "name": "stdout",
     "output_type": "stream",
     "text": [
      "top 3150|err 18451.68|Acc5% 1.0 | Acc50% 0.56\n"
     ]
    }
   ],
   "source": [
    "errVec,err,setAcc = get_relative_error(exactHH,a,b, True, k=3150)"
   ]
  },
  {
   "cell_type": "code",
   "execution_count": 307,
   "metadata": {},
   "outputs": [
    {
     "name": "stdout",
     "output_type": "stream",
     "text": [
      "tensor([[2297359619001564597, 1396682528897996053, 1973689801170867276,\n",
      "         1819927849474927640,  572192888165898362,  571748048327668951],\n",
      "        [1071453510346823114, 2143071682933157242, 1865242737500154731,\n",
      "         1532418594269339783,  379716980844854580, 1750777661071092062],\n",
      "        [1520798217888136611, 1611122243678701954, 1048235628103308220,\n",
      "         1077373049702139041, 1000592739665268027,  456675647751657728],\n",
      "        [1050450229337746267,  760543396461257180, 2063321781277379074,\n",
      "          267364570529679360,  777431531920034493, 2146497176616232720],\n",
      "        [1495477363401685952,  648881935158774723, 1377488174878099308,\n",
      "          262579006026876151, 1704747971477620220,  856858769658023396],\n",
      "        [1983852346201383562,  839771884757445449, 1199990111390225681,\n",
      "         1362947483897176671, 1671865959972055060, 1077240956986238975],\n",
      "        [1007446255075745115, 1801732545371167617, 1092656530294298720,\n",
      "         1201851346935503806, 2251208029941317035, 2216872713715991306],\n",
      "        [ 634356285132873762,  633099677421309015,  161962062168655411,\n",
      "          692163906031803784, 1138368374822601727,  370189644521515577],\n",
      "        [ 861652531725782791, 1104119908775765469, 1744778438383761816,\n",
      "          463618807884355121, 1189795419742834896,  365750060173591530],\n",
      "        [1805935812952358754,  864677038069918997, 1632398491907562957,\n",
      "         1309402721808639228,  834296198785359549, 1389599250197995222]])\n"
     ]
    }
   ],
   "source": [
    "d=100000\n",
    "r=10\n",
    "k=1000\n",
    "c=20000\n",
    "device=None\n",
    "csv2=CSVec(d, c, r, topk, device=device)"
   ]
  },
  {
   "cell_type": "code",
   "execution_count": null,
   "metadata": {},
   "outputs": [],
   "source": []
  },
  {
   "cell_type": "code",
   "execution_count": 231,
   "metadata": {},
   "outputs": [],
   "source": [
    "d=100000\n",
    "r=10\n",
    "k=1000\n",
    "c=20000\n",
    "device=None\n",
    "csv3=CSVec(d, c, r, topk, device=device)"
   ]
  },
  {
   "cell_type": "code",
   "execution_count": 232,
   "metadata": {},
   "outputs": [
    {
     "name": "stdout",
     "output_type": "stream",
     "text": [
      "3.45 s ± 67.8 ms per loop (mean ± std. dev. of 7 runs, 1 loop each)\n"
     ]
    }
   ],
   "source": [
    "%timeit get_CS_HH(stream_tr, csv3)"
   ]
  },
  {
   "cell_type": "code",
   "execution_count": 233,
   "metadata": {},
   "outputs": [
    {
     "name": "stdout",
     "output_type": "stream",
     "text": [
      "peak memory: 2704.84 MiB, increment: 247.75 MiB\n"
     ]
    }
   ],
   "source": [
    "%memit get_CS_HH(stream_tr, csv3)"
   ]
  },
  {
   "cell_type": "code",
   "execution_count": 227,
   "metadata": {},
   "outputs": [
    {
     "name": "stdout",
     "output_type": "stream",
     "text": [
      "2.19 s ± 73.8 ms per loop (mean ± std. dev. of 7 runs, 1 loop each)\n"
     ]
    }
   ],
   "source": [
    "%timeit get_CS_HH(stream_tr, csv2)"
   ]
  },
  {
   "cell_type": "code",
   "execution_count": 228,
   "metadata": {},
   "outputs": [
    {
     "name": "stdout",
     "output_type": "stream",
     "text": [
      "peak memory: 2710.89 MiB, increment: 203.00 MiB\n"
     ]
    }
   ],
   "source": [
    "%memit get_CS_HH(stream_tr, csv2)"
   ]
  },
  {
   "cell_type": "code",
   "execution_count": 208,
   "metadata": {},
   "outputs": [],
   "source": [
    "cHHs,cFreqs= get_CS_HH(stream_tr, csv)"
   ]
  },
  {
   "cell_type": "code",
   "execution_count": 211,
   "metadata": {},
   "outputs": [
    {
     "name": "stdout",
     "output_type": "stream",
     "text": [
      "21.8 ms ± 813 µs per loop (mean ± std. dev. of 7 runs, 10 loops each)\n"
     ]
    }
   ],
   "source": [
    "%timeit a,b=get_np_cs(cHHs,cFreqs, 3150)"
   ]
  },
  {
   "cell_type": "code",
   "execution_count": 137,
   "metadata": {},
   "outputs": [
    {
     "data": {
      "text/plain": [
       "2614.14"
      ]
     },
     "execution_count": 137,
     "metadata": {},
     "output_type": "execute_result"
    }
   ],
   "source": [
    "261414*0.01"
   ]
  },
  {
   "cell_type": "code",
   "execution_count": 136,
   "metadata": {},
   "outputs": [
    {
     "data": {
      "text/plain": [
       "torch.Size([261414])"
      ]
     },
     "execution_count": 136,
     "metadata": {},
     "output_type": "execute_result"
    }
   ],
   "source": [
    "cfreq.shape"
   ]
  },
  {
   "cell_type": "code",
   "execution_count": 122,
   "metadata": {},
   "outputs": [
    {
     "data": {
      "text/plain": [
       "array([31471414068, 31471414090, 31471424737, ..., 46349313739,\n",
       "       46457539944, 46457539966])"
      ]
     },
     "execution_count": 122,
     "metadata": {},
     "output_type": "execute_result"
    }
   ],
   "source": [
    "cHH"
   ]
  },
  {
   "cell_type": "code",
   "execution_count": 102,
   "metadata": {},
   "outputs": [
    {
     "name": "stdout",
     "output_type": "stream",
     "text": [
      " "
     ]
    }
   ],
   "source": [
    "%prun HH,freq,t=get_CS_HH(stream,d,c,r,topk,device)"
   ]
  },
  {
   "cell_type": "code",
   "execution_count": 119,
   "metadata": {},
   "outputs": [
    {
     "name": "stdout",
     "output_type": "stream",
     "text": [
      "CPU times: user 31.6 ms, sys: 980 µs, total: 32.6 ms\n",
      "Wall time: 15.6 ms\n"
     ]
    },
    {
     "data": {
      "text/plain": [
       "2"
      ]
     },
     "execution_count": 119,
     "metadata": {},
     "output_type": "execute_result"
    }
   ],
   "source": [
    "%timeit HH,freq,t=get_CS_HH(stream0,d,c,r,topk,device)\n",
    "%timeit HH,freq,t=get_CS_HH(stream0,d,c,r,topk,device)"
   ]
  },
  {
   "cell_type": "code",
   "execution_count": 338,
   "metadata": {},
   "outputs": [
    {
     "data": {
      "text/plain": [
       "tensor([31471414068, 31471414090, 31471424737,  ..., 46349313739,\n",
       "        46457539944, 46457539966])"
      ]
     },
     "execution_count": 338,
     "metadata": {},
     "output_type": "execute_result"
    }
   ],
   "source": [
    "mHHs"
   ]
  },
  {
   "cell_type": "code",
   "execution_count": 335,
   "metadata": {},
   "outputs": [
    {
     "data": {
      "text/plain": [
       "tensor([31471414068, 31471414090, 31471424737,  ..., 46349313739,\n",
       "        46457539944, 46457539966])"
      ]
     },
     "execution_count": 335,
     "metadata": {},
     "output_type": "execute_result"
    }
   ],
   "source": [
    "cHH"
   ]
  },
  {
   "cell_type": "code",
   "execution_count": 345,
   "metadata": {},
   "outputs": [
    {
     "data": {
      "text/plain": [
       "2000"
      ]
     },
     "execution_count": 345,
     "metadata": {},
     "output_type": "execute_result"
    }
   ],
   "source": [
    "topk"
   ]
  },
  {
   "cell_type": "code",
   "execution_count": 351,
   "metadata": {},
   "outputs": [
    {
     "name": "stdout",
     "output_type": "stream",
     "text": [
      "tensor([42,  0,  0,  ...,  0,  0,  0], dtype=torch.uint8)\n",
      "tensor([[2297359619001564597, 1396682528897996053, 1973689801170867276,\n",
      "         1819927849474927640,  572192888165898362,  571748048327668951],\n",
      "        [1071453510346823114, 2143071682933157242, 1865242737500154731,\n",
      "         1532418594269339783,  379716980844854580, 1750777661071092062],\n",
      "        [1520798217888136611, 1611122243678701954, 1048235628103308220,\n",
      "         1077373049702139041, 1000592739665268027,  456675647751657728],\n",
      "        [1050450229337746267,  760543396461257180, 2063321781277379074,\n",
      "          267364570529679360,  777431531920034493, 2146497176616232720],\n",
      "        [1495477363401685952,  648881935158774723, 1377488174878099308,\n",
      "          262579006026876151, 1704747971477620220,  856858769658023396],\n",
      "        [1983852346201383562,  839771884757445449, 1199990111390225681,\n",
      "         1362947483897176671, 1671865959972055060, 1077240956986238975],\n",
      "        [1007446255075745115, 1801732545371167617, 1092656530294298720,\n",
      "         1201851346935503806, 2251208029941317035, 2216872713715991306],\n",
      "        [ 634356285132873762,  633099677421309015,  161962062168655411,\n",
      "          692163906031803784, 1138368374822601727,  370189644521515577],\n",
      "        [ 861652531725782791, 1104119908775765469, 1744778438383761816,\n",
      "          463618807884355121, 1189795419742834896,  365750060173591530],\n",
      "        [1805935812952358754,  864677038069918997, 1632398491907562957,\n",
      "         1309402721808639228,  834296198785359549, 1389599250197995222]])\n"
     ]
    }
   ],
   "source": [
    "cHHs,cfreqs=get_CS_HH(stream_tr,d,c,r,3150,device)\n",
    "errVec,err,setAcc = get_relative_error(exactHH,cHHs, cfreqs, True, k=3150)"
   ]
  },
  {
   "cell_type": "code",
   "execution_count": 352,
   "metadata": {},
   "outputs": [
    {
     "name": "stdout",
     "output_type": "stream",
     "text": [
      "top 3150|err 92619.99|Acc5% 1.0 | Acc50% 0.76\n"
     ]
    }
   ],
   "source": []
  },
  {
   "cell_type": "code",
   "execution_count": 353,
   "metadata": {},
   "outputs": [
    {
     "name": "stdout",
     "output_type": "stream",
     "text": [
      "top 3150|err 3085.84|Acc5% 1.0 | Acc50% 0.96\n"
     ]
    }
   ],
   "source": [
    "errVec,err,setAcc = get_relative_error(exactHH,mHHs, mfreqs, True, k=3150)"
   ]
  },
  {
   "cell_type": "code",
   "execution_count": 336,
   "metadata": {},
   "outputs": [
    {
     "name": "stdout",
     "output_type": "stream",
     "text": [
      "top 3150|err 747.73|Acc5% 1.0 | Acc50% 0.81\n"
     ]
    }
   ],
   "source": [
    "errVec,err,setAcc = get_relative_error(exactHH,cHH, cfreq, True, k=3150)"
   ]
  },
  {
   "cell_type": "code",
   "execution_count": null,
   "metadata": {},
   "outputs": [],
   "source": []
  },
  {
   "cell_type": "code",
   "execution_count": 221,
   "metadata": {},
   "outputs": [
    {
     "data": {
      "text/plain": [
       "array([[ 6.90171483, 12.16961908, 10.90853565, 11.59461348,  5.61500318,\n",
       "         3.5472393 , 11.97416957,  7.86587463],\n",
       "       [ 7.17805242,  8.08836271,  3.93636591,  3.78795513,  3.77934333,\n",
       "        10.87651992,  3.72601538, 12.55552046],\n",
       "       [ 5.84371928,  4.44981989,  9.92746658,  9.15264454,  7.88559726,\n",
       "        10.72655833,  3.23086134, 11.71831104],\n",
       "       [ 6.88932874,  9.57638422,  6.11926143, 11.85036528,  3.53809645,\n",
       "         6.87066997,  7.31633041,  9.01281039]])"
      ]
     },
     "execution_count": 221,
     "metadata": {},
     "output_type": "execute_result"
    }
   ],
   "source": [
    "data"
   ]
  },
  {
   "cell_type": "code",
   "execution_count": 220,
   "metadata": {},
   "outputs": [
    {
     "data": {
      "text/plain": [
       "(4, 8)"
      ]
     },
     "execution_count": 220,
     "metadata": {},
     "output_type": "execute_result"
    }
   ],
   "source": [
    "data.shape"
   ]
  },
  {
   "cell_type": "code",
   "execution_count": 334,
   "metadata": {},
   "outputs": [],
   "source": [
    "d=100000\n",
    "r=10\n",
    "k=1000\n",
    "c=20000"
   ]
  },
  {
   "cell_type": "code",
   "execution_count": 218,
   "metadata": {},
   "outputs": [
    {
     "data": {
      "image/png": "[encoded data removed]",
      "text/plain": [
       "<Figure size 720x576 with 1 Axes>"
      ]
     },
     "metadata": {
      "needs_background": "light"
     },
     "output_type": "display_data"
    }
   ],
   "source": [
    "import numpy as np\n",
    "import matplotlib.pyplot as plt\n",
    "\n",
    "people = ('Exact','r',)\n",
    "segments = 2\n",
    "\n",
    "# generate some multi-dimensional data & arbitrary labels\n",
    "data = 3 + 10* np.random.rand(segments, len(people))\n",
    "percentages = (np.random.randint(5,20, (len(people), segments)))\n",
    "y_pos = np.arange(len(people))\n",
    "\n",
    "fig = plt.figure(figsize=(10,8))\n",
    "ax = fig.add_subplot(111)\n",
    "\n",
    "colors ='rgbwmc'\n",
    "patch_handles = []\n",
    "left = np.zeros(len(people)) # left alignment of data starts at zero\n",
    "for i, d in enumerate(data):\n",
    "    patch_handles.append(ax.barh(y_pos, d, \n",
    "      color=colors[i%len(colors)], align='center', \n",
    "      left=left))\n",
    "    # accumulate the left-hand offsets\n",
    "    left += d\n",
    "\n",
    "# go through all of the bar segments and annotate\n",
    "for j in range(len(patch_handles)):\n",
    "    for i, patch in enumerate(patch_handles[j].get_children()):\n",
    "        bl = patch.get_xy()\n",
    "        x = 0.5*patch.get_width() + bl[0]\n",
    "        y = 0.5*patch.get_height() + bl[1]\n",
    "        ax.text(x,y, \"%d%%\" % (percentages[i,j]), ha='center')\n",
    "\n",
    "ax.set_yticks(y_pos)\n",
    "ax.set_yticklabels(people)\n",
    "ax.set_xlabel('Distance')\n",
    "\n",
    "plt.show()"
   ]
  },
  {
   "cell_type": "code",
   "execution_count": null,
   "metadata": {},
   "outputs": [],
   "source": []
  }
 ],
 "metadata": {
  "kernelspec": {
   "display_name": "Python 3.8.2 64-bit ('ptorch': conda)",
   "language": "python",
   "name": "python38264bitptorchconda526be3fe34db4c6e9ce522e086b57990"
  },
  "language_info": {
   "codemirror_mode": {
    "name": "ipython",
    "version": 3
   },
   "file_extension": ".py",
   "mimetype": "text/x-python",
   "name": "python",
   "nbconvert_exporter": "python",
   "pygments_lexer": "ipython3",
   "version": "3.8.2"
  }
 },
 "nbformat": 4,
 "nbformat_minor": 4
}
