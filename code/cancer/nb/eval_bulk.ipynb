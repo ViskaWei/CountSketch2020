{
 "cells": [
  {
   "cell_type": "code",
   "execution_count": 1,
   "metadata": {},
   "outputs": [],
   "source": [
    "PROJECT_PATH = '../..'\n",
    "DATASET_PATH = '/home/swei20/cancerHH/AceCanZ/runs/test/testBulkVecs.txt'\n",
    "# DATASET_PATH = '/scratch/ceph/dobos/data/pfsspec/train/stellar/grid/bosz_hires_test'"
   ]
  },
  {
   "cell_type": "code",
   "execution_count": 2,
   "metadata": {},
   "outputs": [],
   "source": [
    "import os\n",
    "import sys\n",
    "import numpy as np\n",
    "import pandas as pd\n",
    "import matplotlib.pyplot as plt\n",
    "from matplotlib.ticker import AutoMinorLocator, MultipleLocator"
   ]
  },
  {
   "cell_type": "code",
   "execution_count": 3,
   "metadata": {},
   "outputs": [],
   "source": [
    "sys.path.insert(0, PROJECT_PATH)"
   ]
  },
  {
   "cell_type": "code",
   "execution_count": 4,
   "metadata": {},
   "outputs": [
    {
     "data": {
      "text/plain": [
       "'/home/swei20/cancerHH/AceCanZ/code/cancer/nb'"
      ]
     },
     "execution_count": 4,
     "metadata": {},
     "output_type": "execute_result"
    }
   ],
   "source": [
    "os.getcwd()"
   ]
  },
  {
   "cell_type": "code",
   "execution_count": 5,
   "metadata": {},
   "outputs": [],
   "source": [
    "from cancer.prepro.data.bulk import Bulk\n",
    "# from pfsspec.obsmod.spectrum import Spectrum"
   ]
  },
  {
   "cell_type": "code",
   "execution_count": 6,
   "metadata": {},
   "outputs": [],
   "source": [
    "vecs=np.loadtxt(DATASET_PATH)"
   ]
  },
  {
   "cell_type": "code",
   "execution_count": 9,
   "metadata": {},
   "outputs": [
    {
     "data": {
      "text/plain": [
       "(240000, 8)"
      ]
     },
     "execution_count": 9,
     "metadata": {},
     "output_type": "execute_result"
    }
   ],
   "source": [
    "vecs.shape"
   ]
  },
  {
   "cell_type": "code",
   "execution_count": 11,
   "metadata": {},
   "outputs": [
    {
     "data": {
      "text/plain": [
       "8"
      ]
     },
     "execution_count": 11,
     "metadata": {},
     "output_type": "execute_result"
    }
   ],
   "source": [
    "len(vecs[0])"
   ]
  },
  {
   "cell_type": "code",
   "execution_count": 93,
   "metadata": {},
   "outputs": [],
   "source": [
    "import logging\n",
    "import numpy as np\n",
    "import pandas as pd\n",
    "import collections\n",
    "\n",
    "class Bulk():\n",
    "    def __init__(self, vecs):\n",
    "        self.vecs=vecs\n",
    "        self.nDim=len(vecs[0])\n",
    "    \n",
    "    def get_intensity(self):\n",
    "        intensity = (np.sum(self.vecs**2, axis = 1))**0.5\n",
    "        return intensity\n",
    "    \n",
    "    def get_cutoff(self, intensity, N_bins = 100, N_sigma = 3):\n",
    "        para = np.log(intensity[intensity > 1])\n",
    "        (x,y) = np.histogram(para, bins = N_bins)\n",
    "        y = (y[1]-y[0])/2 + y[:-1]\n",
    "        assert len(x) == len(y)\n",
    "        x_max =  np.max(x)\n",
    "        x_half = x_max//2\n",
    "        mu = y[x == x_max]\n",
    "        sigma = abs(y[abs(x - x_half).argmin()] -mu)\n",
    "        cutoff_log = N_sigma* sigma + mu\n",
    "        cutoff = np.exp(cutoff_log).round()\n",
    "        return cutoff\n",
    "    \n",
    "    def get_min_max_norm(self, df):\n",
    "        vmin,vmax=df.min().min(), df.max().max()\n",
    "        df_norm=((df-vmin)/(vmax-vmin))\n",
    "        assert ((df_norm>=0) & (df_norm<=1)).all().all()\n",
    "        return df_norm\n",
    "\n",
    "    def get_unit_ball(self, intensity, cut):\n",
    "        mask = intensity > cut\n",
    "        logging.info('stream length m = {}'.format(np.sum(mask)))\n",
    "        mask=mask.astype('bool')\n",
    "        intensityCut=intensity[mask]\n",
    "        df_pca=pd.DataFrame(self.vecs[mask],columns=[f'd{i}' for i in range(self.nDim)])\n",
    "        df_unit= np.divide(df_pca, intensityCut[:,None])\n",
    "        df_norm=self.get_min_max_norm(df_unit)\n",
    "        return df_norm, mask\n",
    "    \n",
    "    def get_unit_ball_2(self, intensity, cut):\n",
    "        mask = intensity > cut\n",
    "        logging.info('stream length m = {}'.format(np.sum(mask)))\n",
    "        mask=mask.astype('bool')\n",
    "        intensityCut=intensity[mask]\n",
    "        df_pca=pd.DataFrame(self.vecs[mask],columns=[f'd{i}' for i in range(self.nDim)])\n",
    "        df_uni= np.divide(df_pca, intensityCut[:,None])\n",
    "        df_norm=get_minmax_pd(df_uni,r=r, vmin=None, vmax=None)\n",
    "        if ONPCA:\n",
    "            df_p2=get_col_norm_pd(df_pca[[1,2]],r=r,w=False,std=False)\n",
    "            df_norm=pd.concat([df_p2,df_norm],axis=1)\n",
    "        if ONINT: \n",
    "            intensityCut=(intensityCut-np.mean(intensityCut))/np.std(intensityCut)\n",
    "            df_inten=pd.DataFrame(intensityCut, columns=['int'])\n",
    "            df_inten=get_col_norm_pd(df_inten,r=r,w=False,std=False)\n",
    "            df_norm=pd.concat([df_inten,df_norm],axis=1)\n",
    "        ftr_len=len(df_norm.keys())\n",
    "        print(df_norm)\n",
    "        df_norm=pd.DataFrame(df_norm.values, columns=list(range(ftr_len)))\n",
    "        return df_norm, mask, ftr_len"
   ]
  },
  {
   "cell_type": "code",
   "execution_count": 94,
   "metadata": {},
   "outputs": [],
   "source": [
    "bulk= Bulk(vecs)"
   ]
  },
  {
   "cell_type": "code",
   "execution_count": 96,
   "metadata": {},
   "outputs": [],
   "source": [
    "def run_step_ball(self):\n",
    "    bulk=Bulk(self.vecs)\n",
    "    intensity=bulk.get_intensity()\n",
    "    if self.cutoff is None:\n",
    "        self.cutoff = bulk.get_cutoff(intensity)\n",
    "        pickle.dump(cut,open(f'{self.out}/cutoff.txt','wb'))\n",
    "    logging.info(\" cutoff @:  {}\".format(self.cutoff))\n",
    "    return intensity\n",
    "#     bulk.get_unit_ball(intensity, self.cutoff)"
   ]
  },
  {
   "cell_type": "code",
   "execution_count": 105,
   "metadata": {},
   "outputs": [],
   "source": [
    "class merp():\n",
    "    vecs=vecs\n",
    "    cutoff=300\n",
    "    nDim=8\n",
    "    get_min_max_norm=bulk.get_min_max_norm\n",
    "self=merp()    "
   ]
  },
  {
   "cell_type": "code",
   "execution_count": 98,
   "metadata": {},
   "outputs": [],
   "source": [
    "intensity=run_step_ball(self)"
   ]
  },
  {
   "cell_type": "code",
   "execution_count": 99,
   "metadata": {},
   "outputs": [
    {
     "data": {
      "text/plain": [
       "(240000,)"
      ]
     },
     "execution_count": 99,
     "metadata": {},
     "output_type": "execute_result"
    }
   ],
   "source": [
    "intensity.shape"
   ]
  },
  {
   "cell_type": "code",
   "execution_count": 100,
   "metadata": {},
   "outputs": [],
   "source": [
    "cut=300"
   ]
  },
  {
   "cell_type": "code",
   "execution_count": 106,
   "metadata": {},
   "outputs": [],
   "source": []
  },
  {
   "cell_type": "code",
   "execution_count": null,
   "metadata": {},
   "outputs": [],
   "source": []
  },
  {
   "cell_type": "code",
   "execution_count": null,
   "metadata": {},
   "outputs": [],
   "source": []
  },
  {
   "cell_type": "code",
   "execution_count": 58,
   "metadata": {},
   "outputs": [],
   "source": [
    "def get_unit_ball(self, intensity, cut):\n",
    "    mask = intensity > cut\n",
    "    logging.info('stream length m = {}'.format(np.sum(mask)))\n",
    "    mask=mask.astype('bool')\n",
    "    intensityCut=intensity[mask]\n",
    "    df_pca=pd.DataFrame(self.vecs[mask],columns=[f'd{i}' for i in range(self.nDim)])\n",
    "    df_unit= np.divide(df_pca, intensityCut[:,None])\n",
    "    df_norm=self.get_min_max_norm(df_unit)\n",
    "    return df_norm, mask\n"
   ]
  },
  {
   "cell_type": "code",
   "execution_count": null,
   "metadata": {},
   "outputs": [],
   "source": [
    "def get_minmax_pd(df,r=0.01, vmin=None, vmax=None): \n",
    "    if vmin is None: vmin=np.min(df.quantile(r))\n",
    "    if vmax is None: vmax=np.max(df.quantile(1-r))\n",
    "    print('full min max',vmin,vmax )\n",
    "    df_norm=((df-vmin)/(vmax-vmin)).clip(0,1)\n",
    "    return df_norm"
   ]
  },
  {
   "cell_type": "code",
   "execution_count": null,
   "metadata": {},
   "outputs": [],
   "source": []
  },
  {
   "cell_type": "code",
   "execution_count": null,
   "metadata": {},
   "outputs": [],
   "source": []
  },
  {
   "cell_type": "code",
   "execution_count": 110,
   "metadata": {},
   "outputs": [
    {
     "data": {
      "text/plain": [
       "<matplotlib.image.AxesImage at 0x7f8e32a8a160>"
      ]
     },
     "execution_count": 110,
     "metadata": {},
     "output_type": "execute_result"
    },
    {
     "data": {
      "image/png": "[encoded data removed]",
      "text/plain": [
       "<Figure size 288x1152 with 1 Axes>"
      ]
     },
     "metadata": {
      "needs_background": "light"
     },
     "output_type": "display_data"
    }
   ],
   "source": [
    "plt.matshow(df_norm, aspect='auto')"
   ]
  },
  {
   "cell_type": "code",
   "execution_count": 16,
   "metadata": {},
   "outputs": [
    {
     "data": {
      "text/plain": [
       "<matplotlib.image.AxesImage at 0x7f8e347ffe80>"
      ]
     },
     "execution_count": 16,
     "metadata": {},
     "output_type": "execute_result"
    },
    {
     "data": {
      "image/png": "[encoded data removed]",
      "text/plain": [
       "<Figure size 288x1152 with 1 Axes>"
      ]
     },
     "metadata": {
      "needs_background": "light"
     },
     "output_type": "display_data"
    }
   ],
   "source": [
    "plt.matshow(vecs, aspect='auto')"
   ]
  },
  {
   "cell_type": "code",
   "execution_count": 67,
   "metadata": {},
   "outputs": [
    {
     "data": {
      "text/plain": [
       "1349376.0"
      ]
     },
     "execution_count": 67,
     "metadata": {},
     "output_type": "execute_result"
    }
   ],
   "source": [
    "21590016/8/2"
   ]
  },
  {
   "cell_type": "code",
   "execution_count": 69,
   "metadata": {},
   "outputs": [
    {
     "data": {
      "text/plain": [
       "array([[[-1.87693111e+03,  6.52560523e+02, -4.56831015e+01, ...,\n",
       "          4.38896154e+01, -5.37359559e+00,  2.36737335e+01],\n",
       "        [-1.84941826e+03,  6.35793432e+02, -3.88695559e+01, ...,\n",
       "          4.36853699e+01, -4.81026918e+00,  2.42646334e+01],\n",
       "        [-1.80261584e+03,  6.07067484e+02, -2.89233222e+01, ...,\n",
       "          4.24540503e+01, -3.54297262e+00,  2.48704392e+01],\n",
       "        ...,\n",
       "        [-2.01557364e+02, -1.96218408e+02,  2.81443681e+01, ...,\n",
       "         -8.15110172e+00, -1.59010492e+00, -1.08358121e+00],\n",
       "        [-9.54013458e+01, -9.39212404e+01,  1.23074195e+01, ...,\n",
       "         -3.92536374e+00, -1.25683210e+00, -4.74096922e-01],\n",
       "        [-4.39473292e+01, -4.46805283e+01,  5.83392998e+00, ...,\n",
       "         -2.05624969e+00, -6.08360826e-01,  2.04494770e-01]],\n",
       "\n",
       "       [[-2.58074641e+02, -2.14236260e+01,  1.02073260e+01, ...,\n",
       "          1.57146992e+01,  2.52817189e+01, -4.75134350e+00],\n",
       "        [-2.58994485e+02, -1.97003400e+01,  8.47914530e+00, ...,\n",
       "          1.51254755e+01,  2.55126337e+01, -5.43776286e+00],\n",
       "        [-2.59476091e+02, -1.76505965e+01,  6.84611789e+00, ...,\n",
       "          1.51136048e+01,  2.49330931e+01, -5.55062519e+00],\n",
       "        ...,\n",
       "        [-1.44176813e+01, -3.44656661e+00,  9.07778964e-01, ...,\n",
       "          6.18949732e-01,  1.90327830e+00, -1.08431322e+00],\n",
       "        [-5.58740563e+00, -1.94495593e+00,  4.79389053e-01, ...,\n",
       "          6.42847959e-01,  4.16425214e-01,  3.11672559e-01],\n",
       "        [-4.34150237e-01, -7.95052911e-01,  5.29993762e-02, ...,\n",
       "         -3.93323227e-03,  1.24576767e-01,  3.87782039e-01]]])"
      ]
     },
     "execution_count": 69,
     "metadata": {},
     "output_type": "execute_result"
    }
   ],
   "source": [
    "vecs.reshape([2,120000,8])"
   ]
  },
  {
   "cell_type": "code",
   "execution_count": 111,
   "metadata": {},
   "outputs": [
    {
     "data": {
      "text/html": [
       "<div>\n",
       "<style scoped>\n",
       "    .dataframe tbody tr th:only-of-type {\n",
       "        vertical-align: middle;\n",
       "    }\n",
       "\n",
       "    .dataframe tbody tr th {\n",
       "        vertical-align: top;\n",
       "    }\n",
       "\n",
       "    .dataframe thead th {\n",
       "        text-align: right;\n",
       "    }\n",
       "</style>\n",
       "<table border=\"1\" class=\"dataframe\">\n",
       "  <thead>\n",
       "    <tr style=\"text-align: right;\">\n",
       "      <th></th>\n",
       "      <th>d0</th>\n",
       "      <th>d1</th>\n",
       "      <th>d2</th>\n",
       "      <th>d3</th>\n",
       "      <th>d4</th>\n",
       "      <th>d5</th>\n",
       "      <th>d6</th>\n",
       "      <th>d7</th>\n",
       "    </tr>\n",
       "  </thead>\n",
       "  <tbody>\n",
       "    <tr>\n",
       "      <th>0</th>\n",
       "      <td>0.036596</td>\n",
       "      <td>0.868801</td>\n",
       "      <td>0.639078</td>\n",
       "      <td>0.653557</td>\n",
       "      <td>0.661895</td>\n",
       "      <td>0.668548</td>\n",
       "      <td>0.652340</td>\n",
       "      <td>0.661897</td>\n",
       "    </tr>\n",
       "    <tr>\n",
       "      <th>1</th>\n",
       "      <td>0.035798</td>\n",
       "      <td>0.866671</td>\n",
       "      <td>0.641113</td>\n",
       "      <td>0.652613</td>\n",
       "      <td>0.659568</td>\n",
       "      <td>0.668713</td>\n",
       "      <td>0.652500</td>\n",
       "      <td>0.662220</td>\n",
       "    </tr>\n",
       "    <tr>\n",
       "      <th>2</th>\n",
       "      <td>0.034410</td>\n",
       "      <td>0.862804</td>\n",
       "      <td>0.644165</td>\n",
       "      <td>0.651797</td>\n",
       "      <td>0.655532</td>\n",
       "      <td>0.668703</td>\n",
       "      <td>0.652890</td>\n",
       "      <td>0.662658</td>\n",
       "    </tr>\n",
       "    <tr>\n",
       "      <th>3</th>\n",
       "      <td>0.033010</td>\n",
       "      <td>0.858737</td>\n",
       "      <td>0.646332</td>\n",
       "      <td>0.652100</td>\n",
       "      <td>0.650837</td>\n",
       "      <td>0.667854</td>\n",
       "      <td>0.653351</td>\n",
       "      <td>0.662625</td>\n",
       "    </tr>\n",
       "    <tr>\n",
       "      <th>4</th>\n",
       "      <td>0.031809</td>\n",
       "      <td>0.855108</td>\n",
       "      <td>0.647007</td>\n",
       "      <td>0.655732</td>\n",
       "      <td>0.647505</td>\n",
       "      <td>0.666643</td>\n",
       "      <td>0.653927</td>\n",
       "      <td>0.661982</td>\n",
       "    </tr>\n",
       "    <tr>\n",
       "      <th>...</th>\n",
       "      <td>...</td>\n",
       "      <td>...</td>\n",
       "      <td>...</td>\n",
       "      <td>...</td>\n",
       "      <td>...</td>\n",
       "      <td>...</td>\n",
       "      <td>...</td>\n",
       "      <td>...</td>\n",
       "    </tr>\n",
       "    <tr>\n",
       "      <th>119767</th>\n",
       "      <td>0.050383</td>\n",
       "      <td>0.496367</td>\n",
       "      <td>0.759212</td>\n",
       "      <td>0.775401</td>\n",
       "      <td>0.559224</td>\n",
       "      <td>0.664631</td>\n",
       "      <td>0.708122</td>\n",
       "      <td>0.625516</td>\n",
       "    </tr>\n",
       "    <tr>\n",
       "      <th>119768</th>\n",
       "      <td>0.049848</td>\n",
       "      <td>0.497963</td>\n",
       "      <td>0.756301</td>\n",
       "      <td>0.764596</td>\n",
       "      <td>0.550691</td>\n",
       "      <td>0.664984</td>\n",
       "      <td>0.719414</td>\n",
       "      <td>0.627048</td>\n",
       "    </tr>\n",
       "    <tr>\n",
       "      <th>119769</th>\n",
       "      <td>0.051292</td>\n",
       "      <td>0.494458</td>\n",
       "      <td>0.757838</td>\n",
       "      <td>0.770054</td>\n",
       "      <td>0.551525</td>\n",
       "      <td>0.661497</td>\n",
       "      <td>0.713848</td>\n",
       "      <td>0.626769</td>\n",
       "    </tr>\n",
       "    <tr>\n",
       "      <th>119770</th>\n",
       "      <td>0.051579</td>\n",
       "      <td>0.491621</td>\n",
       "      <td>0.759192</td>\n",
       "      <td>0.769517</td>\n",
       "      <td>0.554650</td>\n",
       "      <td>0.661283</td>\n",
       "      <td>0.712302</td>\n",
       "      <td>0.625155</td>\n",
       "    </tr>\n",
       "    <tr>\n",
       "      <th>119771</th>\n",
       "      <td>0.050770</td>\n",
       "      <td>0.492108</td>\n",
       "      <td>0.758542</td>\n",
       "      <td>0.766561</td>\n",
       "      <td>0.557547</td>\n",
       "      <td>0.664254</td>\n",
       "      <td>0.714023</td>\n",
       "      <td>0.620301</td>\n",
       "    </tr>\n",
       "  </tbody>\n",
       "</table>\n",
       "<p>119772 rows × 8 columns</p>\n",
       "</div>"
      ],
      "text/plain": [
       "              d0        d1        d2        d3        d4        d5        d6  \\\n",
       "0       0.036596  0.868801  0.639078  0.653557  0.661895  0.668548  0.652340   \n",
       "1       0.035798  0.866671  0.641113  0.652613  0.659568  0.668713  0.652500   \n",
       "2       0.034410  0.862804  0.644165  0.651797  0.655532  0.668703  0.652890   \n",
       "3       0.033010  0.858737  0.646332  0.652100  0.650837  0.667854  0.653351   \n",
       "4       0.031809  0.855108  0.647007  0.655732  0.647505  0.666643  0.653927   \n",
       "...          ...       ...       ...       ...       ...       ...       ...   \n",
       "119767  0.050383  0.496367  0.759212  0.775401  0.559224  0.664631  0.708122   \n",
       "119768  0.049848  0.497963  0.756301  0.764596  0.550691  0.664984  0.719414   \n",
       "119769  0.051292  0.494458  0.757838  0.770054  0.551525  0.661497  0.713848   \n",
       "119770  0.051579  0.491621  0.759192  0.769517  0.554650  0.661283  0.712302   \n",
       "119771  0.050770  0.492108  0.758542  0.766561  0.557547  0.664254  0.714023   \n",
       "\n",
       "              d7  \n",
       "0       0.661897  \n",
       "1       0.662220  \n",
       "2       0.662658  \n",
       "3       0.662625  \n",
       "4       0.661982  \n",
       "...          ...  \n",
       "119767  0.625516  \n",
       "119768  0.627048  \n",
       "119769  0.626769  \n",
       "119770  0.625155  \n",
       "119771  0.620301  \n",
       "\n",
       "[119772 rows x 8 columns]"
      ]
     },
     "execution_count": 111,
     "metadata": {},
     "output_type": "execute_result"
    }
   ],
   "source": [
    "df_norm"
   ]
  },
  {
   "cell_type": "code",
   "execution_count": 112,
   "metadata": {},
   "outputs": [],
   "source": [
    "from util.prepro import get_encode_stream"
   ]
  },
  {
   "cell_type": "code",
   "execution_count": 114,
   "metadata": {},
   "outputs": [
    {
     "name": "stdout",
     "output_type": "stream",
     "text": [
      "samples: 119772 ftrs: 8 base: 22\n"
     ]
    }
   ],
   "source": [
    "stream1D=get_encode_stream(df_norm, 22,'uint64')"
   ]
  },
  {
   "cell_type": "code",
   "execution_count": 115,
   "metadata": {},
   "outputs": [
    {
     "data": {
      "text/plain": [
       "array([36583915281, 36583915281, 36583915765, ..., 34202491357,\n",
       "       34202491357, 34202491357], dtype=uint64)"
      ]
     },
     "execution_count": 115,
     "metadata": {},
     "output_type": "execute_result"
    }
   ],
   "source": [
    "stream1D"
   ]
  },
  {
   "cell_type": "code",
   "execution_count": 117,
   "metadata": {},
   "outputs": [],
   "source": [
    "a=None"
   ]
  },
  {
   "cell_type": "code",
   "execution_count": 118,
   "metadata": {},
   "outputs": [
    {
     "ename": "SyntaxError",
     "evalue": "'return' outside function (<ipython-input-118-36a3bade4178>, line 2)",
     "output_type": "error",
     "traceback": [
      "\u001b[0;36m  File \u001b[0;32m\"<ipython-input-118-36a3bade4178>\"\u001b[0;36m, line \u001b[0;32m2\u001b[0m\n\u001b[0;31m    return 1\u001b[0m\n\u001b[0m    ^\u001b[0m\n\u001b[0;31mSyntaxError\u001b[0m\u001b[0;31m:\u001b[0m 'return' outside function\n"
     ]
    }
   ],
   "source": [
    "if a:\n",
    "    return 1\n",
    "else:\n",
    "    return 3"
   ]
  }
 ],
 "metadata": {
  "kernelspec": {
   "display_name": "Python 3.8.2 64-bit ('ptorch': conda)",
   "language": "python",
   "name": "python38264bitptorchconda526be3fe34db4c6e9ce522e086b57990"
  },
  "language_info": {
   "codemirror_mode": {
    "name": "ipython",
    "version": 3
   },
   "file_extension": ".py",
   "mimetype": "text/x-python",
   "name": "python",
   "nbconvert_exporter": "python",
   "pygments_lexer": "ipython3",
   "version": "3.8.2"
  }
 },
 "nbformat": 4,
 "nbformat_minor": 4
}
